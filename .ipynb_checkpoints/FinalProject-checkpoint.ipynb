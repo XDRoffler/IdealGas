{
 "cells": [
  {
   "cell_type": "markdown",
   "metadata": {},
   "source": [
    "<h1 style=\"text-align:center;\">Project: Simulation of an ideal gas</h1>\n",
    "<p style=\"text-align:center;\">by Simon Legtenborg, 3773994</p>\n",
    "<p style=\"text-align:center;\">https://github.com/slegt/IdealGas</p>"
   ]
  },
  {
   "cell_type": "code",
   "execution_count": null,
   "metadata": {},
   "outputs": [],
   "source": [
    "import numpy as np\n",
    "import matplotlib.pyplot as plt\n",
    "import random\n",
    "import ipywidgets as widgets\n",
    "from ipycanvas import Canvas, hold_canvas\n",
    "from time import sleep\n",
    "from threading import Thread\n",
    "from scipy.optimize import curve_fit"
   ]
  },
  {
   "cell_type": "markdown",
   "metadata": {},
   "source": [
    "<h2> Introduction </h2>"
   ]
  },
  {
   "cell_type": "markdown",
   "metadata": {},
   "source": [
    "One of the most fascinating topics in thermodynamics is the interaction between marco- and microphysics. Therefore my goal is to develop a gas simulation on a microscopic level that can calculate macroscopic states. This allows us to verify the state equations (2nd Gay-Lussac's law, Boyle-Mariotte law, ideal gas equation) that we have already derived from our physics lectures. \n",
    "The work also provides an interactive simulation."
   ]
  },
  {
   "cell_type": "markdown",
   "metadata": {},
   "source": [
    "<h2>Fundamentals</h2>"
   ]
  },
  {
   "cell_type": "markdown",
   "metadata": {},
   "source": [
    "Before we get to the simulation, it is necessary to explain the physical laws that we want to verify afterwards."
   ]
  },
  {
   "cell_type": "markdown",
   "metadata": {},
   "source": [
    "<h3>State equations</h3>\n",
    "\n",
    "In the simulation, volume, temperature and particle number can be varied or kept constant. So it makes sense to have a look at the laws of Boyle-Mariotte and Gay-Lussac (2nd law):"
   ]
  },
  {
   "cell_type": "markdown",
   "metadata": {},
   "source": [
    "<b>Boyle-Mariotte law: </b>If a fixed amount (N) of an ideal gas is kept at a constant temperature (T), while pressure (p) and volume (V) are variable, then the volume is indirectly proportional\n",
    "to the pressure:<br>\n",
    "$N,T \\hbox{ konst.} \\Rightarrow V \\propto \\frac{1}{p}$"
   ]
  },
  {
   "cell_type": "markdown",
   "metadata": {},
   "source": [
    "<b>2. Gay-Lussac's law: </b>If a fixed amount (N) of an ideal gas is kept at a constant volume (V) while the temperature (T) or pressure (p) changes, the pressure is proportional to the temperature:<br>\n",
    "$N, V \\hbox{ konst. } \\Rightarrow p \\propto T$"
   ]
  },
  {
   "cell_type": "markdown",
   "metadata": {},
   "source": [
    "For a fixed amount of an ideal gas, we  have:<br>\n",
    "\n",
    "<ol>\n",
    "    <li>$p \\propto \\frac{1}{V}\\;\\;$ if T is constant</li>\n",
    "    <li>$p \\propto T\\;\\;$ if V is constant</li>\n",
    "</ol>\n",
    "\n",
    "If we combine both equations, we get: <br>\n",
    "$p \\propto \\frac{T}{V} \\Rightarrow \\frac{p \\cdot V}{T}=const.$\n",
    "\n",
    "If we vary the number of particles, we obtain the ideal gas equation: <br>\n",
    "$p \\cdot V = N \\cdot k_B \\cdot T$\n",
    "\n"
   ]
  },
  {
   "cell_type": "markdown",
   "metadata": {},
   "source": [
    "<b>Combining Proportionalities:  </b> To show the ideal gas equation, it is enough to show the following equations:\n",
    "<ol>\n",
    "    <li>     $p \\propto \\frac{1}{V}\\;\\;$ if N, T = const.</li>\n",
    "    <li>     $p \\propto T\\;\\;$ if N, V = const.</li>\n",
    "    <li>     $p \\propto N\\;\\;$ if T, V = const. </li>\n",
    "</ol>\n",
    "\n",
    "Proof:\n",
    "The three equations imply $\\forall$T,N,V:\n",
    "<ol>\n",
    "    <li>     $p=k_1(T,N) \\cdot \\frac{1}{V}$</li>\n",
    "    <li>     $p=k_2(V,N) \\cdot T$</li>\n",
    "    <li>     $p=k_3(V,T) \\cdot N$</li>\n",
    "</ol>\n",
    "\n",
    "Combining 1. and 2. equation:<br>\n",
    "\n",
    "$\n",
    "\\begin{align*}\n",
    "    &k_1(T,N) \\cdot \\frac{1}{V}=k_2(V,N) \\cdot T\\\\\n",
    "    &\\Rightarrow \\frac{k_1(T,N)}{T}=k_2(V,N) \\cdot V \\stackrel{!}{=} K(N)\\\\\n",
    "    &\\Rightarrow k_2(V,N)=\\frac{K(N)}{V}\\\\\n",
    "    &\\Rightarrow p(V,T,N) = K(N) \\cdot \\frac{T}{V}\n",
    "\\end{align*}\n",
    "$<br>\n",
    "\n",
    "Combining the new equation with the 3. equation:<br>\n",
    "\n",
    "$\n",
    "\\begin{align*}\n",
    "    &K(N) \\cdot \\frac{T}{V}=k_3(V,T) \\cdot N\\\\\n",
    "    &\\Rightarrow \\frac{K(N)}{N}=k_3(V,T) \\cdot \\frac{V}{T} \\stackrel{!}{=} k_B\\\\\n",
    "    &\\Rightarrow k_3(V,T) = k_B \\cdot \\frac{T}{V}\\\\\n",
    "    &\\Rightarrow p(V,T,N) = k_B \\cdot \\frac{T}{V} \\cdot N = N \\cdot k_b \\cdot \\frac{T}{V}\n",
    "\\end{align*}\n",
    "$<br>"
   ]
  },
  {
   "cell_type": "markdown",
   "metadata": {},
   "source": [
    "<h3> The ideal gas model </h3>\n",
    "\n",
    "The laws described above assume that we are working with an ideal gas. Therefore, I will explain what an ideal gas is and how it can be simulated."
   ]
  },
  {
   "cell_type": "markdown",
   "metadata": {},
   "source": [
    "The following assumptions entirely describe the model of the ideal gas:\n",
    "\n",
    "<ul>\n",
    "    <li>atoms/molecules are approximated by small rigid spheres with radius</li>\n",
    "    <li>N spheres exist in a box; position, velocity, mass and radius are known</li>\n",
    "    <li>the Velocity is statistically distributed </li>\n",
    "    <li>particles only interact with the wall or other particles through elastic collisions</li>\n",
    "    <li>sphere radius is small compared to the mean distance of the particles</li>\n",
    "</ul>\n",
    "\n",
    "<table>\n",
    "  <tr>\n",
    "    <td style=\"background-color:white\">\n",
    "        <figure>\n",
    "          <img src=\"images/video1.gif\" alt=\"WallBounce\" style=\"width:100%\">\n",
    "          <figcaption>elastic collision between sphere and wall</figcaption>\n",
    "        </figure>\n",
    "    </td>\n",
    "    <td style=\"background-color:white\">\n",
    "        <figure>\n",
    "          <img src=\"images/video2.gif\" alt=\"Bounce\" style=\"width:100%\">\n",
    "          <figcaption>elastic collision between two spheres</figcaption>\n",
    "        </figure>\n",
    "    </td>\n",
    "  </tr>\n",
    "</table>"
   ]
  },
  {
   "cell_type": "markdown",
   "metadata": {},
   "source": [
    "<h3>The mathematics behind collisions</h3>\n",
    "\n",
    "Collisions are the only way particles can interact with each other. For this reason, it is also the focus of the simulation."
   ]
  },
  {
   "cell_type": "markdown",
   "metadata": {},
   "source": [
    "<b>The mathematics of elastic collisions in 1D: </b>During an ideal elastic collision, two objects collide with each other without losing kinetic energy. The law of conservation of energy and momentum therefore applies:<br><br>\n",
    "$\n",
    "\\begin{align*}\n",
    "   &\\sum E_{kin}=\\sum E_{kin}'\\\\\n",
    "   &\\frac{m_1}{2} \\cdot v_1^2+\\frac{m_2}{2} \\cdot v_2^2 = \\frac{m_1}{2} \\cdot {v_1'}^2\n",
    "   + \\frac{m_2}{2} \\cdot {v_2'}^2\\\\\n",
    "   &\\frac{m_1}{2} \\cdot (v_1^2-{v_1'}^2)=\\frac{m_2}{2} \\cdot ({v_2'}^2-v_2^2)\\\\\\\\\n",
    "   &\\sum \\vec{p}= \\sum \\vec{p'}\\\\\n",
    "   &m_1 \\cdot \\vec{v_1}+m_2 \\cdot \\vec{v_2} = m_1 \\cdot \\vec{v_1'}\n",
    "   + m_2 \\cdot \\vec{v_2'}\\\\\n",
    "   &m_1 \\cdot (\\vec{v_1}-\\vec{v_1'})=m_2 \\cdot (\\vec{v_2'}-\\vec{v_2})\\\\\n",
    "\\end{align*}\n",
    "$<br><br>\n",
    "\n",
    "By appropriate rearranging (see Demtröder) the following results for $v_1'$ and $v_2'$ are:<br>\n",
    "    \n",
    "$\n",
    "\\begin{align*}\n",
    "    &v_1'=2 \\frac{m_1 v_1+m_2 v_2}{m_1 + m_2}-v_1\\\\\n",
    "    &v_2'=2 \\frac{m_1 v_1+m_2v_2}{m_1+m_2}-v_2\n",
    "\\end{align*}\n",
    "$\n",
    " \n",
    "    \n",
    "If $m_2 \\to \\infty$ and $v_2=0$ (a wall), we have:<br>\n",
    "$\n",
    "\\begin{align*}\n",
    "    &v_1'=-v_1\\\\\n",
    "    &v_2'=0\n",
    "\\end{align*}\n",
    "$"
   ]
  },
  {
   "cell_type": "markdown",
   "metadata": {},
   "source": [
    "<b>The mathematics of elastic collisions in 2D:</b> The two-dimensional elastic collision is based on the one-dimensional collision. For the calculation we need a suitable coordinate system, which has an axis perpendicular and an axis parallel to the central gradient. The central gradient describes the straight line through the centers of the spheres. The calculation for the collision is the same as in the one-dimensional case, but only in the direction of the central gradient.<br>\n",
    "    \n",
    "<figure style=\"float:left;\">\n",
    "    <img src=\"./images/asset6.svg\", width=300px style=\"margin:10px\">\n",
    "    <figcaption>collision in 2d</figcaption>\n",
    "</figure>\n",
    "\n",
    "<p>\n",
    "        $\n",
    "        \\begin{align*}\n",
    "            &\\vec{v_1} =\n",
    "            \\begin{pmatrix}\n",
    "                v_{1x}\\\\\n",
    "                v_{1y}\n",
    "            \\end{pmatrix},\n",
    "            \\vec{v_2} =\n",
    "            \\begin{pmatrix}\n",
    "                v_{2x}\\\\\n",
    "                v_{2y}\n",
    "            \\end{pmatrix}\\\\\n",
    "            &\\vec{v_1'}=\n",
    "            \\begin{pmatrix}\n",
    "                2 \\frac{m_1 v_{1x}+m_2 v_{2x}}{m_1 + m_2}-v_{1x}\\\\\n",
    "                v_{1y}\n",
    "            \\end{pmatrix}\\\\\n",
    "            &\\vec{v_2'}=\n",
    "            \\begin{pmatrix}\n",
    "                2 \\frac{m_1 v_{1x}+m_2 v_{2x}}{m_1 + m_2}-v_{2x}\\\\\n",
    "                v_{2y}\n",
    "            \\end{pmatrix}\n",
    "        \\end{align*}\n",
    "        $\n",
    "</p>\n",
    "    \n",
    "    \n",
    "\n",
    "\n",
    "    "
   ]
  },
  {
   "cell_type": "markdown",
   "metadata": {},
   "source": [
    "<b>Coordinate transformation: </b> The most important assumption for the calculation of two-dimensional collisions is a suitable coordinate system, which is not given trivially. For the simulation we use the canonical basis. To get our new coordinate system, we use a base transformation matrix U. Since U is a rotated canonical coordinate system, the transformation matrix can be interpreted as a rotation matrix.\n",
    "\n",
    "<figure style=\"float:left;\">\n",
    "    <img src=\"./images/asset7.svg\" width=300px style=\"margin:10px\">\n",
    "    <figcaption>rotated coordinate system</figcaption>\n",
    "</figure>\n",
    "\n",
    "<p>\n",
    "$\n",
    "\\begin{align*}\n",
    "    &U_{\\alpha} = \n",
    "    \\begin{pmatrix}\n",
    "        &\\cos(\\alpha) &-\\sin(\\alpha)\\\\\n",
    "        &\\sin(\\alpha) & \\cos(\\alpha)\n",
    "    \\end{pmatrix}\n",
    "\\end{align*}\n",
    "$<br>\n",
    "\n",
    "If we want to get back from the new basis to the canonical one, we calculate the inverse matrix. For the rotation matrix then applies:<br>\n",
    "$\n",
    "\\begin{align*}\n",
    "    &U_{\\alpha}^{-1} = \n",
    "    \\begin{pmatrix}\n",
    "        &\\cos(-\\alpha) &-\\sin(-\\alpha)\\\\\n",
    "        &\\sin(-\\alpha) & \\cos(-\\alpha)\n",
    "    \\end{pmatrix}\n",
    "\\end{align*}\n",
    "$<br>\n",
    "\n",
    "Essential for the calculation of the rotation matrix is the angle $\\alpha$. It can be calculated using the atan2 function:<br>\n",
    "$\n",
    "\\begin{align*}\n",
    "    &\\alpha = \\arctan2(dy,dx) \\\\\n",
    "\\end{align*}\n",
    "$<br>\n",
    "</p>"
   ]
  },
  {
   "cell_type": "markdown",
   "metadata": {},
   "source": [
    "<h3>Equations of the kinetic gas theory</h3>"
   ]
  },
  {
   "cell_type": "markdown",
   "metadata": {},
   "source": [
    "<p><b>Pressure: </b>Pressure is caused by the transmission of impulses when colliding against the walls. \n",
    "<figure style=\"float:right; margin:10px\">\n",
    "    <img src=\"./images/asset8.svg\" width=300px>\n",
    "    <figcaption>derivation of pressure in ideal gas</figcaption>\n",
    "</figure>\n",
    "In the time interval $dt$ all particles located in the volume $v_x dt \\cdot A$ with velocity $v_x$ in positive x-direction collide against the wall: <br>\n",
    "$\n",
    "\\begin{align*}\n",
    "&N_s= N_x \\frac{v_x dt \\cdot A}{V}\n",
    "\\end{align*}\n",
    "$<br>\n",
    "$N_x$ is the number of all particles that have the velocity $v_x$ in positive x-direction and $N_s$ are all Particles, which collide with the wall in the time interval dt. A particle transmits the impulse $2mv_x$. With the help of the formulas:<br>\n",
    "$\n",
    "\\begin{align*}\n",
    "&p = \\frac{F}{A} &&F= \\frac{dP}{dt} && P = N_s \\cdot 2mv_x\n",
    "\\end{align*}\n",
    "$<br>\n",
    "we obtain the following:<br>\n",
    "$\n",
    "\\begin{align*}\n",
    "p(v_x)= \\frac{1}{A} \\cdot \\frac{1}{dt}\\left( N_x \\cdot \\frac{v_x dt \\cdot A}{V}\\cdot 2mv_x\\right)= 2 \\frac{N_x}{V}mv_x^2\n",
    "\\end{align*}\n",
    "$<br>\n",
    "Not all particles have the same velocity, but the velocity distribution is isotropic. This means:<br>\n",
    "$\\overline{v_x^2}=\\overline{v_y^2}=\\frac{1}{2}\\overline{v^2}$<br>\n",
    "    Since on average the same number of particles move in +x and in -x direction the factor  $\\frac{1}{2}$ is added:<br>\n",
    "$\n",
    "\\begin{align*}\n",
    "p=\\frac{N}{V}m\\overline{v_x^2}=\\frac{1}{2} \\frac{N}{V}m \\overline{v^2}\n",
    "\\end{align*}\n",
    "$"
   ]
  },
  {
   "cell_type": "markdown",
   "metadata": {},
   "source": [
    "<p><b>kinetic energy: </b> With the help of the relation: $\\overline{E_{kin}}=\\frac{m}{2}\\overline{v^2}$ follows $p=\\frac{N}{V}\\cdot \\overline{E_{kin}}$. With the state equation $pV=Nk_bT$ it results in: $\\overline{E_{kin}}=k_bT$"
   ]
  },
  {
   "cell_type": "markdown",
   "metadata": {},
   "source": [
    "<h2>Results and Discussion</h2>"
   ]
  },
  {
   "cell_type": "markdown",
   "metadata": {},
   "source": [
    "Now the necessary theory is known to program the simulation of an ideal gas. It consists of two classes. Firstly the <i>particle</i> class and secondly the <i>simulation</i> class. In the following the classes are briefly described:"
   ]
  },
  {
   "cell_type": "markdown",
   "metadata": {},
   "source": [
    "<h3>particle class</h3>\n",
    "The Particle class is intended to hold the properties and methods of a particle. It is used to create objects."
   ]
  },
  {
   "cell_type": "markdown",
   "metadata": {},
   "source": [
    "<b>The class contains the following properties: </b>\n",
    "\n",
    "<ul>\n",
    "    <li>mass m (kg)</li>\n",
    "    <li>position px,py (m)</li>\n",
    "    <li>base velocity vx,vy (m/s) </li>\n",
    "    <li>sphere radius r (m) </li>\n",
    "    <li>ratio</li>\n",
    "</ul>\n",
    "\n",
    "The first four properties are self-explanatory. The fifth property describes the amount of the base velocity that the particles have."
   ]
  },
  {
   "cell_type": "markdown",
   "metadata": {},
   "source": [
    "<b>The class contains the following methods: </b>\n",
    "\n",
    "<ul>\n",
    "    <li><i>move</i> moves the particle according to the time interval and it's velocity </li>\n",
    "    <li><i>bounceWall</i> Corrects velocity and position if a particle overlaps with a wall</li>\n",
    "    <li><i>bounce</i> Corrects velocity and position if two particles collide</li>\n",
    "    <li><i>getKineticEnergy</i> returns the kinetic energy of the particle</li>\n",
    "</ul>"
   ]
  },
  {
   "cell_type": "code",
   "execution_count": null,
   "metadata": {},
   "outputs": [],
   "source": [
    "class particle:\n",
    "    \n",
    "    def rotMat(alpha, x):\n",
    "        return np.array([[np.cos(alpha), -np.sin(alpha)], [np.sin(alpha), np.cos(alpha)]]).dot(x)\n",
    "    \n",
    "    def __init__(self, m, x,y, vx, vy,r, color):\n",
    "        self.m = m     #kg\n",
    "        self.vx = vx   #m/s\n",
    "        self.vy = vy   #m/s\n",
    "        self.x = x     #m\n",
    "        self.y = y     #m\n",
    "        self.r = r     #m\n",
    "        self.ratio = 1\n",
    "        self.color = color\n",
    "    \n",
    "    def move(self, dt, ratio):\n",
    "            self.x = self.vx * ratio * dt+ self.x\n",
    "            self.y = self.vy * ratio * dt + self.y\n",
    "            self.ratio = ratio\n",
    "            \n",
    "    def bounceWall(self,n):\n",
    "        match n:\n",
    "            case 0:\n",
    "                self.vx = -self.vx\n",
    "                self.x = 2*self.r - self.x\n",
    "            case 1:\n",
    "                self.vx = -self.vx\n",
    "                self.x= 2*(simulation.width.value*10**-12-self.r)-self.x\n",
    "            case 2:\n",
    "                self.vy = -self.vy\n",
    "                self.y = 2*self.r-self.y\n",
    "            case 3:\n",
    "                self.vy = -self.vy\n",
    "                self.y = 2*(simulation.height-self.r)-self.y\n",
    "                \n",
    "    def bounce(self,p):\n",
    "        dx = self.x-p.x\n",
    "        dy = -(self.y-p.y)\n",
    "        d = np.sqrt(dx**2+dy**2)\n",
    "        alpha = np.arctan2(dy,dx)\n",
    "        \n",
    "        p1=np.array([self.x,self.y])\n",
    "        p2=np.array([p.x,p.y])\n",
    "        p1s=particle.rotMat(alpha,p1)\n",
    "        p2s=particle.rotMat(alpha,p2)\n",
    "        p1ns=np.array([p1s[0]+(self.r+p.r-d)/2,p1s[1]])\n",
    "        p2ns=np.array([p2s[0]-(self.r+p.r-d)/2,p2s[1]])\n",
    "        p1n=particle.rotMat(-alpha,p1ns)\n",
    "        p2n=particle.rotMat(-alpha,p2ns)\n",
    "        self.x=p1n[0]\n",
    "        self.y=p1n[1]\n",
    "        p.x=p2n[0]\n",
    "        p.y=p2n[1]\n",
    "         \n",
    "        v1 = np.array([self.vx, self.vy])\n",
    "        v2 = np.array([p.vx, p.vy])\n",
    "        v1s = particle.rotMat(alpha,v1)\n",
    "        v2s = particle.rotMat(alpha,v2)\n",
    "        v1ns=(2*(self.m*v1s[0]+p.m*v2s[0])/(self.m+p.m)-v1s[0],v1s[1])\n",
    "        v2ns=(2*(self.m*v1s[0]+p.m*v2s[0])/(self.m+p.m)-v2s[0],v2s[1])\n",
    "        v1n= particle.rotMat(-alpha,v1ns)\n",
    "        v2n= particle.rotMat(-alpha,v2ns)\n",
    "        self.vx = v1n[0]\n",
    "        self.vy = v1n[1]\n",
    "        p.vx = v2n[0]\n",
    "        p.vy = v2n[1]\n",
    "        \n",
    "    def getKineticEnergy(self,dt):\n",
    "        return 1/2 * self.m * ((self.vx*self.ratio)**2+(self.vy*self.ratio)**2)"
   ]
  },
  {
   "cell_type": "markdown",
   "metadata": {},
   "source": [
    "<h3>simulation class</h3>\n",
    "This class is used to generate, move and visualize particles, register collisions and output statistical parameters (temperature, pressure, volume). No objects are created from it."
   ]
  },
  {
   "cell_type": "markdown",
   "metadata": {},
   "source": [
    "<b>The class contains the following properties: </b>\n",
    "\n",
    "<ul>\n",
    "    <li><i>p </i> Array in which all particles are stored</li>\n",
    "    <li><i>startSimulation </i> The simulation continues until​ startSimulation=false</li>\n",
    "    <li><i>height </i>Height of the box</li>\n",
    "    <li><i>width </i>Width of the box (IntSlider)</li>\n",
    "    <li><i>veloRatio </i>Ratio of all Particles (FloatSlider)</li>\n",
    "    <li><i>dt </i> time interval</li>\n",
    "    <li><i>radius </i>Radius defined for the generated spheres</li>\n",
    "    <li><i>mass </i>Mass of the generated spheres </li>\n",
    "    <li><i>k </i>Boltzmann constant</li>\n",
    "    <li><i>t </i>total time</li>\n",
    "    <li><i>E_kin </i>total energy of the particles</li>\n",
    "    <li><i>impulse </i>Array for measured impulses</li>\n",
    "    <li><i>buttonAdd/buttonRem </i> Buttons to add/remove particles</li>\n",
    "    <li><i>buttonStart/buttonStop </i>Buttons to start/stop simulation</li>\n",
    "    <li><i>textVolume/textPressure/textTemperature/textParticles </i>Output (FloatText)</li>\n",
    "</ul>\n"
   ]
  },
  {
   "cell_type": "markdown",
   "metadata": {},
   "source": [
    "<b>The class contains the following methods: </b>\n",
    "\n",
    "<ul>\n",
    "    <li><i>generateParticles </i>generates n particles with random position and velocity</li>\n",
    "    <li><i>generateParticlesUniformly</i> generates n particles with random position and random velocity direction, but fixed velocity magnitude</li>\n",
    "    <li><i>removeParticles </i>removes the last n particles</li>\n",
    "    <li><i>deleteParticles </i>removes all particles</li>\n",
    "    <li><i>addParticle </i>adds a new particle</li>\n",
    "    <li><i>reset </i>resets simulation values</li>\n",
    "    <li><i>animateParticles </i>calculates and animates simulation. Is only called as a thread</li>\n",
    "    <li><i>collisionTest </i>checks if particles have collided and corrects position and velocity; collects values for pressure and temperature output</li>\n",
    "    <li><i>updateValue </i>updates volume, pressure, temperature and time</li>\n",
    "    <li>initialize <i></i>starts animateParticles thread and displays canvas</li>\n",
    "    <li>start <i></i>starts animateParticles thread</li>\n",
    "    <li><i>stop </i> stops animateParticles thread</li>\n",
    "    <li><i>interactive </i> starts the interactive simulation</li>\n",
    "    \n",
    "    \n",
    "    \n",
    "</ul>"
   ]
  },
  {
   "cell_type": "code",
   "execution_count": null,
   "metadata": {},
   "outputs": [],
   "source": [
    "class simulation:\n",
    "    \n",
    "    p = []\n",
    "    startSimulation=False\n",
    "    \n",
    "    height = 3000e-12        #m (3000pm)\n",
    "    width = widgets.IntSlider(min=500, max= 10000, value=10000, description=\"Width (pm) \")\n",
    "    veloRatio = widgets.FloatSlider(min=0.1,max=2, value=1,step=0.01, description=\"Velocity (%)\")\n",
    "\n",
    "    dt = 20e-15              #s (20fs)\n",
    "    radius = 30e-12          #m (20pm)\n",
    "    mass = 2.6569e-26        #kg\n",
    "    k = 1.380649 *10**-23    #J/K\n",
    "    \n",
    "    t = 0\n",
    "    E_kin = 0\n",
    "    impulse = np.zeros(50)\n",
    "    \n",
    "    \n",
    "    buttonAdd = widgets.Button(description=\"+\")\n",
    "    buttonRem = widgets.Button(description=\"-\")\n",
    "    buttonStart = widgets.Button(description=\"start\")\n",
    "    buttonStop = widgets.Button(description=\"stop\")\n",
    "    \n",
    "    textVolume = widgets.FloatText(description=\"Volume (pm³)\", disabled=True)\n",
    "    textPressure = widgets.FloatText(description=\"Press. (Pa)\", disabled=True)\n",
    "    textTemperature = widgets.FloatText(description=\"Temp. (K)\", disabled=True)\n",
    "    textParticles = widgets.IntText(disabled = True)\n",
    "    \n",
    "    canvas = Canvas(width = width.max/10, height=height*10**12/10)\n",
    "    \n",
    "    def generateParticles(button=widgets.Button(), n=10):\n",
    "        for _ in range(n):\n",
    "            v = random.randint(0,2000)\n",
    "            alpha = random.random() * 2 * np.pi\n",
    "            simulation.p.append(particle(\n",
    "                simulation.mass,\n",
    "                random.randint(0,simulation.width.value)*10**-12,\n",
    "                random.randint(0,simulation.height*10**12)*10**-12,\n",
    "                v * np.cos(alpha),\n",
    "                v * np.sin(alpha),\n",
    "                simulation.radius,\n",
    "                \"black\"))\n",
    "            simulation.textParticles.value = len(simulation.p)\n",
    "                \n",
    "            \n",
    "    def generateParticlesUniformly(n=10, v = 1000):\n",
    "        for _ in range(n):\n",
    "            alpha = random.random() * 2 * np.pi\n",
    "            simulation.p.append(particle(\n",
    "                2.6569e-26,\n",
    "                random.randint(0,simulation.width.value)*10**-12,\n",
    "                random.randint(0,simulation.height*10**12)*10**-12,\n",
    "                v * np.cos(alpha),\n",
    "                v * np.sin(alpha),\n",
    "                simulation.radius,\n",
    "                \"black\"))\n",
    "            simulation.textParticles.value = len(simulation.p)\n",
    "    \n",
    "    def removeParticles(button=widgets.Button(), n=10):\n",
    "            for _ in range(n):\n",
    "                if simulation.p:\n",
    "                    simulation.p.pop()\n",
    "            simulation.textParticles.value = len(simulation.p)\n",
    "\n",
    "    def deleteParticles():\n",
    "        simulation.p = []\n",
    "    \n",
    "    def addParticle(particle):\n",
    "        simulation.p.append(particle)\n",
    "    \n",
    "    def reset():\n",
    "        simulation.width.value=4000\n",
    "        simulation.veloRatio.value=1\n",
    "        simulation.impulse = np.zeros(50)\n",
    "        simulation.t = 0\n",
    "        simulation.deleteParticles()\n",
    "        simulation.stop()\n",
    "                        \n",
    "    def animateParticles():     #1px = 10pm\n",
    "        while simulation.startSimulation:\n",
    "            with hold_canvas():\n",
    "                simulation.canvas.clear()\n",
    "                simulation.canvas.stroke_rect(0,0,width=simulation.width.value/10,height=simulation.height*10**12/10)\n",
    "                for i in simulation.p:\n",
    "                    simulation.canvas.fill_style = i.color\n",
    "                    simulation.canvas.fill_circle(i.x*10**12/10, i.y*10**12/10, i.r*10**12/10)\n",
    "                    i.move(simulation.dt, simulation.veloRatio.value)\n",
    "            \n",
    "            simulation.collisionTest()\n",
    "            simulation.updateValues()\n",
    "            sleep(simulation.dt*10**12)\n",
    "            \n",
    "    def collisionTest():\n",
    "        count = 1\n",
    "        for i in simulation.p:\n",
    "            for j in simulation.p[count::]:\n",
    "                dx = j.x-i.x\n",
    "                dy = j.y-i.y\n",
    "                if dx**2+dy**2 < (i.r+j.r)**2:\n",
    "                     if (dx*i.vx <=0 and dx*j.vx >=0 ) and (dy*i.vy <=0 and dy*j.vy >=0 ):\n",
    "                        pass \n",
    "                     else:\n",
    "                        i.bounce(j)\n",
    "            count = count + 1\n",
    "            \n",
    "            if i.x < i.r:\n",
    "                i.bounceWall(0)\n",
    "                simulation.impulse[0] = simulation.impulse[0] + abs(2 * i.m * i.vx * i.ratio)\n",
    "            elif i.x > simulation.width.value*10**-12-i.r:\n",
    "                i.bounceWall(1)\n",
    "                simulation.impulse[0] = simulation.impulse[0] + abs(2 * i.m * i.vx * i.ratio)\n",
    "                \n",
    "            if i.y < i.r:\n",
    "                i.bounceWall(2)\n",
    "                simulation.impulse[0] = simulation.impulse[0] + abs(2 * i.m * i.vy * i.ratio)\n",
    "            elif i.y > simulation.height-i.r:\n",
    "                i.bounceWall(3)\n",
    "                simulation.impulse[0] = simulation.impulse[0] + abs(2 * i.m * i.vy * i.ratio)\n",
    "            \n",
    "            simulation.E_kin = simulation.E_kin + i.getKineticEnergy(simulation.dt)\n",
    "\n",
    "        \n",
    "    def updateValues():\n",
    "        simulation.textVolume.value=simulation.width.value*10**(-12) * simulation.height * 2 *simulation.radius\n",
    "        simulation.textPressure.value = np.mean(simulation.impulse)/(simulation.dt * 4 *simulation.radius *(simulation.width.value*10**(-12) +simulation.height))\n",
    "        simulation.impulse = np.roll(simulation.impulse,1)\n",
    "        simulation.impulse[0] = 0\n",
    "        simulation.t = simulation.t+ simulation.dt\n",
    "        if simulation.p:\n",
    "            simulation.E_kin = simulation.E_kin/len(simulation.p)\n",
    "            simulation.textTemperature.value= simulation.E_kin/simulation.k\n",
    "        simulation.E_kin = 0\n",
    "        \n",
    "    def initialize():\n",
    "        simulation.startSimulation=False\n",
    "        display(simulation.canvas)\n",
    "        simulation.start()\n",
    "        \n",
    "            \n",
    "    def start(button=widgets.Button()):\n",
    "        simulation.startSimulation = True\n",
    "        t = Thread(target=simulation.animateParticles, daemon=True)\n",
    "        t.start()\n",
    "        \n",
    "    def stop(button=widgets.Button()):\n",
    "        simulation.startSimulation = False\n",
    "        \n",
    "        \n",
    "    def interactive():\n",
    "        simulation.startSimulation=False\n",
    "        simulation.buttonAdd.on_click(simulation.generateParticles)\n",
    "        simulation.buttonRem.on_click(simulation.removeParticles)\n",
    "        simulation.buttonStart.on_click(simulation.start)\n",
    "        simulation.buttonStop.on_click(simulation.stop)\n",
    "\n",
    "        items = [widgets.HBox([simulation.buttonAdd, simulation.buttonRem, simulation.textParticles]),\n",
    "                 simulation.textVolume, simulation.buttonStart, \n",
    "                 simulation.width, simulation.textPressure, simulation.buttonStop, \n",
    "                 simulation.veloRatio, simulation.textTemperature]\n",
    "        w = widgets.GridBox(items, layout=widgets.Layout(grid_template_columns=\"repeat(3, 300px)\"))\n",
    "\n",
    "        display(w)\n",
    "        display(simulation.canvas)\n",
    "\n",
    "         "
   ]
  },
  {
   "cell_type": "markdown",
   "metadata": {},
   "source": [
    "With these two classes we are well prepared to start our simulation of the ideal gas!"
   ]
  },
  {
   "cell_type": "markdown",
   "metadata": {},
   "source": [
    "<h3>Basic assumptions</h3>"
   ]
  },
  {
   "cell_type": "markdown",
   "metadata": {},
   "source": [
    "<h4>statistical distribution of the velocity: </h4>"
   ]
  },
  {
   "cell_type": "markdown",
   "metadata": {},
   "source": [
    "An important prerequisite for an ideal gas is the isotropy of the velocity distribution. We will now test this."
   ]
  },
  {
   "cell_type": "markdown",
   "metadata": {},
   "source": [
    "200 particles are generated and their velocities are stored in two arrays. Then the quadratically averaged total velocity and the quadratically averaged velocities in x and y direction are calculated. "
   ]
  },
  {
   "cell_type": "code",
   "execution_count": null,
   "metadata": {
    "scrolled": true
   },
   "outputs": [],
   "source": [
    "simulation.reset()\n",
    "simulation.generateParticles(n=200)\n",
    "vx = np.array([])\n",
    "vy = np.array([])\n",
    "for i in simulation.p:\n",
    "    vx = np.append(vx, i.vx)\n",
    "    vy = np.append(vy, i.vy)\n",
    "    \n",
    "v_mean = np.mean(np.sqrt(vx**2+vy**2))\n",
    "\n",
    "v_squared_mean = np.mean(vx**2+vy**2)\n",
    "vx_squared_mean = np.mean(vx**2)\n",
    "vy_squared_mean = np.mean(vy**2)"
   ]
  },
  {
   "cell_type": "markdown",
   "metadata": {},
   "source": [
    "Let's have a look at the values:"
   ]
  },
  {
   "cell_type": "code",
   "execution_count": null,
   "metadata": {},
   "outputs": [],
   "source": [
    "plt.xlabel(\"v in m/s\")\n",
    "plt.ylabel(\"count\")\n",
    "plt.hist(np.sqrt(vx**2+vy**2),10)\n",
    "plt.show()\n",
    "\n",
    "print(f\"mean velocity: {v_mean} m/s\")\n",
    "print(f\"quadratically mean velocity: {v_squared_mean} m²/s²\")\n",
    "print(f\"quadratically mean velocity: in x-direction: {vx_squared_mean} m²/s²\")\n",
    "print(f\"quadratically mean velocity: in y-direction: {vy_squared_mean} m²/s²\" )"
   ]
  },
  {
   "cell_type": "markdown",
   "metadata": {},
   "source": [
    "We see that the following relations are valid: <br>\n",
    "\n",
    "$\n",
    "\\begin{align}\n",
    "    \\overline{{v_x}^2} \\approx \\frac{1}{2} \\cdot \\overline{v²} \\\\\n",
    "    \\overline{{v_y}^2} \\approx \\frac{1}{2} \\cdot \\overline{v²}\n",
    "\\end {align}\n",
    "$ <br>\n",
    "\n",
    "The velocity distribution is therefore isotropic."
   ]
  },
  {
   "cell_type": "markdown",
   "metadata": {},
   "source": [
    "<h4>Collisions</h4>"
   ]
  },
  {
   "cell_type": "markdown",
   "metadata": {},
   "source": [
    "Now it's time to test the collisions. First execute simulation.initialize() and then the preset you want."
   ]
  },
  {
   "cell_type": "code",
   "execution_count": null,
   "metadata": {},
   "outputs": [],
   "source": [
    "simulation.reset()\n",
    "simulation.initialize()"
   ]
  },
  {
   "cell_type": "markdown",
   "metadata": {},
   "source": [
    "<b>Preset 1 - collision with the wall</b>"
   ]
  },
  {
   "cell_type": "code",
   "execution_count": null,
   "metadata": {
    "scrolled": true
   },
   "outputs": [],
   "source": [
    "simulation.deleteParticles()\n",
    "simulation.addParticle(particle(1,500*10**-12,500*10**-12,1000,1000,30*10**-12,\"black\"))"
   ]
  },
  {
   "cell_type": "markdown",
   "metadata": {},
   "source": [
    "<b>Preset 2 - horizontal collision</b>"
   ]
  },
  {
   "cell_type": "code",
   "execution_count": null,
   "metadata": {},
   "outputs": [],
   "source": [
    "simulation.deleteParticles()\n",
    "simulation.addParticle(particle(1,250*10**-12,1500*10**-12,1000,0,30*10**-12,\"blue\"))\n",
    "simulation.addParticle(particle(1,600*10**-12,1500*10**-12,-500,0,30*10**-12,\"red\"))"
   ]
  },
  {
   "cell_type": "markdown",
   "metadata": {},
   "source": [
    "<b>Preset 3 - vertical collision<br>"
   ]
  },
  {
   "cell_type": "code",
   "execution_count": null,
   "metadata": {},
   "outputs": [],
   "source": [
    "simulation.deleteParticles()\n",
    "simulation.addParticle(particle(20,2000*10**-12,1000*10**-12,0,-500,60*10**-12,\"blue\"))\n",
    "simulation.addParticle(particle(1,2000*10**-12,2000*10**-12,0,200,30*10**-12,\"red\"))"
   ]
  },
  {
   "cell_type": "markdown",
   "metadata": {},
   "source": [
    "<b>Preset 4 - oblique collision</b>"
   ]
  },
  {
   "cell_type": "code",
   "execution_count": null,
   "metadata": {},
   "outputs": [],
   "source": [
    "simulation.deleteParticles()\n",
    "simulation.addParticle(particle(1,250*10**-12,1500*10**-12,1000,0,30*10**-12,\"blue\"))\n",
    "simulation.addParticle(particle(1,2000*10**-12,1510*10**-12,-500,0,30*10**-12,\"red\"))"
   ]
  },
  {
   "cell_type": "markdown",
   "metadata": {},
   "source": [
    "<b>Preset 5 - pool collision </b>"
   ]
  },
  {
   "cell_type": "code",
   "execution_count": null,
   "metadata": {},
   "outputs": [],
   "source": [
    "simulation.deleteParticles()\n",
    "simulation.addParticle(particle(1,250*10**-12,1500*10**-12,1000,0,30*10**-12,\"blue\"))\n",
    "simulation.addParticle(particle(1,2500*10**-12,1500*10**-12,0,0,30*10**-12,\"black\"))\n",
    "simulation.addParticle(particle(1,2560*10**-12,1470*10**-12,0,0,30*10**-12,\"black\"))\n",
    "simulation.addParticle(particle(1,2560*10**-12,1530*10**-12,0,0,30*10**-12,\"black\"))\n",
    "simulation.addParticle(particle(1,2620*10**-12,1500*10**-12,0,0,30*10**-12,\"black\"))\n",
    "simulation.addParticle(particle(1,2620*10**-12,1440*10**-12,0,0,30*10**-12,\"black\"))\n",
    "simulation.addParticle(particle(1,2620*10**-12,1560*10**-12,0,0,30*10**-12,\"black\"))\n",
    "simulation.addParticle(particle(1,2680*10**-12,1530*10**-12,0,0,30*10**-12,\"black\"))\n",
    "simulation.addParticle(particle(1,2680*10**-12,1590*10**-12,0,0,30*10**-12,\"black\"))\n",
    "simulation.addParticle(particle(1,2680*10**-12,1470*10**-12,0,0,30*10**-12,\"black\"))\n",
    "simulation.addParticle(particle(1,2680*10**-12,1410*10**-12,0,0,30*10**-12,\"black\"))\n",
    "simulation.addParticle(particle(1,2740*10**-12,1500*10**-12,0,0,30*10**-12,\"black\"))\n",
    "simulation.addParticle(particle(1,2740*10**-12,1560*10**-12,0,0,30*10**-12,\"black\"))\n",
    "simulation.addParticle(particle(1,2740*10**-12,1620*10**-12,0,0,30*10**-12,\"black\"))\n",
    "simulation.addParticle(particle(1,2740*10**-12,1440*10**-12,0,0,30*10**-12,\"black\"))\n",
    "simulation.addParticle(particle(1,2740*10**-12,1380*10**-12,0,0,30*10**-12,\"black\"))"
   ]
  },
  {
   "cell_type": "markdown",
   "metadata": {},
   "source": [
    "<b>Preset 6 - your choice</b>"
   ]
  },
  {
   "cell_type": "code",
   "execution_count": null,
   "metadata": {},
   "outputs": [],
   "source": [
    "simulation.deleteParticles()\n",
    "#add your code here. Feel free to explore!"
   ]
  },
  {
   "cell_type": "markdown",
   "metadata": {},
   "source": [
    "<h3>Derivation of fundamental relations</h3>"
   ]
  },
  {
   "cell_type": "markdown",
   "metadata": {},
   "source": [
    "Now we come to the derivation of the ideal gas equation. For this we first proof the law of Boyle-Mariotte."
   ]
  },
  {
   "cell_type": "markdown",
   "metadata": {},
   "source": [
    "<h4>Boyle-Mariotte</h4>"
   ]
  },
  {
   "cell_type": "markdown",
   "metadata": {},
   "source": [
    "To prove Boyle-Mariotte's law numerically, we first generate 200 particles and start the simulation. While we decrease the volume of our box every 3 seconds, volume and pressure are measured and recorded in two arrays. During this process the temperature remains constant. Afterwards, we plot the data to determine a possible correlation."
   ]
  },
  {
   "cell_type": "code",
   "execution_count": null,
   "metadata": {},
   "outputs": [],
   "source": [
    "simulation.reset()\n",
    "simulation.width.value=10000\n",
    "simulation.generateParticles(n=200)\n",
    "\n",
    "volume = np.array([])\n",
    "pressure = np.array([])\n",
    "\n",
    "w = widgets.HBox([simulation.textPressure, simulation.textTemperature, simulation.textVolume])\n",
    "display(w)\n",
    "simulation.initialize()\n",
    "\n",
    "\n",
    "for i in range(0,8000,200):\n",
    "    simulation.width.value=10000-i\n",
    "    sleep(3)\n",
    "    volume=np.append(volume, simulation.width.value*10**-12*simulation.height*2*simulation.radius)\n",
    "    pressure=np.append(pressure, simulation.textPressure.value)\n",
    "\n",
    "simulation.stop()\n",
    "plt.scatter(volume,pressure)\n",
    "plt.xlabel(f\"Volume in $m^3$\")\n",
    "plt.ylabel(f\"Pressure in Pa\")\n",
    "plt.show()"
   ]
  },
  {
   "cell_type": "markdown",
   "metadata": {},
   "source": [
    "The plot clearly looks like a hyperbola. Then the following must apply: $p=\\frac{k(T,N)}{V}$. To verify our hypothesis, we run a regression. "
   ]
  },
  {
   "cell_type": "code",
   "execution_count": null,
   "metadata": {},
   "outputs": [],
   "source": [
    "def hyperbola(x,k):\n",
    "    return k/x\n",
    "\n",
    "k, cov =curve_fit(hyperbola,volume,pressure,p0=10**-18,absolute_sigma=True)\n",
    "plt.scatter(volume, pressure, color=\"green\", label=\"data\", alpha=0.8)\n",
    "plt.plot(volume, hyperbola(volume, k),color=\"tab:blue\", label=\"theory\")\n",
    "plt.legend()\n",
    "plt.xlabel(f\"Volume in $m^3$\")\n",
    "plt.ylabel(f\"Pressure in Pa\")\n",
    "plt.show()\n",
    "print(f\"k = {k}\")"
   ]
  },
  {
   "cell_type": "markdown",
   "metadata": {},
   "source": [
    "We keep in mind that this is a hyperbolic relation. Mathematically that means:<br>\n",
    "\n",
    "$\\begin{align*}\n",
    "    &p = \\frac{k(T,N)}{V}\\\\\n",
    "    \\Rightarrow &V = \\frac{k_1(T,N)}{p}\\\\\n",
    "    \\Rightarrow &V \\propto \\frac{1}{p}\\;\\; \\hbox{if T,N = const.}\n",
    "\\end{align*}$\n",
    "\n",
    "We know from our simulation that the law of Boyle-Mariotte is true!"
   ]
  },
  {
   "cell_type": "markdown",
   "metadata": {},
   "source": [
    "<h4>2. Gay-Lussac's law: </h4>"
   ]
  },
  {
   "cell_type": "markdown",
   "metadata": {},
   "source": [
    "Next, we have a look at the 2nd law of Gay-Lussac. To find a numerical proof, we generate again 200 particles and start the simulation. With a fixed volume, the velocity of the particles (and therefore the temperature) is increased every 3 seconds. Pressure and temperature are recorded in two arrays and afterwards displayed as a scatterplot to find a possible correlation."
   ]
  },
  {
   "cell_type": "code",
   "execution_count": null,
   "metadata": {},
   "outputs": [],
   "source": [
    "simulation.reset()\n",
    "simulation.width.value=4000\n",
    "simulation.generateParticles(n=200)\n",
    "\n",
    "w = widgets.HBox([simulation.textPressure, simulation.textTemperature, simulation.textVolume])\n",
    "display(w)\n",
    "simulation.initialize()\n",
    "\n",
    "pressure = np.array([])\n",
    "temperature = np.array([])\n",
    "for i in range(10,150,5):\n",
    "    simulation.veloRatio.value=i/100\n",
    "    sleep(3)\n",
    "    temperature=np.append(temperature,simulation.textTemperature.value)\n",
    "    pressure=np.append(pressure, simulation.textPressure.value)\n",
    "\n",
    "simulation.stop()\n",
    "plt.scatter(temperature,pressure)\n",
    "plt.xlabel(\"Temperature in K\")\n",
    "plt.ylabel(\"Pressure in Pa\")\n",
    "plt.show() "
   ]
  },
  {
   "cell_type": "markdown",
   "metadata": {},
   "source": [
    "The plot above looks very much like a linear function. Then the following formula must be valid: $p = k_2(N,V) \\cdot T$. Let's verify this with the help of a regression:"
   ]
  },
  {
   "cell_type": "code",
   "execution_count": null,
   "metadata": {},
   "outputs": [],
   "source": [
    "def linear(x,k2):\n",
    "    return k2*x\n",
    "\n",
    "k2, cov=curve_fit(linear,temperature,pressure,absolute_sigma=True)\n",
    "plt.scatter(temperature, pressure, color=\"green\", label=\"data\", alpha=0.8)\n",
    "plt.plot(temperature, linear(temperature, k2), color=\"tab:blue\", label=\"theory\")\n",
    "plt.xlabel(f\"Temperature in K\")\n",
    "plt.ylabel(f\"Pressure in Pa\")\n",
    "plt.legend()\n",
    "plt.show()\n",
    "print(f\"k2 = {k2}\")"
   ]
  },
  {
   "cell_type": "markdown",
   "metadata": {},
   "source": [
    "We can confirm that it is a linear relation. That means mathematically:<br><br>\n",
    "$\n",
    "\\begin{align*}\n",
    "&p = k_2(V,N) \\cdot T\\\\\n",
    "\\Rightarrow& p \\propto T \\;\\; \\hbox{if V,N = const.}\n",
    "\\end{align*}\n",
    "$<br><br>\n",
    "So the 2nd Gay-Lussac law is also true!"
   ]
  },
  {
   "cell_type": "markdown",
   "metadata": {},
   "source": [
    "<h4>General gas law</h4>"
   ]
  },
  {
   "cell_type": "markdown",
   "metadata": {},
   "source": [
    "With the help of the two laws above we can say: $\\frac{p \\cdot V}{T} = const.$ for a fixed amount of ideal gas. Let us briefly verify this. We again generate 200 particles, start the simulation and vary volume and velocity alternately. In the process pressure, temperature, volume and time are measured and recorded in four different arrays. In a scatterplot, the quotient $\\frac{p \\cdot V}{T}$ is plotted over time."
   ]
  },
  {
   "cell_type": "code",
   "execution_count": null,
   "metadata": {},
   "outputs": [],
   "source": [
    "simulation.reset()\n",
    "simulation.width.value=10000\n",
    "simulation.generateParticles(n=200)\n",
    "\n",
    "w = widgets.HBox([simulation.textPressure, simulation.textTemperature, simulation.textVolume])\n",
    "display(w)\n",
    "simulation.initialize()\n",
    "\n",
    "time = np.array([])\n",
    "pressure = np.array([])\n",
    "temperature = np.array([])\n",
    "volume = np.array([])\n",
    "\n",
    "for i in range(0,9000,500):\n",
    "    for j in range (1,102,25):\n",
    "        simulation.width.value=10000-i\n",
    "        simulation.veloRatio.value=j/100\n",
    "        sleep(3)\n",
    "        temperature=np.append(temperature,simulation.textTemperature.value)\n",
    "        pressure=np.append(pressure, simulation.textPressure.value)\n",
    "        volume=np.append(volume, simulation.textVolume.value)\n",
    "        time=np.append(time, simulation.t)\n",
    "\n",
    "simulation.stop()\n",
    "plt.plot(time,pressure*volume/temperature)\n",
    "plt.xlabel(r\"time in s\")\n",
    "plt.ylabel(r\"Quotient $\\frac{p \\cdot V}{T}$ in $\\frac{Pa \\cdot m^3}{K}$\")\n",
    "plt.show()"
   ]
  },
  {
   "cell_type": "markdown",
   "metadata": {},
   "source": [
    "It is easy to see that the value fluctuates around a constant, which confirms our theory."
   ]
  },
  {
   "cell_type": "markdown",
   "metadata": {},
   "source": [
    "<h4>Ideal gas law</h4>"
   ]
  },
  {
   "cell_type": "markdown",
   "metadata": {},
   "source": [
    "Finally, to prove the ideal gas law numerically, we generate 50 particles and keep volume and temperature constant. By increasing the number of particles by 1 after each second and recording them together with the pressure in two arrays, we can plot the data to find the correlation."
   ]
  },
  {
   "cell_type": "code",
   "execution_count": null,
   "metadata": {},
   "outputs": [],
   "source": [
    "simulation.reset()\n",
    "simulation.generateParticlesUniformly(n=50, v=1000)\n",
    "\n",
    "w = widgets.HBox([simulation.textPressure, simulation.textTemperature,simulation.textVolume, simulation.textParticles])\n",
    "display(w)\n",
    "simulation.initialize()\n",
    "\n",
    "pcount = np.array([])\n",
    "pressure = np.array([])\n",
    "\n",
    "for i in range(50,300,1):\n",
    "    pcount = np.append(pcount, simulation.textParticles.value)\n",
    "    pressure = np.append(pressure, simulation.textPressure.value)\n",
    "    sleep(1)\n",
    "    simulation.generateParticlesUniformly(n=1, v=1000)\n",
    "    \n",
    "plt.scatter(pcount,pressure)\n",
    "plt.xlabel(\"particle count (absolute Value)\")\n",
    "plt.ylabel(\"Pressure in Pa\")\n",
    "plt.show()"
   ]
  },
  {
   "cell_type": "markdown",
   "metadata": {},
   "source": [
    "The plot above looks like a linear function. In that case, $p = k_3(T,V) \\cdot N$ must be true. Let's check this with the help of a regression:"
   ]
  },
  {
   "cell_type": "code",
   "execution_count": null,
   "metadata": {},
   "outputs": [],
   "source": [
    "def linear(x,a):\n",
    "    return a*x\n",
    "\n",
    "m, cov=curve_fit(linear,pcount,pressure,absolute_sigma=True)\n",
    "plt.scatter(pcount, pressure, color=\"green\", label=\"data\", alpha=0.3)\n",
    "plt.plot(pcount, linear(pcount, m), color=\"tab:blue\", label=\"theory\", linewidth=3)\n",
    "plt.xlabel(f\"Temperature in K\")\n",
    "plt.ylabel(f\"Pressure in Pa\")\n",
    "plt.legend()\n",
    "plt.show()\n",
    "print(f\"m = {m}\")"
   ]
  },
  {
   "cell_type": "markdown",
   "metadata": {},
   "source": [
    "We can confirm that it is a linear relation. That means mathematically:<br><br>\n",
    "$\n",
    "\\begin{align*}\n",
    "&p = k_3(T,V) \\cdot N\\\\\n",
    "\\Rightarrow& p \\propto N \\;\\; \\hbox{if T,V = const.}\n",
    "\\end{align*}\n",
    "$"
   ]
  },
  {
   "cell_type": "markdown",
   "metadata": {},
   "source": [
    "We have managed to numerically verify the following three equations:\n",
    "\n",
    "<ol>\n",
    "    <li>     $p \\propto \\frac{1}{V}$ if N, T = const.</li>\n",
    "    <li>     $p \\propto T$ if N, V = const.</li>\n",
    "    <li>     $p \\propto N$ if T, V = connst. </li>\n",
    "</ol>\n",
    "This means that we have managed to derive the ideal gas equation using our model!"
   ]
  },
  {
   "cell_type": "markdown",
   "metadata": {},
   "source": [
    "<h4>\"Measurement\" uncertainties</h4>\n",
    "Even though we have no experimental data, it seems that our calculated values scatter around the theoretical one. This is mainly due to the definition and calculation of pressure. While temperature and volume remain constant due to their construction and the conservation of energy without external influence, pressure changes in every time interval dt because it depends on the wall collisions. Since the particles move randomly, different numbers of particles collide at different time intervals. Exactly this error is noticeable here.<br>\n",
    "To get around this, you can measure the pressure over a certain period of time and calculate the mean. This provides apparently constant pressure, but you should not neglect that only average values are measured here, which need a certain time to readjust. "
   ]
  },
  {
   "cell_type": "markdown",
   "metadata": {},
   "source": [
    "<h4>Unusual scale units</h4>\n",
    "The scale units of this simulation are very unusual. The volume is in the range of $10^{-28} m^3$, the pressure of $10^{10} Pa$. Only the temperature seems to be at semi-normal values. The reason for this is the disproportionately of small particles. Since particles as well as the box are intended to be displayed , the dimensions for our box are accordingly small. Now there are two possibilities. Either we set the particle velocity to normal velocities (approx. $1000 \\frac{m}{s}$) or to a value corresponding to the size (approx. $1000\\frac{pm}{s}$). The first case ensures that the time intervals must be very small for the calculations to remain accurate, which makes the pressure extremely high. This case was taken for our simulation. The second case ensures that the particle velocity along with the temperature becomes extremely small."
   ]
  },
  {
   "cell_type": "markdown",
   "metadata": {},
   "source": [
    "<h3>Interactive simulation</h3>"
   ]
  },
  {
   "cell_type": "markdown",
   "metadata": {},
   "source": [
    "To finish the project I created a small interactive simulation. There you can find the following settings:\n",
    "\n",
    "<ul>\n",
    "    <li><i>+</i> add 10 Particles</li>\n",
    "    <li><i>-</i> remove 10 Particles </li>\n",
    "    <li><i>width (pm)</i> changes the width of the box</li>\n",
    "    <li><i>Velocity</i> changes the velocity ratio (2 means 200%)</li>\n",
    "    <li><i>start</i> starts the animation</li>\n",
    "    <li><i>stop</i> stops the animation</li>\n",
    "</ul>\n",
    "\n",
    "If the pressure display varies too much, then the length of the impulse array (and accordingly the length of the average impulse) can be adjusted."
   ]
  },
  {
   "cell_type": "code",
   "execution_count": null,
   "metadata": {},
   "outputs": [],
   "source": [
    "simulation.reset()\n",
    "simulation.impulse = np.zeros(300) #edit here if needed\n",
    "simulation.interactive()"
   ]
  },
  {
   "cell_type": "markdown",
   "metadata": {},
   "source": [
    "Feel free to explore!"
   ]
  },
  {
   "cell_type": "markdown",
   "metadata": {},
   "source": [
    "<h2> Summary </h2>"
   ]
  },
  {
   "cell_type": "markdown",
   "metadata": {},
   "source": [
    "To summarize, the first thing I did was to implement the axioms of the ideal gas in a simulation. For this I programmed two classes. The first one contains all necessary information for a particle. The second class controls the simulation by creating particles, moving them, calculating collisions and reading out macroscopic quantities. Secondly, I analyzed the ideal gas equation and divided it into three proportionalities. I proved these with the help of the simulation to confirm that the ideal gas law is true for an ideal gas. Finally, I created an interactive simulation that can be used for further investigation. "
   ]
  },
  {
   "cell_type": "code",
   "execution_count": null,
   "metadata": {},
   "outputs": [],
   "source": []
  }
 ],
 "metadata": {
  "kernelspec": {
   "display_name": "Python 3 (ipykernel)",
   "language": "python",
   "name": "python3"
  },
  "language_info": {
   "codemirror_mode": {
    "name": "ipython",
    "version": 3
   },
   "file_extension": ".py",
   "mimetype": "text/x-python",
   "name": "python",
   "nbconvert_exporter": "python",
   "pygments_lexer": "ipython3",
   "version": "3.10.4"
  }
 },
 "nbformat": 4,
 "nbformat_minor": 2
}
