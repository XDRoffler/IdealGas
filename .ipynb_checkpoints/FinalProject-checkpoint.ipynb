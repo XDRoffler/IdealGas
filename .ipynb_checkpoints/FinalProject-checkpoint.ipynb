{
 "cells": [
  {
   "cell_type": "code",
   "execution_count": 258,
   "metadata": {},
   "outputs": [],
   "source": [
    "import numpy as np\n",
    "import matplotlib.pyplot as plt\n",
    "import scipy.stats as st"
   ]
  },
  {
   "cell_type": "code",
   "execution_count": 259,
   "metadata": {},
   "outputs": [],
   "source": [
    "global pi\n",
    "pi = np.pi\n",
    "global k\n",
    "k = 1.380649 * 10**-23 #m**2 kg s**-2 K**-1"
   ]
  },
  {
   "cell_type": "code",
   "execution_count": 262,
   "metadata": {},
   "outputs": [],
   "source": [
    "global m\n",
    "global n\n",
    "global T\n",
    "\n",
    "m = 4.002602**1.66*10**(-27) #kg\n",
    "n = 1 #mol\n",
    "T = 273.15 #K"
   ]
  },
  {
   "cell_type": "code",
   "execution_count": 269,
   "metadata": {},
   "outputs": [],
   "source": [
    "class my_pdf(st.rv_continuous):\n",
    "    def _pdf(self,v):\n",
    "        return n*(m/(2*pi*k*T))**(3/2)*4*pi*v**2*np.exp(-m*v**2/(2*k*T))"
   ]
  },
  {
   "cell_type": "code",
   "execution_count": 270,
   "metadata": {},
   "outputs": [],
   "source": [
    "def createParticles(n):\n",
    "    y = np.array([])\n",
    "    m = my_pdf(a=0, b=10000)\n",
    "    for _ in range(n):\n",
    "        y=np.append(y,m.rvs())\n",
    "    return y"
   ]
  },
  {
   "cell_type": "code",
   "execution_count": 274,
   "metadata": {},
   "outputs": [
    {
     "data": {
      "image/png": "[encoded data removed]",
      "text/plain": [
       "<Figure size 432x288 with 1 Axes>"
      ]
     },
     "metadata": {
      "needs_background": "light"
     },
     "output_type": "display_data"
    }
   ],
   "source": [
    "plt.hist(createParticles(500), bins=40, density=True)\n",
    "v= np.arange(0,2500,1)\n",
    "y= n*(m/(2*pi*k*T))**(3/2)*4*pi*v**2*np.exp(-m*v**2/(2*k*T))\n",
    "plt.plot(v,y)\n",
    "plt.show()"
   ]
  },
  {
   "cell_type": "code",
   "execution_count": 276,
   "metadata": {},
   "outputs": [],
   "source": [
    "class particle:\n",
    "    def __init__(self, m, x,y, vx, vy):\n",
    "        self.m = m\n",
    "        self.vx = vx\n",
    "        self.vy = vy\n",
    "    def getPosition():\n",
    "        return (x,y)\n",
    "    def getX():\n",
    "        return x\n",
    "    def getY():\n",
    "        return y\n",
    "    def getVelocity():\n",
    "        return (vx,vy)\n",
    "    def getVx():\n",
    "        return vx\n",
    "    def getVy():\n",
    "        return vy"
   ]
  },
  {
   "cell_type": "code",
   "execution_count": null,
   "metadata": {},
   "outputs": [],
   "source": []
  }
 ],
 "metadata": {
  "kernelspec": {
   "display_name": "Python 3 (ipykernel)",
   "language": "python",
   "name": "python3"
  },
  "language_info": {
   "codemirror_mode": {
    "name": "ipython",
    "version": 3
   },
   "file_extension": ".py",
   "mimetype": "text/x-python",
   "name": "python",
   "nbconvert_exporter": "python",
   "pygments_lexer": "ipython3",
   "version": "3.10.4"
  }
 },
 "nbformat": 4,
 "nbformat_minor": 2
}
