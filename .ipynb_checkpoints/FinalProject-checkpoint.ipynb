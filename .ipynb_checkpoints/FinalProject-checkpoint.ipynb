{
 "cells": [
  {
   "cell_type": "code",
   "execution_count": 66,
   "metadata": {},
   "outputs": [],
   "source": [
    "import numpy as np\n",
    "import matplotlib.pyplot as plt\n",
    "import random\n",
    "import ipywidgets as widget\n",
    "from ipycanvas import Canvas, hold_canvas\n",
    "from time import sleep"
   ]
  },
  {
   "cell_type": "code",
   "execution_count": 67,
   "metadata": {},
   "outputs": [],
   "source": [
    "class particle:\n",
    "    \n",
    "    def rotMat(alpha, x):\n",
    "        return np.array([[np.cos(alpha), -np.sin(alpha)], [np.sin(alpha), np.cos(alpha)]]).dot(x)\n",
    "    \n",
    "    def __init__(self, m, x,y, vx, vy,r):\n",
    "        self.m = m\n",
    "        self.vx = vx\n",
    "        self.vy = vy\n",
    "        self.x = x\n",
    "        self.y = y\n",
    "        self.r = r\n",
    "    \n",
    "    def move(self, dt):\n",
    "            self.x = self.vx * dt + self.x\n",
    "            self.y = self.vy * dt + self.y\n",
    "            \n",
    "    def bounceWall(self,vert):\n",
    "        if(vert):\n",
    "            self.vx=-self.vx\n",
    "            \n",
    "        else:\n",
    "            self.vy=-self.vy\n",
    "            \n",
    "    def bounce(self,p):\n",
    "        dx = self.x-p.x\n",
    "        dy = self.y-p.y\n",
    "        alpha = np.arctan2(-dy,dx)\n",
    "        v1 = np.array([self.vx, self.vy])\n",
    "        v2 = np.array([p.vx, p.vy])\n",
    "        v1s = particle.rotMat(alpha,v1)\n",
    "        v2s = particle.rotMat(alpha,v2)\n",
    "        v1ns=(v2s[0],v1s[1])\n",
    "        v2ns=(v1s[0],v2s[1])\n",
    "        v1n= particle.rotMat(-alpha,v1ns)\n",
    "        v2n= particle.rotMat(-alpha,v2ns)\n",
    "        self.vx = v1n[0]\n",
    "        self.vy = v1n[1]\n",
    "        p.vx = v2n[0]\n",
    "        p.vy = v2n[1]"
   ]
  },
  {
   "cell_type": "code",
   "execution_count": 68,
   "metadata": {},
   "outputs": [],
   "source": [
    "class simulation:\n",
    "    p = []\n",
    "    \n",
    "    width = 400\n",
    "    height = 300\n",
    "    canvas = Canvas(width=width, height=height)\n",
    "    dt = 0.02\n",
    "\n",
    "    \n",
    "    def generateParticles(n):\n",
    "        for _ in range(n):\n",
    "            simulation.p.append(particle(2,random.randint(0,200),random.randint(0,200),random.randint(-50,50),random.randint(-50,50),2))\n",
    "    \n",
    "    def removeParticles(list):\n",
    "        for i in list:\n",
    "            del p[i]\n",
    "    def deleteParticles():\n",
    "        simulation.p = []\n",
    "    \n",
    "    \n",
    "    def addParticle(particle):\n",
    "        simulation.p.append(particle)\n",
    "\n",
    "    def collisionTest():\n",
    "        count = 1\n",
    "        for i in simulation.p:\n",
    "            if i.x < i.r or i.x > simulation.width-i.r:\n",
    "                i.bounceWall(True)\n",
    "            elif i.y <i.r or i.y > simulation.height-i.r:\n",
    "                i.bounceWall(False)\n",
    "            \n",
    "            for j in simulation.p[count::]:\n",
    "                dx = i.x-j.x\n",
    "                dy = i.y-j.y\n",
    "                if dx**2+dy**2 <= (i.r+j.r)**2:\n",
    "                    i.bounce(j)\n",
    "            count = count + 1\n",
    "            \n",
    "    def plotParticles():\n",
    "        display(simulation.canvas)\n",
    "        with hold_canvas():\n",
    "            simulation.canvas.clear()\n",
    "            for i in simulation.p:\n",
    "                simulation.canvas.fill_circle(i.x, i.y, i.r)\n",
    "                \n",
    "    def animateParticles(steps):\n",
    "        display(simulation.canvas)\n",
    "        for _ in range(steps):\n",
    "            with hold_canvas():\n",
    "                simulation.canvas.clear()\n",
    "                for i in simulation.p:\n",
    "                    i.move(simulation.dt)\n",
    "                    simulation.canvas.fill_circle(i.x, i.y, i.r)\n",
    "            simulation.collisionTest()\n",
    "            sleep(simulation.dt)\n",
    "            \n",
    "    def animateParticles2(steps):\n",
    "        display(simulation.canvas)\n",
    "        for _ in range(steps):\n",
    "            with hold_canvas():\n",
    "                simulation.canvas.clear()\n",
    "                simulation.canvas.fill_style = \"red\"\n",
    "                simulation.p[0].move(simulation.dt)\n",
    "                simulation.canvas.fill_circle(simulation.p[0].x, simulation.p[0].y, simulation.p[0].r)\n",
    "                simulation.canvas.fill_style = \"black\"\n",
    "                simulation.p[1].move(simulation.dt)\n",
    "                simulation.canvas.fill_circle(simulation.p[1].x, simulation.p[1].y, simulation.p[1].r)\n",
    "            simulation.collisionTest()\n",
    "            sleep(simulation.dt)\n",
    "        \n",
    "                \n",
    "    \n",
    "    \n",
    "        "
   ]
  },
  {
   "cell_type": "code",
   "execution_count": 69,
   "metadata": {},
   "outputs": [
    {
     "data": {
      "application/vnd.jupyter.widget-view+json": {
       "model_id": "c7671532fdbf45b6b9cf9d01ce0d2512",
       "version_major": 2,
       "version_minor": 0
      },
      "text/plain": [
       "Canvas(height=300, width=400)"
      ]
     },
     "metadata": {},
     "output_type": "display_data"
    },
    {
     "ename": "KeyboardInterrupt",
     "evalue": "",
     "output_type": "error",
     "traceback": [
      "\u001b[0;31m---------------------------------------------------------------------------\u001b[0m",
      "\u001b[0;31mKeyboardInterrupt\u001b[0m                         Traceback (most recent call last)",
      "Input \u001b[0;32mIn [69]\u001b[0m, in \u001b[0;36m<cell line: 3>\u001b[0;34m()\u001b[0m\n\u001b[1;32m      1\u001b[0m simulation\u001b[38;5;241m.\u001b[39mdeleteParticles()\n\u001b[1;32m      2\u001b[0m simulation\u001b[38;5;241m.\u001b[39mgenerateParticles(\u001b[38;5;241m300\u001b[39m)\n\u001b[0;32m----> 3\u001b[0m \u001b[43msimulation\u001b[49m\u001b[38;5;241;43m.\u001b[39;49m\u001b[43manimateParticles\u001b[49m\u001b[43m(\u001b[49m\u001b[38;5;241;43m1000\u001b[39;49m\u001b[43m)\u001b[49m\n",
      "Input \u001b[0;32mIn [68]\u001b[0m, in \u001b[0;36msimulation.animateParticles\u001b[0;34m(steps)\u001b[0m\n\u001b[1;32m     52\u001b[0m         i\u001b[38;5;241m.\u001b[39mmove(simulation\u001b[38;5;241m.\u001b[39mdt)\n\u001b[1;32m     53\u001b[0m         simulation\u001b[38;5;241m.\u001b[39mcanvas\u001b[38;5;241m.\u001b[39mfill_circle(i\u001b[38;5;241m.\u001b[39mx, i\u001b[38;5;241m.\u001b[39my, i\u001b[38;5;241m.\u001b[39mr)\n\u001b[0;32m---> 54\u001b[0m \u001b[43msimulation\u001b[49m\u001b[38;5;241;43m.\u001b[39;49m\u001b[43mcollisionTest\u001b[49m\u001b[43m(\u001b[49m\u001b[43m)\u001b[49m\n\u001b[1;32m     55\u001b[0m sleep(simulation\u001b[38;5;241m.\u001b[39mdt)\n",
      "Input \u001b[0;32mIn [68]\u001b[0m, in \u001b[0;36msimulation.collisionTest\u001b[0;34m()\u001b[0m\n\u001b[1;32m     33\u001b[0m     dx \u001b[38;5;241m=\u001b[39m i\u001b[38;5;241m.\u001b[39mx\u001b[38;5;241m-\u001b[39mj\u001b[38;5;241m.\u001b[39mx\n\u001b[1;32m     34\u001b[0m     dy \u001b[38;5;241m=\u001b[39m i\u001b[38;5;241m.\u001b[39my\u001b[38;5;241m-\u001b[39mj\u001b[38;5;241m.\u001b[39my\n\u001b[0;32m---> 35\u001b[0m     \u001b[38;5;28;01mif\u001b[39;00m dx\u001b[38;5;241m*\u001b[39m\u001b[38;5;241m*\u001b[39m\u001b[38;5;241m2\u001b[39m\u001b[38;5;241m+\u001b[39mdy\u001b[38;5;241m*\u001b[39m\u001b[38;5;241m*\u001b[39m\u001b[38;5;241m2\u001b[39m \u001b[38;5;241m<\u001b[39m\u001b[38;5;241m=\u001b[39m (i\u001b[38;5;241m.\u001b[39mr\u001b[38;5;241m+\u001b[39mj\u001b[38;5;241m.\u001b[39mr)\u001b[38;5;241m*\u001b[39m\u001b[38;5;241m*\u001b[39m\u001b[38;5;241m2\u001b[39m:\n\u001b[1;32m     36\u001b[0m         i\u001b[38;5;241m.\u001b[39mbounce(j)\n\u001b[1;32m     37\u001b[0m count \u001b[38;5;241m=\u001b[39m count \u001b[38;5;241m+\u001b[39m \u001b[38;5;241m1\u001b[39m\n",
      "\u001b[0;31mKeyboardInterrupt\u001b[0m: "
     ]
    }
   ],
   "source": [
    "simulation.deleteParticles()\n",
    "simulation.generateParticles(300)\n",
    "simulation.animateParticles(1000)"
   ]
  },
  {
   "cell_type": "code",
   "execution_count": null,
   "metadata": {},
   "outputs": [],
   "source": []
  }
 ],
 "metadata": {
  "kernelspec": {
   "display_name": "Python 3 (ipykernel)",
   "language": "python",
   "name": "python3"
  },
  "language_info": {
   "codemirror_mode": {
    "name": "ipython",
    "version": 3
   },
   "file_extension": ".py",
   "mimetype": "text/x-python",
   "name": "python",
   "nbconvert_exporter": "python",
   "pygments_lexer": "ipython3",
   "version": "3.10.4"
  }
 },
 "nbformat": 4,
 "nbformat_minor": 2
}
