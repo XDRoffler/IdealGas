{
 "cells": [
  {
   "cell_type": "markdown",
   "metadata": {},
   "source": [
    "<h1 style=\"text-align:center;\">Project: Simulation of an ideal gas</h1>\n",
    "<p style=\"text-align:center;\">by Simon Legtenborg, 3773994</p>"
   ]
  },
  {
   "cell_type": "code",
   "execution_count": null,
   "metadata": {},
   "outputs": [],
   "source": [
    "import numpy as np\n",
    "import matplotlib.pyplot as plt\n",
    "import random\n",
    "import ipywidgets as widgets\n",
    "from ipycanvas import Canvas, hold_canvas\n",
    "from time import sleep\n",
    "from threading import Thread\n",
    "from scipy.optimize import curve_fit"
   ]
  },
  {
   "cell_type": "markdown",
   "metadata": {},
   "source": [
    "<h2> Introduction </h2>\n",
    "\n",
    "<p>Einer der faszinierendsten Themen der Thermodynamik ist das Wechselspiel aus Marko- und Mikrophysik. Deswegen habe ich mir das Ziel gesetzt, eine Simulation zu entwickeln, die ein Gas auf mikroskopischer Ebene simuliert und makroskopische Zustände ausliest. Damit sollen die aus der Vorlesung bereits hergeleiteten Zustandsgleichungen (2. Gay-Lussac'sches Gesetz, Boyle-Mariotte'sches Gesetz, ideale Gasgleichung) überprüft und bestätigt werden. \n",
    "Die Arbeit bietet außerdem eine interaktive Simulation. </p>"
   ]
  },
  {
   "cell_type": "markdown",
   "metadata": {},
   "source": [
    "<h2>Fundamentals</h2>"
   ]
  },
  {
   "cell_type": "markdown",
   "metadata": {},
   "source": [
    "Bevor wir zur Simulation kommen, müssen die Gesetzmäßigkeiten erklärt, die wir im Anschluss überprüfen wollen."
   ]
  },
  {
   "cell_type": "markdown",
   "metadata": {},
   "source": [
    "<h3>Zustandsgleichungen</h3>\n",
    "\n",
    "<p>In der Simulation kann Volumen, Temperatur und Teilchenzahl variiert bzw. konstant gehalten werden. Es bietet sich deshalb an, die Gesetze von Boyle-Marionette und Gay-Lussac (2. Gesetz) zu überprüfen:</p>"
   ]
  },
  {
   "cell_type": "markdown",
   "metadata": {},
   "source": [
    "<p><b>Boyle Marionette: </b>Wird eine feste Menge eines idealen Gases auf einer konstanten Temperaur gehalten, während Druck und Volumen veränderbar sind, so ist das Volumen indirekt proportional\n",
    "zum Druck. Es gilt:<br>\n",
    "$T \\hbox{ konst. } \\Rightarrow V \\propto \\frac{1}{p}$\n",
    "</p>"
   ]
  },
  {
   "cell_type": "markdown",
   "metadata": {},
   "source": [
    "<p><b>2. Gay-Lussac'sches Gesetz: </b>Wird eine feste Menge eines idealen Gases auf einem konstanten Volumen V gehalten, während sich die Temperatur oder der Druck ändern, so ist der Druck proportional zur Temperatur T. Es gilt:<br>\n",
    "$V \\hbox{ konst. } \\Rightarrow p \\propto T$</p>"
   ]
  },
  {
   "cell_type": "markdown",
   "metadata": {},
   "source": [
    "Für eine feste Menge eines idealen Gases gilt nun: <br>\n",
    "$\n",
    "\\begin{align*}\n",
    "&(1)p \\propto \\frac{1}{V} \\\\\n",
    "&(2)p \\propto T\\\\\n",
    "&\\hbox{Daraus folgt: }\\\\\n",
    "&p \\propto \\frac{T}{V} \\Rightarrow \\frac{p \\cdot V}{T} = \\hbox{ konst.}\n",
    "\\end{align*} \n",
    "$<br><br>\n",
    "Wird anschließend noch die Teilchenzahl variiert, so ergibt sich die ideale Gasgleichung: <br>\n",
    "$p \\cdot V = N \\cdot k_B \\cdot T$\n",
    "\n"
   ]
  },
  {
   "cell_type": "markdown",
   "metadata": {},
   "source": [
    "<h3> Das Modell des idealen Gases </h3>\n",
    "Die oben beschriebenen Gesetze setzen voraus, dass mit einem idealen Gas gearbeitet wird. Was ein ideales Gas überhaupt ist, und wir ein Gas in einer Simulation umgesetzt werden kann, wird nun erläutert."
   ]
  },
  {
   "cell_type": "markdown",
   "metadata": {},
   "source": [
    "Folgende Annahmen beschreiben das Modell des idealen Gases vollständig:\n",
    "<ul>\n",
    "    <li>Atome/Moleküle werden durch kleine starre Kugeln mit Radius $r_0$ approximiert</li>\n",
    "    <li>N Kugeln existieren in einer Box, Position, Geschwindigkeit, Masse und Radius sind gekannt</li>\n",
    "    <li>Geschwindigkeit ist statistisch verteilt </li>\n",
    "    <li>Kugeln interagieren nur durch elastische Stöße mit der Wand oder anderem Teilchen</li>\n",
    "    <li>$r_0$ ist klein gegenüber mittleren Abstand der Teilchen\n",
    "</ul>\n",
    "\n",
    "<table>\n",
    "  <tr>\n",
    "    <td style=\"background-color:white\">\n",
    "        <figure>\n",
    "          <img src=\"images/video1.gif\" alt=\"Trulli\" style=\"width:100%\">\n",
    "          <figcaption>elastischer Stoß zwischen Kugel und Wand</figcaption>\n",
    "        </figure>\n",
    "    </td>\n",
    "    <td style=\"background-color:white\">\n",
    "        <figure>\n",
    "          <img src=\"images/video2.gif\" alt=\"Trulli\" style=\"width:100%\">\n",
    "          <figcaption>elastischer Stoß zwischen zwei Kugeln</figcaption>\n",
    "        </figure>\n",
    "    </td>\n",
    "  </tr>\n",
    "</table>"
   ]
  },
  {
   "cell_type": "markdown",
   "metadata": {},
   "source": [
    "<h3>Die Mathematik der Stöße</h3>\n",
    "Stöße sind die einzige Möglichkeit, wie Teilchen miteinander interagieren können. Deswegen ist sie auch das Herzstück der Simulation."
   ]
  },
  {
   "cell_type": "markdown",
   "metadata": {},
   "source": [
    "<p><b>Mathematik von elastischen Stößen in 1D: </b>Beim idealen elastischen Stoß stoßen zwei Körper aufeinander ohne dass kinetische Energie verloren geht. Es gilt also der Energie- und Impulserhaltungssatz:<br><br>\n",
    "$\n",
    "\\begin{align*}\n",
    "   &\\sum E_{kin}=\\sum E_{kin}'\\\\\n",
    "   &\\frac{m_1}{2} \\cdot v_1^2+\\frac{m_2}{2} \\cdot v_2^2 = \\frac{m_1}{2} \\cdot {v_1'}^2\n",
    "   + \\frac{m_2}{2} \\cdot {v_2'}^2\\\\\n",
    "   &\\frac{m_1}{2} \\cdot (v_1^2-{v_1'}^2)=\\frac{m_2}{2} \\cdot ({v_2'}^2-v_2^2)\\\\\\\\\n",
    "   &\\sum \\vec{p}= \\sum \\vec{p'}\\\\\n",
    "   &m_1 \\cdot \\vec{v_1}+m_2 \\cdot \\vec{v_2} = m_1 \\cdot \\vec{v_1'}\n",
    "   + m_2 \\cdot \\vec{v_2'}\\\\\n",
    "   &m_1 \\cdot (\\vec{v_1}-\\vec{v_1'})=m_2 \\cdot (\\vec{v_2'}-\\vec{v_2})\\\\\n",
    "\\end{align*}\n",
    "$<br><br>\n",
    "Durch geeignetes Umstellen (Verweis auf Demtröder) ergibt sich für $v_1'$ und $v_2'$:<br>\n",
    "    \n",
    "$\n",
    "\\begin{align*}\n",
    "    &v_1'=2 \\frac{m_1 v_1+m_2 v_2}{m_1 + m_2}-v_1\\\\\n",
    "    &v_2'=2 \\frac{m_1 v_1+m_2v_2}{m_1+m_2}-v_2\n",
    "\\end{align*}\n",
    "$\n",
    " \n",
    "    \n",
    "Für den Fall $m_2 \\to \\infty$ und $v_2=0$, also eine Wand, gilt:<br>\n",
    "$\n",
    "\\begin{align*}\n",
    "    &v_1'=-v_1\\\\\n",
    "    &v_2'=0\n",
    "\\end{align*}\n",
    "$    \n",
    "</p>"
   ]
  },
  {
   "cell_type": "markdown",
   "metadata": {},
   "source": [
    "<p><b>Mathematik von Stößen in 2D:</b> Der zweidimensionale elastische Stoß beruht prinzipiell auf dem eindimensionalen Stoß. Für die Berechnung benötigen wir ein geeignetes Koordinatensystem, welches eine Achse senkrecht und eine Achse parallel zur Zentralsteigung besitzt. Die Zentralsteigung beschreibt hierbei die Gerade durch die Mittelpunkte der Kugel. Beim Stoß erfolg die Berechnung wie beim eindimensionalen, aber nur in Richtung der Zentralsteigung.<br>\n",
    "    \n",
    "<figure style=\"float:left;\">\n",
    "          <img src=\"./images/asset6.svg\", width=300px style=\"margin:10px\">\n",
    "          <figcaption>elastischer Stoß zwischen Kugel und Wand</figcaption>\n",
    "        </figure>    \n",
    "<p>\n",
    "    Für den elastischen Stoß gilt dann:<br>\n",
    "        $\n",
    "        \\begin{align*}\n",
    "        &\\vec{v_1} =\n",
    "        \\begin{pmatrix}\n",
    "        v_{1x}\\\\\n",
    "        v_{1y}\n",
    "        \\end{pmatrix},\n",
    "        \\vec{v_2} =\n",
    "        \\begin{pmatrix}\n",
    "        v_{2x}\\\\\n",
    "        v_{2y}\n",
    "        \\end{pmatrix}\\\\\n",
    "        &\\vec{v_1'}=\n",
    "        \\begin{pmatrix}\n",
    "        2 \\frac{m_1 v_{1x}+m_2 v_{2x}}{m_1 + m_2}-v_{1x}\\\\\n",
    "        v_{1y}\n",
    "        \\end{pmatrix}\\\\\n",
    "        &\\vec{v_2'}=\n",
    "        \\begin{pmatrix}\n",
    "        2 \\frac{m_1 v_{1x}+m_2 v_{2x}}{m_1 + m_2}-v_{2x}\\\\\n",
    "        v_{2y}\n",
    "        \\end{pmatrix}\n",
    "        \\end{align*}\n",
    "        $\n",
    "</p>\n",
    "    \n",
    "    \n",
    "\n",
    "\n",
    "    "
   ]
  },
  {
   "cell_type": "markdown",
   "metadata": {},
   "source": [
    "<p><b>Koordinatentransformation: </b> Die wichtigste Voraussetzung für die Berechnung zweidimensionaler Stöße ist das geeignete Koordinatensystem, welches nicht trivial gegeben ist. Für die Simulation wird die kanonische Basis verwendet. Um auf unser neues Koordinatensystem zu kommen, nutzen wir eine Basistransformationsmatrix U. Da U nur ein gedrehtes kanonisches Koordinatensystem ist, kann man die Transformationsmatrix als Drehmatrix auffassen.\n",
    "\n",
    "<figure style=\"float:left;\">\n",
    "    <img src=\"./images/asset7.svg\" width=300px style=\"margin:10px\"\n",
    "    <figcaption>elastischer Stoß zwischen Kugel und Wand</figcaption>\n",
    "</figure>\n",
    "\n",
    "<p>\n",
    "    $\n",
    "    \\begin{align*}\n",
    "        &U_{\\alpha} = \n",
    "            \\begin{pmatrix}\n",
    "                &\\cos(\\alpha) &-\\sin(\\alpha)\\\\\n",
    "                &\\sin(\\alpha) & \\cos(\\alpha)\n",
    "            \\end{pmatrix}\n",
    "    \\end{align*}\n",
    "    $<br>\n",
    "    Möchte man von der neuen Basis zurück in die kanonische gelangen, so berechnet man die Inverse. Für die Rotationsmatrix gilt dann:<br>\n",
    "    $\n",
    "    \\begin{align*}\n",
    "        &U_{\\alpha}^{-1} = \n",
    "            \\begin{pmatrix}\n",
    "                &\\cos(-\\alpha) &-\\sin(-\\alpha)\\\\\n",
    "                &\\sin(-\\alpha) & \\cos(-\\alpha)\n",
    "            \\end{pmatrix}\n",
    "        \\end{align*}\n",
    "    $<br>\n",
    "    Ausschlaggebend für die Berechnung der Rotationsmatrix ist der Winkel $\\alpha$. Dieser kann über die atan2-Funktion berechnet werden:<br>\n",
    "    $\n",
    "    \\begin{align*}\n",
    "        &\\alpha = \\arctan2(dy,dx) \\\\\n",
    "    \\end{align*}\n",
    "    $\n",
    "</p>"
   ]
  },
  {
   "cell_type": "markdown",
   "metadata": {},
   "source": [
    "<h2>Results and Discussion</h2>\n",
    "Nun ist die nötige Theorie bekannt, um die Simulation eines idealen Gases zu schreiben. Diese besteht aus zwei Klassen. Einmal die <i>particle</i> und einmal die <i>simulation</i> Klasse. Im Folgenden werden die Klassen kurz beschrieben:"
   ]
  },
  {
   "cell_type": "markdown",
   "metadata": {},
   "source": [
    "<h3>particle class</h3>\n",
    "Die Klasse Partikel dient dazu, die Eigenschaften und Methoden eines Partikels festzuhalten."
   ]
  },
  {
   "cell_type": "markdown",
   "metadata": {},
   "source": [
    "<p><b>Die Klasse besitzt folgende Eigenschaften: </b>\n",
    "<ul>\n",
    "    <li>Masse m (kg)</li>\n",
    "    <li>Position p (m)</li>\n",
    "    <li>Grundgeschwindigkeit v (m/s) </li>\n",
    "    <li>Kugelradius r (m) </li>\n",
    "    <li>Ratio</li>\n",
    "</ul>\n",
    "Die ersten 4 Eigenschaften sind selbsterklärend, die letzte Eigenschaft beschreibt den Anteil der Grundgeschwindigkeit v, die die Partikel haben (Wenn Ratio=0.5 hat das Teilchen die Hälfte der Grundgeschwindigkeit)"
   ]
  },
  {
   "cell_type": "markdown",
   "metadata": {},
   "source": [
    "<p><b>Die Klasse besitzt folgende Methoden: </b>\n",
    "<ul>\n",
    "    <li><i>move</i> Bewegt das Teilchen entsprechend des Zeitintervalls dt und seiner Geschwindigkeit</li>\n",
    "    <li><i>bounceWall</i> Korrigiert Geschwindigkeit und Position, falls ein Teilchen mit einer Wand überschneidet</li>\n",
    "    <li><i>bounce</i> Korrigiert Geschwindigkeit und Position, falls zwei Teilchen kollidieren</li>\n",
    "    <li><i>getKineticEnergy</i> liefert die kinetische Energie des Teilchens</li>\n",
    "</ul>\n",
    "</p>"
   ]
  },
  {
   "cell_type": "code",
   "execution_count": null,
   "metadata": {},
   "outputs": [],
   "source": [
    "class particle:\n",
    "    \n",
    "    \n",
    "    def rotMat(alpha, x):\n",
    "        return np.array([[np.cos(alpha), -np.sin(alpha)], [np.sin(alpha), np.cos(alpha)]]).dot(x)\n",
    "    \n",
    "    def __init__(self, m, x,y, vx, vy,r, color):\n",
    "        self.m = m     #kg\n",
    "        self.vx = vx   #m/s\n",
    "        self.vy = vy   #m/s\n",
    "        self.x = x     #m\n",
    "        self.y = y     #m\n",
    "        self.r = r     #m\n",
    "        self.ratio = 1\n",
    "        self.color = color\n",
    "    \n",
    "    def move(self, dt, ratio):\n",
    "            self.x = self.vx * ratio * dt+ self.x\n",
    "            self.y = self.vy * ratio * dt + self.y\n",
    "            self.ratio = ratio\n",
    "            \n",
    "    def bounceWall(self,n):\n",
    "        match n:\n",
    "            case 0:\n",
    "                self.vx = -self.vx\n",
    "                self.x = 2*self.r - self.x\n",
    "            case 1:\n",
    "                self.vx = -self.vx\n",
    "                self.x= 2*(simulation.width.value*10**-12-self.r)-self.x\n",
    "            case 2:\n",
    "                self.vy = -self.vy\n",
    "                self.y = 2*self.r-self.y\n",
    "            case 3:\n",
    "                self.vy = -self.vy\n",
    "                self.y = 2*(simulation.height-self.r)-self.y\n",
    "                \n",
    "    def bounce(self,p):\n",
    "        dx = self.x-p.x\n",
    "        dy = -(self.y-p.y)\n",
    "        d = np.sqrt(dx**2+dy**2)\n",
    "        alpha = np.arctan2(dy,dx)\n",
    "        \n",
    "        p1=np.array([self.x,self.y])\n",
    "        p2=np.array([p.x,p.y])\n",
    "        p1s=particle.rotMat(alpha,p1)\n",
    "        p2s=particle.rotMat(alpha,p2)\n",
    "        p1ns=np.array([p1s[0]+(2*self.r-d)/2,p1s[1]])\n",
    "        p2ns=np.array([p2s[0]-(2*self.r-d)/2,p2s[1]])\n",
    "        p1n=particle.rotMat(-alpha,p1ns)\n",
    "        p2n=particle.rotMat(-alpha,p2ns)\n",
    "        self.x=p1n[0]\n",
    "        self.y=p1n[1]\n",
    "        p.x=p2n[0]\n",
    "        p.y=p2n[1]\n",
    "         \n",
    "        v1 = np.array([self.vx, self.vy])\n",
    "        v2 = np.array([p.vx, p.vy])\n",
    "        v1s = particle.rotMat(alpha,v1)\n",
    "        v2s = particle.rotMat(alpha,v2)\n",
    "        v1ns=(v2s[0],v1s[1])\n",
    "        v2ns=(v1s[0],v2s[1])\n",
    "        v1n= particle.rotMat(-alpha,v1ns)\n",
    "        v2n= particle.rotMat(-alpha,v2ns)\n",
    "        self.vx = v1n[0]\n",
    "        self.vy = v1n[1]\n",
    "        p.vx = v2n[0]\n",
    "        p.vy = v2n[1]\n",
    "        \n",
    "    def getKineticEnergy(self,dt):\n",
    "        return 1/2 * self.m * ((self.vx*self.ratio)**2+(self.vy*self.ratio)**2)"
   ]
  },
  {
   "cell_type": "markdown",
   "metadata": {},
   "source": [
    "<h3>simulation class</h3>\n",
    "Die Klasse dient dazu, Stöße zu registrieren, Partikel zu bewegen, visualisieren und statistische Größen (Temperatur, Druck, Volumen) auszugeben."
   ]
  },
  {
   "cell_type": "code",
   "execution_count": null,
   "metadata": {},
   "outputs": [],
   "source": [
    "class simulation:\n",
    "    \n",
    "    p = []\n",
    "    height = 3000e-12        #m (3000pm)\n",
    "    dt = 20e-15              #s (200fs)\n",
    "    radius = 20e-12          #m (50pm)\n",
    "    k = 1.380649 *10**-23    #J/K\n",
    "    l = []\n",
    "    t = 0\n",
    "    impulse = np.zeros(50)\n",
    "    E_kin = 0\n",
    "    \n",
    "    startSimulation=False\n",
    "    \n",
    "    veloRatio = widgets.FloatSlider(min=0.1,max=3, value=1,step=0.01, description=\"Velocity\")\n",
    "    width = widgets.IntSlider(min=500, max= 10000, value=10000, description=\"Width (pm) \")\n",
    "    buttonAdd = widgets.Button(description=\"+\")\n",
    "    buttonRem = widgets.Button(description=\"-\")\n",
    "    buttonStart = widgets.Button(description=\"start\")\n",
    "    buttonStop = widgets.Button(description=\"stop\")\n",
    "    textVolume = widgets.FloatText(description=\"Volume (pm³)\", disabled=True)\n",
    "    textPressure = widgets.FloatText(description=\"Pressure\", disabled=True)\n",
    "    textTemperature = widgets.FloatText(description=\"Temperature\", disabled=True)\n",
    "    textParticles = widgets.IntText(disabled = True)\n",
    "    canvas = Canvas(width = width.max/10, height=height*10**12/10)\n",
    "    \n",
    "    def generateParticles(button=widgets.Button(), n=10):\n",
    "        for _ in range(n):\n",
    "            v = random.randint(0,2000)\n",
    "            alpha = random.random() * 2 * np.pi\n",
    "            simulation.p.append(particle(\n",
    "                2.6569e-26,\n",
    "                random.randint(0,simulation.width.value)*10**-12,\n",
    "                random.randint(0,simulation.height*10**12)*10**-12,\n",
    "                v * np.cos(alpha),\n",
    "                v * np.sin(alpha),\n",
    "                simulation.radius,\n",
    "                \"black\"))\n",
    "            simulation.textParticles.value = len(simulation.p)\n",
    "                \n",
    "            \n",
    "    def generateParticlesUniformly(n=10, v = 1000):\n",
    "        for _ in range(n):\n",
    "            alpha = random.random() * 2 * np.pi\n",
    "            simulation.p.append(particle(\n",
    "                2.6569e-26,\n",
    "                random.randint(0,simulation.width.value)*10**-12,\n",
    "                random.randint(0,simulation.height*10**12)*10**-12,\n",
    "                v * np.cos(alpha),\n",
    "                v * np.sin(alpha),\n",
    "                simulation.radius,\n",
    "                \"black\"))\n",
    "            simulation.textParticles.value = len(simulation.p)\n",
    "    \n",
    "    def removeParticles(button=widgets.Button(), n=10):\n",
    "            for _ in range(n):\n",
    "                if simulation.p:\n",
    "                    simulation.p.pop()\n",
    "            simulation.textParticles.value = len(simulation.p)\n",
    "\n",
    "    def deleteParticles():\n",
    "        simulation.p = []\n",
    "    \n",
    "    def addParticle(particle):\n",
    "        simulation.p.append(particle)\n",
    "    \n",
    "    def reset():\n",
    "        simulation.width.value=4000\n",
    "        simulation.veloRatio.value=1\n",
    "        simulation.t = 0\n",
    "        simulation.deleteParticles()\n",
    "        simulation.stop()\n",
    "\n",
    "    def collisionTest():\n",
    "        count = 1\n",
    "        for i in simulation.p:\n",
    "            \n",
    "            for j in simulation.p[count::]:\n",
    "                dx = j.x-i.x\n",
    "                dy = j.y-i.y\n",
    "                if dx**2+dy**2 < (i.r+j.r)**2:\n",
    "                     if (dx*i.vx <=0 and dx*j.vx >=0 ) and (dy*i.vy <=0 and dy*j.vy >=0 ):\n",
    "                        pass \n",
    "                     else:\n",
    "                        i.bounce(j)\n",
    "            count = count + 1\n",
    "            \n",
    "            if i.x < i.r:\n",
    "                i.bounceWall(0)\n",
    "                simulation.impulse[0] = simulation.impulse[0] + abs(2 * i.m * i.vx * i.ratio)\n",
    "            elif i.x > simulation.width.value*10**-12-i.r:\n",
    "                i.bounceWall(1)\n",
    "                simulation.impulse[0] = simulation.impulse[0] + abs(2 * i.m * i.vx * i.ratio)\n",
    "                \n",
    "            if i.y < i.r:\n",
    "                i.bounceWall(2)\n",
    "                simulation.impulse[0] = simulation.impulse[0] + abs(2 * i.m * i.vy * i.ratio)\n",
    "            elif i.y > simulation.height-i.r:\n",
    "                i.bounceWall(3)\n",
    "                simulation.impulse[0] = simulation.impulse[0] + abs(2 * i.m * i.vy * i.ratio)\n",
    "            \n",
    "            simulation.E_kin = simulation.E_kin + i.getKineticEnergy(simulation.dt)\n",
    "                \n",
    "            \n",
    "                            \n",
    "    def animateParticles():     #1px = 10pm\n",
    "        while simulation.startSimulation:\n",
    "            with hold_canvas():\n",
    "                simulation.canvas.clear()\n",
    "                simulation.canvas.stroke_rect(0,0,width=simulation.width.value/10,height=simulation.height*10**12/10)\n",
    "                for i in simulation.p:\n",
    "                    simulation.canvas.fill_style = i.color\n",
    "                    simulation.canvas.fill_circle(i.x*10**12/10, i.y*10**12/10, i.r*10**12/10)\n",
    "                    i.move(simulation.dt, simulation.veloRatio.value)\n",
    "            \n",
    "            simulation.collisionTest()\n",
    "            simulation.updateValues()\n",
    "            sleep(simulation.dt*10**12)\n",
    "\n",
    "        \n",
    "    def updateValues():\n",
    "            simulation.textVolume.value=simulation.width.value*10**(-12) * simulation.height * 2 *simulation.radius\n",
    "            simulation.textPressure.value = np.mean(simulation.impulse)/(simulation.dt * 4 *simulation.radius *(simulation.width.value*10**(-12) +simulation.height))\n",
    "            simulation.impulse = np.roll(simulation.impulse,1)\n",
    "            simulation.impulse[0] = 0\n",
    "            simulation.t = simulation.t+ simulation.dt\n",
    "            if simulation.p:\n",
    "                simulation.E_kin = simulation.E_kin/len(simulation.p)\n",
    "                simulation.textTemperature.value= simulation.E_kin/simulation.k\n",
    "            simulation.E_kin = 0\n",
    "                \n",
    "                \n",
    "    def initialize():\n",
    "        simulation.buttonAdd.on_click(simulation.generateParticles)\n",
    "        simulation.buttonRem.on_click(simulation.removeParticles)\n",
    "        simulation.buttonStart.on_click(simulation.start)\n",
    "        simulation.buttonStop.on_click(simulation.stop)\n",
    "        \n",
    "        items = [widgets.HBox([simulation.buttonAdd, simulation.buttonRem, simulation.textParticles]),\n",
    "                 simulation.textVolume, simulation.buttonStart, \n",
    "                 simulation.width, simulation.textPressure, simulation.buttonStop, \n",
    "                 simulation.veloRatio, simulation.textTemperature]\n",
    "        w = widgets.GridBox(items, layout=widgets.Layout(grid_template_columns=\"repeat(3, 300px)\"))\n",
    "        \n",
    "        display(w)\n",
    "        display(simulation.canvas)\n",
    "        \n",
    "    def show():\n",
    "        simulation.startSimulation=False\n",
    "        display(simulation.canvas)\n",
    "        simulation.start()\n",
    "        \n",
    "            \n",
    "    def start(button=widgets.Button()):\n",
    "        simulation.startSimulation = True\n",
    "        t = Thread(target=simulation.animateParticles, daemon=True)\n",
    "        t.start()\n",
    "        t = 0\n",
    "        \n",
    "    def stop(button=widgets.Button()):\n",
    "        simulation.startSimulation = False\n",
    "        \n",
    "         "
   ]
  },
  {
   "cell_type": "markdown",
   "metadata": {},
   "source": []
  },
  {
   "cell_type": "markdown",
   "metadata": {},
   "source": [
    "<h3>Grundannahmen</h3>"
   ]
  },
  {
   "cell_type": "markdown",
   "metadata": {},
   "source": [
    "<h4>statistische Verteilung der Geschwindigkeit: </h4>\n",
    "Eine wichtige Voraussetzung für ein ideales Gas ist die Isotropie der Geschwindigkeitsverteilung. Diese wird nun überprüft."
   ]
  },
  {
   "cell_type": "markdown",
   "metadata": {},
   "source": [
    "Es werden 200 Partikel generiert und deren Geschwindigkeit in zwei Arrays gespeichert. Anschließend werden die quadratisch gemittelte Gesamtgeschwindigkeit und die quadratisch gemittelten Geschwindigkeiten in x und y Richtung gebildet. "
   ]
  },
  {
   "cell_type": "code",
   "execution_count": null,
   "metadata": {
    "scrolled": true
   },
   "outputs": [],
   "source": [
    "simulation.deleteParticles()\n",
    "simulation.generateParticles(n=200)\n",
    "vx = np.array([])\n",
    "vy = np.array([])\n",
    "for i in simulation.p:\n",
    "    vx = np.append(vx, i.vx)\n",
    "    vy = np.append(vy, i.vy)\n",
    "    \n",
    "v_mean = np.mean(np.sqrt(vx**2+vy**2))\n",
    "\n",
    "v_squared_mean = np.mean(vx**2+vy**2)\n",
    "vx_squared_mean = np.mean(vx**2)\n",
    "vy_squared_mean = np.mean(vy**2)"
   ]
  },
  {
   "cell_type": "markdown",
   "metadata": {},
   "source": [
    "Schauen wir uns die Werte an:"
   ]
  },
  {
   "cell_type": "code",
   "execution_count": null,
   "metadata": {},
   "outputs": [],
   "source": [
    "plt.xlabel(\"v in m/s\")\n",
    "plt.ylabel(\"Anzahl\")\n",
    "plt.hist(np.sqrt(vx**2+vy**2),10)\n",
    "plt.show()\n",
    "\n",
    "print(f\"mittlere Geschwindigkeit: {v_mean} m/s\")\n",
    "print(f\"quadratisch gemittelte Geschindigkeit: {v_squared_mean} m²/s²\")\n",
    "print(f\"quadratisch gemittelte Geschwindigkeit in x-Richtung: {vx_squared_mean} m²/s²\")\n",
    "print(f\"quadratisch gemittelte Geschwindigkeit in y-Richtung: {vy_squared_mean} m²/s²\" )"
   ]
  },
  {
   "cell_type": "markdown",
   "metadata": {},
   "source": [
    "Wir erkennen, dass folgende Beziehungen gelten: <br>\n",
    "$\n",
    "\\begin{align}\n",
    "    \\overline{{v_x}^2} \\approx \\frac{1}{2} \\cdot \\overline{v²} \\\\\n",
    "    \\overline{{v_y}^2} \\approx \\frac{1}{2} \\cdot \\overline{v²}\n",
    "\\end {align}\n",
    "$ <br>\n",
    "Die Geschwindigkeitsverteilung ist also isotrop."
   ]
  },
  {
   "cell_type": "markdown",
   "metadata": {},
   "source": [
    "<h4>Stöße</h4>"
   ]
  },
  {
   "cell_type": "markdown",
   "metadata": {},
   "source": [
    "<p>Jetzt ist es an der Zeit, die Stöße zu testen. Führe dafür zuerst <i>simulation.show()</i> aus und dann das gewünschte Preset</p>"
   ]
  },
  {
   "cell_type": "code",
   "execution_count": null,
   "metadata": {},
   "outputs": [],
   "source": [
    "simulation.reset()\n",
    "simulation.show()"
   ]
  },
  {
   "cell_type": "markdown",
   "metadata": {},
   "source": [
    "<b>Preset 1 - Testkollision mit der Wand</b>"
   ]
  },
  {
   "cell_type": "code",
   "execution_count": null,
   "metadata": {
    "scrolled": true
   },
   "outputs": [],
   "source": [
    "simulation.deleteParticles()\n",
    "simulation.addParticle(particle(1,500*10**-12,500*10**-12,1000,1000,30*10**-12,\"black\"))"
   ]
  },
  {
   "cell_type": "markdown",
   "metadata": {},
   "source": [
    "<b>Preset 2 - Horizontaler Stoß</b>"
   ]
  },
  {
   "cell_type": "code",
   "execution_count": null,
   "metadata": {},
   "outputs": [],
   "source": [
    "simulation.deleteParticles()\n",
    "simulation.addParticle(particle(1,250*10**-12,1500*10**-12,1000,0,30*10**-12,\"blue\"))\n",
    "simulation.addParticle(particle(1,600*10**-12,1500*10**-12,-500,0,30*10**-12,\"red\"))"
   ]
  },
  {
   "cell_type": "markdown",
   "metadata": {},
   "source": [
    "<b>Preset 3 - vertikaler Stoß<br>"
   ]
  },
  {
   "cell_type": "code",
   "execution_count": null,
   "metadata": {},
   "outputs": [],
   "source": [
    "simulation.deleteParticles()\n",
    "simulation.addParticle(particle(1,2000*10**-12,1000*10**-12,0,0,30*10**-12,\"blue\"))\n",
    "simulation.addParticle(particle(1,2000*10**-12,2000*10**-12,0,1000,30*10**-12,\"red\"))"
   ]
  },
  {
   "cell_type": "markdown",
   "metadata": {},
   "source": [
    "<b>Preset 4 - schiefer Stoß</b>"
   ]
  },
  {
   "cell_type": "code",
   "execution_count": null,
   "metadata": {},
   "outputs": [],
   "source": [
    "simulation.deleteParticles()\n",
    "simulation.addParticle(particle(1,250*10**-12,1500*10**-12,1000,0,30*10**-12,\"blue\"))\n",
    "simulation.addParticle(particle(1,2000*10**-12,1510*10**-12,-500,0,30*10**-12,\"red\"))"
   ]
  },
  {
   "cell_type": "markdown",
   "metadata": {},
   "source": [
    "<b>Preset 5 - Billard Stoß </b>"
   ]
  },
  {
   "cell_type": "code",
   "execution_count": null,
   "metadata": {},
   "outputs": [],
   "source": [
    "simulation.deleteParticles()\n",
    "simulation.addParticle(particle(1,250*10**-12,1500*10**-12,1000,0,30*10**-12,\"blue\"))\n",
    "simulation.addParticle(particle(1,2500*10**-12,1500*10**-12,0,0,30*10**-12,\"black\"))\n",
    "simulation.addParticle(particle(1,2560*10**-12,1470*10**-12,0,0,30*10**-12,\"black\"))\n",
    "simulation.addParticle(particle(1,2560*10**-12,1530*10**-12,0,0,30*10**-12,\"black\"))\n",
    "simulation.addParticle(particle(1,2620*10**-12,1500*10**-12,0,0,30*10**-12,\"black\"))\n",
    "simulation.addParticle(particle(1,2620*10**-12,1440*10**-12,0,0,30*10**-12,\"black\"))\n",
    "simulation.addParticle(particle(1,2620*10**-12,1560*10**-12,0,0,30*10**-12,\"black\"))\n",
    "simulation.addParticle(particle(1,2680*10**-12,1530*10**-12,0,0,30*10**-12,\"black\"))\n",
    "simulation.addParticle(particle(1,2680*10**-12,1590*10**-12,0,0,30*10**-12,\"black\"))\n",
    "simulation.addParticle(particle(1,2680*10**-12,1470*10**-12,0,0,30*10**-12,\"black\"))\n",
    "simulation.addParticle(particle(1,2680*10**-12,1410*10**-12,0,0,30*10**-12,\"black\"))\n",
    "simulation.addParticle(particle(1,2740*10**-12,1500*10**-12,0,0,30*10**-12,\"black\"))\n",
    "simulation.addParticle(particle(1,2740*10**-12,1560*10**-12,0,0,30*10**-12,\"black\"))\n",
    "simulation.addParticle(particle(1,2740*10**-12,1620*10**-12,0,0,30*10**-12,\"black\"))\n",
    "simulation.addParticle(particle(1,2740*10**-12,1440*10**-12,0,0,30*10**-12,\"black\"))\n",
    "simulation.addParticle(particle(1,2740*10**-12,1380*10**-12,0,0,30*10**-12,\"black\"))"
   ]
  },
  {
   "cell_type": "markdown",
   "metadata": {},
   "source": [
    "<b>Preset 6 - Your Choice</b>"
   ]
  },
  {
   "cell_type": "code",
   "execution_count": null,
   "metadata": {},
   "outputs": [],
   "source": [
    "simulation.deleteParticles()\n",
    "#add your code here. Feel free to explore"
   ]
  },
  {
   "cell_type": "markdown",
   "metadata": {},
   "source": [
    "<h3>Herleitung fundamentaler Zusammenhänge</h3>"
   ]
  },
  {
   "cell_type": "markdown",
   "metadata": {},
   "source": [
    "Jetzt kommen wir abschließend zur Herleitung der idealen Gasgleichung. Dazu zeigen wir zuerst das Gesetz von Boyle-Marionette."
   ]
  },
  {
   "cell_type": "markdown",
   "metadata": {},
   "source": [
    "<h4>Boyle-Marionette</h4>"
   ]
  },
  {
   "cell_type": "markdown",
   "metadata": {},
   "source": [
    "Um das Gesetz von Boyle-Marionette numerisch zu beweisen, generieren wir zuerst 200 Partikel und starten die Simulation. Während wir aller 3 Sekunden das Volumen unserer Box verkleinern, werden in zwei Arrays Volumen und Druck gemessen und aufgezeichnet. Dabei ist die Temperatur konstant. Anschließend werden die Daten als Scatterplot ausgegeben, um einen möglichen Zusammenhang festzustellen."
   ]
  },
  {
   "cell_type": "code",
   "execution_count": null,
   "metadata": {},
   "outputs": [],
   "source": [
    "simulation.reset()\n",
    "simulation.width.value=10000\n",
    "simulation.generateParticles(n=200)\n",
    "\n",
    "\n",
    "volume = np.array([])\n",
    "pressure = np.array([])\n",
    "\n",
    "simulation.show()\n",
    "\n",
    "\n",
    "for i in range(0,9000,200):\n",
    "    simulation.width.value=10000-i\n",
    "    sleep(3)\n",
    "    volume=np.append(volume, simulation.width.value*10**-12*simulation.height*2*simulation.radius)\n",
    "    pressure=np.append(pressure, simulation.textPressure.value)\n",
    "\n",
    "simulation.stop()\n",
    "plt.scatter(pressure,volume)\n",
    "plt.xlabel(f\"Pressure in Pa\")\n",
    "plt.ylabel(f\"Volume in $m^3$\")\n",
    "plt.show()"
   ]
  },
  {
   "cell_type": "markdown",
   "metadata": {},
   "source": [
    "Der gezeigte Plot sieht eindeutig nach einer Hyperbel aus. Dann müsste gelten: $V=\\frac{a}{p}$ Um unsere These zu bestätigen, führen wir eine Regression aus. "
   ]
  },
  {
   "cell_type": "code",
   "execution_count": null,
   "metadata": {},
   "outputs": [],
   "source": [
    "def hyperbola(x,a):\n",
    "    return a/x\n",
    "\n",
    "a, cov =curve_fit(hyperbola,pressure,volume,p0=10**-18,absolute_sigma=True)\n",
    "plt.scatter(pressure, volume, color=\"green\", label=\"data\", alpha=0.8)\n",
    "plt.plot(pressure, hyperbola(pressure, a),color=\"tab:blue\", label=\"theory\")\n",
    "plt.legend()\n",
    "plt.xlabel(f\"Pressure in Pa\")\n",
    "plt.ylabel(f\"Volume in $m^3$\")\n",
    "plt.show()\n",
    "print(f\"a = {a}\")"
   ]
  },
  {
   "cell_type": "markdown",
   "metadata": {},
   "source": [
    "Wir haben also festgehalten, dass es sich hier um einen hyperbolischen Zusammenhang handelt. Mathematisch bedeutet das:<br>\n",
    "$\\begin{align*}\n",
    "    &V = \\frac{a}{p}\\\\\n",
    "    \\Rightarrow &V \\propto \\frac{1}{p}\n",
    "\\end{align*}$\n",
    "\n",
    "Wir wissen also nun durch unsere Simulation, dass das Gesetz von Boyle-Marionette stimmt!"
   ]
  },
  {
   "cell_type": "markdown",
   "metadata": {},
   "source": [
    "<b>2. Gay-Lussac'sches Gesetz: </b>"
   ]
  },
  {
   "cell_type": "markdown",
   "metadata": {},
   "source": [
    "Als nächstes widmen wir uns dem 2. Gesetz von Gay-Lussac. Um einen numerischen Beweis zu liefern, generieren wir wieder 200 Partikel und starten die Simulation. Bei festem Volumen wird nun aller 3 Sekunden die Geschwindigkeit der Teilchen (und somit die Temperatur) erhöht. Dabei werden in zwei Arrays Druck und Temperatur aufgezeichnet und anschließend als Scatterplot ausgegeben, um einen möglichen Zusammenhang zu finden."
   ]
  },
  {
   "cell_type": "code",
   "execution_count": null,
   "metadata": {},
   "outputs": [],
   "source": [
    "simulation.reset()\n",
    "simulation.width.value=4000\n",
    "simulation.generateParticles(n=200)\n",
    "simulation.show()\n",
    "\n",
    "pressure = np.array([])\n",
    "temperature = np.array([])\n",
    "for i in range(10,150,5):\n",
    "    simulation.veloRatio.value=i/100\n",
    "    sleep(3)\n",
    "    temperature=np.append(temperature,simulation.textTemperature.value)\n",
    "    pressure=np.append(pressure, simulation.textPressure.value)\n",
    "\n",
    "simulation.stop()\n",
    "plt.scatter(temperature,pressure)\n",
    "plt.xlabel(\"Temperature in K\")\n",
    "plt.ylabel(\"Pressure in Pa\")\n",
    "plt.show() "
   ]
  },
  {
   "cell_type": "markdown",
   "metadata": {},
   "source": [
    "Der gezeigte Plot sieht sehr nach einer linearen Funktion aus. Dann muss gelten: $p = m \\cdot T$. Überprüfen wir es mithilfe einer Regression:"
   ]
  },
  {
   "cell_type": "code",
   "execution_count": null,
   "metadata": {},
   "outputs": [],
   "source": [
    "def linear(x,a):\n",
    "    return a*x\n",
    "\n",
    "m, cov=curve_fit(linear,temperature,pressure,absolute_sigma=True)\n",
    "plt.scatter(temperature, pressure, color=\"green\", label=\"data\", alpha=0.8)\n",
    "plt.plot(temperature, linear(temperature, m), color=\"tab:blue\", label=\"theory\")\n",
    "plt.xlabel(f\"Temperature in K\")\n",
    "plt.ylabel(f\"Pressure in Pa\")\n",
    "plt.legend()\n",
    "plt.show()\n",
    "print(f\"m = {m}\")"
   ]
  },
  {
   "cell_type": "markdown",
   "metadata": {},
   "source": [
    "Wir können also bestätigen, dass es sich um einen linearen Zusammenhang handelt. das bedeutet mathematisch:<br>\n",
    "$\n",
    "\\begin{align*}\n",
    "&p = m \\cdot T\\\\\n",
    "\\Rightarrow& p \\propto T\n",
    "\\end{align*}\n",
    "$<br>\n",
    "Also stimmt auch das 2. Gay-Lussac'sche Gesetz!"
   ]
  },
  {
   "cell_type": "markdown",
   "metadata": {},
   "source": [
    "<b>allgemeines Gasgesetz</b>"
   ]
  },
  {
   "cell_type": "markdown",
   "metadata": {},
   "source": [
    "Mithilfe der beiden obigen Gesetze gilt: $\\frac{p \\cdot V}{T} = konst.$ für eine feste Menge an idealem Gas. Dies wollen wir kurz überprüfen. Dafür generieren wir wieder 200 Teilchen, starten die Simulation und variieren abwechselnd Volumen und Geschwindigkeit. Dabei wird Druck, Temperatur und Volumen in drei verschiedenen Arrays gemessen und aufgezeichnet und in einem Scatterplot der Quotient $\\frac{p \\cdot V}{T}$ über die Zeit aufgetragen."
   ]
  },
  {
   "cell_type": "code",
   "execution_count": null,
   "metadata": {},
   "outputs": [],
   "source": [
    "simulation.reset()\n",
    "simulation.width.value=10000\n",
    "simulation.generateParticles(n=200)\n",
    "simulation.show()\n",
    "\n",
    "time = np.array([])\n",
    "pressure = np.array([])\n",
    "temperature = np.array([])\n",
    "volume = np.array([])\n",
    "\n",
    "for i in range(0,9000,500):\n",
    "    for j in range (1,102,25):\n",
    "        simulation.width.value=10000-i\n",
    "        simulation.veloRatio.value=j/100\n",
    "        sleep(3)\n",
    "        temperature=np.append(temperature,simulation.textTemperature.value)\n",
    "        pressure=np.append(pressure, simulation.textPressure.value)\n",
    "        volume=np.append(volume, simulation.width.value*10**-12*simulation.height*2*20.10**-12*2*simulation.radius)\n",
    "        time=np.append(time, simulation.t)\n",
    "\n",
    "simulation.stop()\n",
    "plt.plot(time,pressure*volume/temperature)\n",
    "plt.xlabel(f\"time in s\")\n",
    "plt.ylabel(f\"Quotient \\frac{p \\cdot V}{T} in \\frac{m^3 \\cdot Pa}{K}\")\n",
    "plt.show()"
   ]
  },
  {
   "cell_type": "markdown",
   "metadata": {},
   "source": [
    "Es ist leicht zu erkennen, dass der Wert um eine konstante schwankt, was unsere Theorie ebstätigt."
   ]
  },
  {
   "cell_type": "markdown",
   "metadata": {},
   "source": [
    "<b>ideales Gasgesetz</b>"
   ]
  },
  {
   "cell_type": "markdown",
   "metadata": {},
   "source": [
    "Um nun abschließend das ideale Gasgesetz numerisch zu beweisen, generieren wir 50 Teilchen und halten Volumen und Temperatur konstant. Indem wir jeweils nach einer Sekunde die Teilchenanzahl um 1 erhöhen und sie zusammen mit dem Druck in zwei Arrays aufzeichnen, können wir einen Scatterplot auftragen, um so den Zusammenhang zu finden."
   ]
  },
  {
   "cell_type": "code",
   "execution_count": null,
   "metadata": {},
   "outputs": [],
   "source": [
    "simulation.reset()\n",
    "simulation.generateParticlesUniformly(n=50, v=1000)\n",
    "simulation.show()\n",
    "\n",
    "pcount = np.array([])\n",
    "pressure = np.array([])\n",
    "\n",
    "for i in range(50,300,1):\n",
    "    pcount = np.append(pcount, simulation.textParticles.value)\n",
    "    pressure = np.append(pressure, simulation.textPressure.value)\n",
    "    sleep(1)\n",
    "    simulation.generateParticlesUniformly(n=1, v=1000)\n",
    "    \n",
    "plt.scatter(pcount,pressure)\n",
    "plt.xlabel(\"particle count (absolute Value)\")\n",
    "plt.ylabel(\"Pressure in Pa\")\n",
    "plt.show()"
   ]
  },
  {
   "cell_type": "code",
   "execution_count": null,
   "metadata": {},
   "outputs": [],
   "source": []
  },
  {
   "cell_type": "code",
   "execution_count": null,
   "metadata": {},
   "outputs": [],
   "source": [
    "simulation.stop()"
   ]
  },
  {
   "cell_type": "code",
   "execution_count": null,
   "metadata": {},
   "outputs": [],
   "source": []
  }
 ],
 "metadata": {
  "kernelspec": {
   "display_name": "Python 3 (ipykernel)",
   "language": "python",
   "name": "python3"
  },
  "language_info": {
   "codemirror_mode": {
    "name": "ipython",
    "version": 3
   },
   "file_extension": ".py",
   "mimetype": "text/x-python",
   "name": "python",
   "nbconvert_exporter": "python",
   "pygments_lexer": "ipython3",
   "version": "3.10.6"
  }
 },
 "nbformat": 4,
 "nbformat_minor": 2
}
