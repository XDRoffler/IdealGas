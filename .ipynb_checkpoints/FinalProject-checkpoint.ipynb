{
 "cells": [
  {
   "cell_type": "code",
   "execution_count": 10,
   "metadata": {},
   "outputs": [],
   "source": [
    "import numpy as np\n",
    "import matplotlib.pyplot as plt\n",
    "import random\n",
    "import ipywidgets as widgets\n",
    "from ipycanvas import Canvas, hold_canvas\n",
    "from time import sleep\n",
    "from threading import Thread"
   ]
  },
  {
   "cell_type": "code",
   "execution_count": 11,
   "metadata": {},
   "outputs": [],
   "source": [
    "class particle:\n",
    "    \n",
    "    def rotMat(alpha, x):\n",
    "        return np.array([[np.cos(alpha), -np.sin(alpha)], [np.sin(alpha), np.cos(alpha)]]).dot(x)\n",
    "    \n",
    "    def __init__(self, m, x,y, vx, vy,r):\n",
    "        self.m = m\n",
    "        self.vx = vx\n",
    "        self.vy = vy\n",
    "        self.x = x\n",
    "        self.y = y\n",
    "        self.r = r\n",
    "    \n",
    "    def move(self, dt):\n",
    "            self.x = self.vx * dt + self.x\n",
    "            self.y = self.vy * dt + self.y\n",
    "            \n",
    "    def bounceWall(self,n):\n",
    "        match n:\n",
    "            case 0:\n",
    "                self.vx = -self.vx\n",
    "                self.x = 2*self.r - self.x\n",
    "            case 1:\n",
    "                self.vx = -self.vx\n",
    "                self.x= 2*(simulation.width.value-self.r)-self.x\n",
    "            case 2:\n",
    "                self.vy = -self.vy\n",
    "                self.y = 2*self.r-self.y\n",
    "            case 3:\n",
    "                self.vy = -self.vy\n",
    "                self.y = 2*(simulation.height-self.r)-self.y\n",
    "                \n",
    "    def bounce(self,p):\n",
    "        dx = self.x-p.x\n",
    "        dy = self.y-p.y\n",
    "        alpha = np.arctan2(-dy,dx)\n",
    "        v1 = np.array([self.vx, self.vy])\n",
    "        v2 = np.array([p.vx, p.vy])\n",
    "        v1s = particle.rotMat(alpha,v1)\n",
    "        v2s = particle.rotMat(alpha,v2)\n",
    "        v1ns=(v2s[0],v1s[1])\n",
    "        v2ns=(v1s[0],v2s[1])\n",
    "        v1n= particle.rotMat(-alpha,v1ns)\n",
    "        v2n= particle.rotMat(-alpha,v2ns)\n",
    "        self.vx = v1n[0]\n",
    "        self.vy = v1n[1]\n",
    "        p.vx = v2n[0]\n",
    "        p.vy = v2n[1]"
   ]
  },
  {
   "cell_type": "code",
   "execution_count": 12,
   "metadata": {},
   "outputs": [],
   "source": [
    "class simulation:\n",
    "    p = []\n",
    "    \n",
    "    width = widgets.IntSlider(min=10, max= 800, value=500)\n",
    "    height = 300\n",
    "    canvas = Canvas(width=width.value, height=height)\n",
    "    dt = 0.02\n",
    "\n",
    "    \n",
    "    def generateParticles(n):\n",
    "        for _ in range(n):\n",
    "            simulation.p.append(particle(2,random.randint(0,200),random.randint(0,200),random.randint(-150,150),random.randint(-150,150),2))\n",
    "    \n",
    "    def removeParticles(list):\n",
    "        for i in list:\n",
    "            del p[i]\n",
    "    def deleteParticles():\n",
    "        simulation.p = []\n",
    "    \n",
    "    \n",
    "    def addParticle(particle):\n",
    "        simulation.p.append(particle)\n",
    "\n",
    "    def collisionTest():\n",
    "        count = 1\n",
    "        for i in simulation.p:\n",
    "            \n",
    "            if i.x < i.r:\n",
    "                i.bounceWall(0)\n",
    "            elif i.x > simulation.width.value-i.r:\n",
    "                i.bounceWall(1)\n",
    "                \n",
    "            if i.y < i.r:\n",
    "                i.bounceWall(2)\n",
    "            elif i.y > simulation.height-i.r:\n",
    "                i.bounceWall(3)\n",
    "            \n",
    "            for j in simulation.p[count::]:\n",
    "                dx = i.x-j.x\n",
    "                dy = i.y-j.y\n",
    "                if dx**2+dy**2 <= (i.r+j.r)**2:\n",
    "                    i.bounce(j)\n",
    "            count = count + 1\n",
    "            \n",
    "    def plotParticles():\n",
    "        display(simulation.canvas)\n",
    "        with hold_canvas():\n",
    "            simulation.canvas.clear()\n",
    "            for i in simulation.p:\n",
    "                simulation.canvas.fill_circle(i.x, i.y, i.r)\n",
    "                \n",
    "    def animateParticles():\n",
    "        for _ in range(1000):\n",
    "            with hold_canvas():\n",
    "                simulation.canvas.clear()\n",
    "                simulation.canvas.stroke_rect(0,0,width=simulation.width.value,height=simulation.height)\n",
    "                for i in simulation.p:\n",
    "                    i.move(simulation.dt)\n",
    "                    simulation.canvas.fill_circle(i.x, i.y, i.r)\n",
    "            simulation.collisionTest()\n",
    "            sleep(simulation.dt)\n",
    "\n",
    "    def start():\n",
    "        display(simulation.width)\n",
    "        display(simulation.canvas)\n",
    "        t = Thread(target=simulation.animateParticles, daemon=True)\n",
    "        t.start()\n",
    "    \n",
    "        "
   ]
  },
  {
   "cell_type": "code",
   "execution_count": 14,
   "metadata": {},
   "outputs": [
    {
     "data": {
      "application/vnd.jupyter.widget-view+json": {
       "model_id": "373a326940e14c1baf20ef0990d17077",
       "version_major": 2,
       "version_minor": 0
      },
      "text/plain": [
       "IntSlider(value=400, max=800, min=10)"
      ]
     },
     "metadata": {},
     "output_type": "display_data"
    },
    {
     "data": {
      "application/vnd.jupyter.widget-view+json": {
       "model_id": "3b7cd8c904604ff48a1c945e087f0d44",
       "version_major": 2,
       "version_minor": 0
      },
      "text/plain": [
       "Canvas(height=300, width=500)"
      ]
     },
     "metadata": {},
     "output_type": "display_data"
    }
   ],
   "source": [
    "simulation.deleteParticles()\n",
    "simulation.generateParticles(50)\n",
    "simulation.start()"
   ]
  },
  {
   "cell_type": "code",
   "execution_count": null,
   "metadata": {},
   "outputs": [],
   "source": []
  }
 ],
 "metadata": {
  "kernelspec": {
   "display_name": "Python 3 (ipykernel)",
   "language": "python",
   "name": "python3"
  },
  "language_info": {
   "codemirror_mode": {
    "name": "ipython",
    "version": 3
   },
   "file_extension": ".py",
   "mimetype": "text/x-python",
   "name": "python",
   "nbconvert_exporter": "python",
   "pygments_lexer": "ipython3",
   "version": "3.10.4"
  }
 },
 "nbformat": 4,
 "nbformat_minor": 2
}
