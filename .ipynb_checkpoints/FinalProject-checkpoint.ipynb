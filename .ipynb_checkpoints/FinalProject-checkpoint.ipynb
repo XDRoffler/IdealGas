{
 "cells": [
  {
   "cell_type": "markdown",
   "metadata": {},
   "source": [
    "<h1 style=\"text-align:center;\">Project: Simulation of an ideal gas</h1>\n",
    "<p style=\"text-align:center;\">by Simon Legtenborg, 3773994</p>"
   ]
  },
  {
   "cell_type": "code",
   "execution_count": 2,
   "metadata": {},
   "outputs": [],
   "source": [
    "import numpy as np\n",
    "import matplotlib.pyplot as plt\n",
    "import random\n",
    "import ipywidgets as widgets\n",
    "from ipycanvas import Canvas, hold_canvas\n",
    "from time import sleep\n",
    "from threading import Thread"
   ]
  },
  {
   "cell_type": "markdown",
   "metadata": {},
   "source": [
    "<h2> Introduction </h2>\n",
    "\n",
    "<p>Einer der faszinierendsten Themen der Thermodynamik ist das Wechselspiel aus Marko- und Mikrophysik. Deswegen habe ich mir das Ziel gesetzt, eine Simulation zu entwickeln, die ein Gas auf mikroskopischer Ebene simuliert und makroskopische Zustände ausliest. Damit sollen die aus der Vorlesung bereits hergeleiteten Zustandsgleichungen (2. Gay-Lussac'sches Gesetz, Boyle-Mariotte'sches Gesetz, ideale Gasgleichung) sowie die Grundgleichungen der kinetischen Gastheorie (Druck, kinetische Energie, Maxwell-Boltzmann-Verteilung) überprüft und bestätigt werden. \n",
    "Die Arbeit sollte außerdem eine interaktive Simulation für eventuelle Lehrzwecke liefern. </p>"
   ]
  },
  {
   "cell_type": "markdown",
   "metadata": {},
   "source": [
    "<h2>Fundamentals</h2>"
   ]
  },
  {
   "cell_type": "markdown",
   "metadata": {},
   "source": [
    "<h3>Zustandsgleichungen </h3>\n"
   ]
  },
  {
   "cell_type": "markdown",
   "metadata": {},
   "source": [
    "<h3> Das Modell des idealen Gases </h3>\n",
    "Das einfachste Gasmodell hat folgenden Annahmen: \n",
    "Ein Gas besteht aus Atomen und Molekülen, welche durch kleine starre Kugeln approximiert werden. Sie bewegen sich mit statistisch verteilten Geschwindigkeiten und stoßen (vollkommen elastisch)untereinander und mit der Wand unter Einhalten des Energie- und Impulserhalungssatzes. Sonst beeinflussen sich die Gasatome überhaupt nicht. \n",
    "Ist r0 klein gegenüber dem mittleren Abstand zwischen den Gasatomen, so nennt sich das Modell ein ideales Gas. "
   ]
  },
  {
   "cell_type": "markdown",
   "metadata": {},
   "source": [
    "<h2>Results and Discussion</h2>"
   ]
  },
  {
   "cell_type": "code",
   "execution_count": 8,
   "metadata": {},
   "outputs": [],
   "source": [
    "class particle:\n",
    "    \n",
    "    \n",
    "    def rotMat(alpha, x):\n",
    "        return np.array([[np.cos(alpha), -np.sin(alpha)], [np.sin(alpha), np.cos(alpha)]]).dot(x)\n",
    "    \n",
    "    def __init__(self, m, x,y, vx, vy,r):\n",
    "        self.m = m     #kg\n",
    "        self.vx = vx   #m/s\n",
    "        self.vy = vy   #m/s\n",
    "        self.x = x     #m\n",
    "        self.y = y     #m\n",
    "        self.r = r     #m\n",
    "        self.ratio = 1\n",
    "    \n",
    "    def move(self, dt, ratio):\n",
    "            self.x = self.vx * ratio * dt+ self.x\n",
    "            self.y = self.vy * ratio * dt + self.y\n",
    "            self.ratio = ratio\n",
    "            \n",
    "    def bounceWall(self,n):\n",
    "        match n:\n",
    "            case 0:\n",
    "                self.vx = -self.vx\n",
    "                self.x = 2*self.r - self.x\n",
    "            case 1:\n",
    "                self.vx = -self.vx\n",
    "                self.x= 2*(simulation.width.value*10**-12-self.r)-self.x\n",
    "            case 2:\n",
    "                self.vy = -self.vy\n",
    "                self.y = 2*self.r-self.y\n",
    "            case 3:\n",
    "                self.vy = -self.vy\n",
    "                self.y = 2*(simulation.height-self.r)-self.y\n",
    "                \n",
    "    def bounce(self,p):\n",
    "        dx = self.x-p.x\n",
    "        dy = -(self.y-p.y)\n",
    "        d = np.sqrt(dx**2+dy**2)\n",
    "        alpha = np.arctan2(dy,dx)\n",
    "        \n",
    "        p1=np.array([self.x,self.y])\n",
    "        p2=np.array([p.x,p.y])\n",
    "        p1s=particle.rotMat(alpha,p1)\n",
    "        p2s=particle.rotMat(alpha,p2)\n",
    "        p1ns=np.array([p1s[0]+(2*self.r-d)/2,p1s[1]])\n",
    "        p2ns=np.array([p2s[0]-(2*self.r-d)/2,p2s[1]])\n",
    "        p1n=particle.rotMat(-alpha,p1ns)\n",
    "        p2n=particle.rotMat(-alpha,p2ns)\n",
    "        self.x=p1n[0]\n",
    "        self.y=p1n[1]\n",
    "        p.x=p2n[0]\n",
    "        p.y=p2n[1]\n",
    "         \n",
    "        v1 = np.array([self.vx, self.vy])\n",
    "        v2 = np.array([p.vx, p.vy])\n",
    "        v1s = particle.rotMat(alpha,v1)\n",
    "        v2s = particle.rotMat(alpha,v2)\n",
    "        v1ns=(v2s[0],v1s[1])\n",
    "        v2ns=(v1s[0],v2s[1])\n",
    "        v1n= particle.rotMat(-alpha,v1ns)\n",
    "        v2n= particle.rotMat(-alpha,v2ns)\n",
    "        self.vx = v1n[0]\n",
    "        self.vy = v1n[1]\n",
    "        p.vx = v2n[0]\n",
    "        p.vy = v2n[1]\n",
    "        \n",
    "    def getKineticEnergy(self,dt):\n",
    "        return 1/2 * self.m * ((self.vx*self.ratio)**2+(self.vy*self.ratio)**2)"
   ]
  },
  {
   "cell_type": "code",
   "execution_count": 12,
   "metadata": {},
   "outputs": [],
   "source": [
    "class simulation:\n",
    "    \n",
    "    p = []\n",
    "    height = 3000e-12        #m (3000pm)\n",
    "    dt = 20e-15              #s (200fs)\n",
    "    radius = 50e-12          #m (50pm)\n",
    "    k = 1.380649 *10**-23    #J/K\n",
    "    impulse = np.zeros(200)\n",
    "    \n",
    "    startSimulation=False\n",
    "    \n",
    "    veloRatio = widgets.FloatSlider(min=0.1,max=3, value=1,step=0.01, description=\"Velocity\")\n",
    "    width = widgets.IntSlider(min=500, max= 8000, value=4000, description=\"Width (pm) \")\n",
    "    buttonAdd = widgets.Button(description=\"+\")\n",
    "    buttonRem = widgets.Button(description=\"-\")\n",
    "    buttonStart = widgets.Button(description=\"start\")\n",
    "    buttonStop = widgets.Button(description=\"stop\")\n",
    "    textVolume = widgets.FloatText(description=\"Volume (pm³)\", disabled=True)\n",
    "    textPressure = widgets.FloatText(description=\"Pressure\", disabled=True)\n",
    "    textTemperature = widgets.FloatText(description=\"Temperature\", disabled=True)\n",
    "    textParticles = widgets.IntText(disabled = True)\n",
    "    canvas = Canvas(width = width.max/10, height=height*10**12/10)\n",
    "    \n",
    "    def generateParticles(button=widgets.Button(), n=10):\n",
    "        for _ in range(n):\n",
    "            v = random.randint(0,2000)\n",
    "            alpha = random.random() * 2 * np.pi\n",
    "            simulation.p.append(particle(2.6569e-26,random.randint(0,simulation.width.value)*10**-12,\n",
    "                random.randint(0,simulation.height*10**12)*10**-12,\n",
    "                v * np.cos(alpha) ,v * np.sin(alpha),50*10**-12))\n",
    "            simulation.textParticles.value = len(simulation.p)\n",
    "    \n",
    "    def removeParticles(button=widgets.Button(), n=10):\n",
    "            for _ in range(n):\n",
    "                if simulation.p:\n",
    "                    simulation.p.pop()\n",
    "            simulation.textParticles.value = len(simulation.p)\n",
    "\n",
    "    def deleteParticles():\n",
    "        simulation.p = []\n",
    "    \n",
    "    def addParticle(particle):\n",
    "        simulation.p.append(particle)\n",
    "\n",
    "    def collisionTest():\n",
    "        count = 1\n",
    "        for i in simulation.p:\n",
    "            \n",
    "            for j in simulation.p[count::]:\n",
    "                dx = j.x-i.x\n",
    "                dy = j.y-i.y\n",
    "                if dx**2+dy**2 < (i.r+j.r)**2:\n",
    "                     if (dx*i.vx <=0 and dx*j.vx >=0 ) and (dy*i.vy <=0 and dy*j.vy >=0 ):\n",
    "                        pass \n",
    "                     else:\n",
    "                        i.bounce(j)\n",
    "            count = count + 1\n",
    "            \n",
    "            if i.x < i.r:\n",
    "                i.bounceWall(0)\n",
    "                simulation.impulse[0] = simulation.impulse[0] + abs(2 * i.m * i.vx * i.ratio)\n",
    "            elif i.x > simulation.width.value*10**-12-i.r:\n",
    "                i.bounceWall(1)\n",
    "                simulation.impulse[0] = simulation.impulse[0] + abs(2 * i.m * i.vx * i.ratio)\n",
    "                \n",
    "            if i.y < i.r:\n",
    "                i.bounceWall(2)\n",
    "                simulation.impulse[0] = simulation.impulse[0] + abs(2 * i.m * i.vy * i.ratio)\n",
    "            elif i.y > simulation.height-i.r:\n",
    "                i.bounceWall(3)\n",
    "                simulation.impulse[0] = simulation.impulse[0] + abs(2 * i.m * i.vy * i.ratio)\n",
    "                \n",
    "            \n",
    "                            \n",
    "    def animateParticles():     #1px = 10pm\n",
    "        while simulation.startSimulation:\n",
    "            with hold_canvas():\n",
    "                simulation.canvas.clear()\n",
    "                simulation.canvas.stroke_rect(0,0,width=simulation.width.value/10,height=simulation.height*10**12/10)\n",
    "                for i in simulation.p:\n",
    "                    simulation.canvas.fill_circle(i.x*10**12/10, i.y*10**12/10, i.r*10**12/10)\n",
    "                    i.move(simulation.dt, simulation.veloRatio.value)\n",
    "            \n",
    "            simulation.collisionTest()\n",
    "            simulation.updateValues()\n",
    "            sleep(simulation.dt*10**12)\n",
    "\n",
    "        \n",
    "    def updateValues():\n",
    "            simulation.textVolume.value=simulation.width.value * simulation.height * 2 *simulation.radius\n",
    "            simulation.textPressure.value = np.sum(simulation.impulse)/ (len(simulation.impulse)*simulation.dt * 4 *simulation.radius *(simulation.width.value +simulation.height))\n",
    "            simulation.impulse = np.roll(simulation.impulse,1)\n",
    "            simulation.impulse[0] = 0\n",
    "            \n",
    "            E_kin = 0\n",
    "            if simulation.p:\n",
    "                for i in simulation.p:\n",
    "                    E_kin = E_kin+i.getKineticEnergy(simulation.dt)\n",
    "                E_kin = E_kin/len(simulation.p)\n",
    "                simulation.textTemperature.value=2/3 * E_kin/simulation.k\n",
    "                \n",
    "                \n",
    "    def initialize():\n",
    "        simulation.buttonAdd.on_click(simulation.generateParticles)\n",
    "        simulation.buttonRem.on_click(simulation.removeParticles)\n",
    "        simulation.buttonStart.on_click(simulation.start)\n",
    "        simulation.buttonStop.on_click(simulation.stop)\n",
    "        \n",
    "        items = [widgets.HBox([simulation.buttonAdd, simulation.buttonRem, simulation.textParticles]),\n",
    "                 simulation.textVolume, simulation.buttonStart, \n",
    "                 simulation.width, simulation.textPressure, simulation.buttonStop, \n",
    "                 simulation.veloRatio, simulation.textTemperature]\n",
    "        w = widgets.GridBox(items, layout=widgets.Layout(grid_template_columns=\"repeat(3, 300px)\"))\n",
    "        \n",
    "        display(w)\n",
    "        display(simulation.canvas)\n",
    "        \n",
    "            \n",
    "    def start(button=widgets.Button()):\n",
    "        simulation.startSimulation = True\n",
    "        t = Thread(target=simulation.animateParticles, daemon=True)\n",
    "        t.start()\n",
    "        \n",
    "    def stop(button=widgets.Button()):\n",
    "        simulation.startSimulation = False\n",
    "        \n",
    "         "
   ]
  },
  {
   "cell_type": "markdown",
   "metadata": {},
   "source": [
    "<h3>Grundannahmen</h3>\n",
    "Bevor wir erste Erkenntnisse aus der Simulation gewinnen können, müssen zuerst die Grundannahmen getestet werden. Schauen wir uns die Geschwindigkeitsverteilung an, bevor die Simulation überhaupt startet."
   ]
  },
  {
   "cell_type": "code",
   "execution_count": 44,
   "metadata": {},
   "outputs": [
    {
     "data": {
      "image/png": "[encoded data removed]",
      "text/plain": [
       "<Figure size 432x288 with 1 Axes>"
      ]
     },
     "metadata": {
      "needs_background": "light"
     },
     "output_type": "display_data"
    },
    {
     "name": "stdout",
     "output_type": "stream",
     "text": [
      "Die mittlere Geschwindigkeit beträgt: 991.829 m/s\n",
      "Die absolute mittlere Geschwindigkeit in x-Richtung beträgt durchschnittlich: 633.6397408236121 m/s\n",
      "Die absolute mittlere Geschwindigkeit in y-Richtung beträgt durchschnittlich: 633.9148249118294 m/s\n",
      "vx² = 669275.8750988009 m²/s² vy² = 653605.5219011991 m²/s² v² = 1322881.397 m²/s²\n"
     ]
    }
   ],
   "source": [
    "simulation.deleteParticles()\n",
    "simulation.generateParticles(n=1000)\n",
    "vx = np.array([])\n",
    "vy = np.array([])\n",
    "v = np.array([])\n",
    "for i in simulation.p:\n",
    "    vx = np.append(vx, i.vx)\n",
    "    vy = np.append(vy, i.vy)\n",
    "    v = np.append(v, np.sqrt(i.vx**2+i.vy**2))\n",
    "    \n",
    "v_mean = np.mean(v)\n",
    "vx_mean = np.mean(np.abs(vx))\n",
    "vy_mean = np.mean(np.abs(vy))\n",
    "v_squared_mean = np.mean(v**2)\n",
    "vx_squared_mean = np.mean(vx**2)\n",
    "vy_squared_mean = np.mean(vy**2)\n",
    "\n",
    "plt.hist(v,10, density=True)\n",
    "plt.show()\n",
    "\n",
    "print(f\"Die mittlere Geschwindigkeit beträgt: {v_mean} m/s\")\n",
    "print(f\"Die absolute mittlere Geschwindigkeit in x-Richtung beträgt durchschnittlich: {vx_mean} m/s\")\n",
    "print(f\"Die absolute mittlere Geschwindigkeit in y-Richtung beträgt durchschnittlich: {vy_mean} m/s\")\n",
    "\n",
    "print(f\"vx² = {vx_squared_mean} m²/s²\", f\"vy² = {vy_squared_mean} m²/s²\", f\"v² = {v_squared_mean} m²/s²\")"
   ]
  },
  {
   "cell_type": "markdown",
   "metadata": {},
   "source": [
    "Wir erkennen, dass folgende Beziehungen gelten: <br>\n",
    "$\n",
    "\\begin{align}\n",
    "    \\overline{{v_x}^2} \\approx \\frac{1}{2} \\cdot \\overline{v²} \\\\\n",
    "    \\overline{{v_y}^2} \\approx \\frac{1}{2} \\cdot \\overline{v²}\n",
    "\\end {align}\n",
    "$ <br>\n",
    "Die Geschwindigkeitsverteilung ist also isotrop."
   ]
  },
  {
   "cell_type": "markdown",
   "metadata": {},
   "source": []
  },
  {
   "cell_type": "code",
   "execution_count": null,
   "metadata": {},
   "outputs": [],
   "source": []
  }
 ],
 "metadata": {
  "kernelspec": {
   "display_name": "Python 3 (ipykernel)",
   "language": "python",
   "name": "python3"
  },
  "language_info": {
   "codemirror_mode": {
    "name": "ipython",
    "version": 3
   },
   "file_extension": ".py",
   "mimetype": "text/x-python",
   "name": "python",
   "nbconvert_exporter": "python",
   "pygments_lexer": "ipython3",
   "version": "3.10.4"
  }
 },
 "nbformat": 4,
 "nbformat_minor": 2
}
