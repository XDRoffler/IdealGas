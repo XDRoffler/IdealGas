{
 "cells": [
  {
   "cell_type": "markdown",
   "metadata": {},
   "source": [
    "<h1 style=\"text-align:center;\">Project: Simulation of an ideal gas</h1>\n",
    "<p style=\"text-align:center;\">by Simon Legtenborg, 3773994</p>"
   ]
  },
  {
   "cell_type": "code",
   "execution_count": 1,
   "metadata": {},
   "outputs": [],
   "source": [
    "import numpy as np\n",
    "import matplotlib.pyplot as plt\n",
    "import random\n",
    "import ipywidgets as widgets\n",
    "from ipycanvas import Canvas, hold_canvas\n",
    "from time import sleep\n",
    "from threading import Thread"
   ]
  },
  {
   "cell_type": "markdown",
   "metadata": {},
   "source": [
    "<h2> Introduction </h2>\n",
    "\n",
    "<p>Einer der faszinierendsten Themen der Thermodynamik ist das Wechselspiel aus Marko- und Mikrophysik. Deswegen habe ich mir das Ziel gesetzt, eine Simulation zu entwickeln, die ein Gas auf mikroskopischer Ebene simuliert und makroskopische Zustände ausliest. Damit sollen die aus der Vorlesung bereits hergeleiteten Zustandsgleichungen (2. Gay-Lussac'sches Gesetz, Boyle-Mariotte'sches Gesetz, ideale Gasgleichung) sowie die Grundgleichungen der kinetischen Gastheorie (Druck, kinetische Energie, Maxwell-Boltzmann-Verteilung) überprüft und bestätigt werden. \n",
    "Die Arbeit bietet außerdem eine interaktive Simulation. </p>"
   ]
  },
  {
   "cell_type": "markdown",
   "metadata": {},
   "source": [
    "<h2>Fundamentals</h2>"
   ]
  },
  {
   "cell_type": "markdown",
   "metadata": {},
   "source": [
    "Bevor wir zur Simulation kommen, müssen die Gesetzmäßigkeiten erklärt, die wir im Anschluss überprüfen wollen."
   ]
  },
  {
   "cell_type": "markdown",
   "metadata": {},
   "source": [
    "<h3>Zustandsgleichungen</h3>\n",
    "\n",
    "<p>In der Simulation kann Volumen, Temperatur und Teilchenzahl variiert bzw. konstant gehalten werden. Es bietet sich deshalb an, die Gesetze von Boyle-Marionette und Gay-Lussac (2. Gesetz) zu überprüfen:</p>"
   ]
  },
  {
   "cell_type": "markdown",
   "metadata": {},
   "source": [
    "<p><b>Boyle Marionette: </b>Wird eine feste Menge eines idealen Gases auf einer konstanten Temperaur gehalten, während Druck und Volumen veränderbar sind, so ist das Volumen indirekt proportional\n",
    "zum Druck. Es gilt:<br>\n",
    "$T \\hbox{ konst. } \\Rightarrow V \\propto \\frac{1}{p}$\n",
    "</p>"
   ]
  },
  {
   "cell_type": "markdown",
   "metadata": {},
   "source": [
    "<p><b>2. Gay-Lussac'sches Gesetz: </b>Wird eine feste Menge eines idealen Gases auf einem konstanten Volumen V gehalten, während sich die Temperatur oder der Druck ändern, so ist der Druck proportional zur Temperatur T. Es gilt:<br>\n",
    "$V \\hbox{ konst. } \\Rightarrow p \\propto T$</p>"
   ]
  },
  {
   "cell_type": "markdown",
   "metadata": {},
   "source": [
    "<p>Kombiniert man beide Gesetze, so ergibt sich als allgemeines Gasgesetz: <br>\n",
    "$\\frac{p \\cdot V}{T} = \\hbox{ konst.}$ <br>\n",
    "Wird anschließend noch die Teilchenzahl variiert, so ergibt sich die ideale Gasgleichung: <br>\n",
    "$p \\cdot V = N \\cdot k_B \\cdot T$\n",
    "\n"
   ]
  },
  {
   "cell_type": "markdown",
   "metadata": {},
   "source": [
    "<h3> Das Modell des idealen Gases </h3>\n",
    "Die oben beschriebenen Gesetze setzen voraus, dass mit einem idealen Gas gearbeitet wird. Was ein ideales Gas überhaupt ist, und wir ein Gas in einer Simulation umgesetzt werden kann, wird nun erläutert."
   ]
  },
  {
   "cell_type": "markdown",
   "metadata": {},
   "source": [
    "Folgende Annahmen beschreiben das Modell des idealen Gases vollständig:\n",
    "<ul>\n",
    "    <li>Atome/Moleküle werden durch kleine starre Kugeln mit Radius $r_0$ approximiert</li>\n",
    "    <li>N Kugeln existieren in einer Box, Position, Geschwindigkeit, Masse und Radius sind gekannt</li>\n",
    "    <li>Geschwindigkeit ist statistisch verteilt </li>\n",
    "    <li>Kugeln interagieren nur durch elastische Stöße mit der Wand oder anderem Teilchen</li>\n",
    "    <li>$r_0$ ist klein gegenüber mittleren Abstand der Teilchen\n",
    "</ul>\n",
    "\n",
    "<table>\n",
    "  <tr>\n",
    "    <td style=\"background-color:white\">\n",
    "        <figure>\n",
    "          <img src=\"images/video1.gif\" alt=\"Trulli\" style=\"width:100%\">\n",
    "          <figcaption>elastischer Stoß zwischen Kugel und Wand</figcaption>\n",
    "        </figure>\n",
    "    </td>\n",
    "    <td style=\"background-color:white\">\n",
    "        <figure>\n",
    "          <img src=\"images/video2.gif\" alt=\"Trulli\" style=\"width:100%\">\n",
    "          <figcaption>elastischer Stoß zwischen zwei Kugeln</figcaption>\n",
    "        </figure>\n",
    "    </td>\n",
    "  </tr>\n",
    "</table>"
   ]
  },
  {
   "cell_type": "markdown",
   "metadata": {},
   "source": [
    "<h3>Die Mathematik der Stöße</h3>\n",
    "Stöße sind die einzige Möglichkeit, wie Teilchen miteinander interagieren können. Deswegen ist sie auch das Herzstück der Simulation."
   ]
  },
  {
   "cell_type": "markdown",
   "metadata": {},
   "source": [
    "<p><b>Mathematik von elastischen Stößen in 1D: </b>Beim idealen elastischen Stoß stoßen zwei Körper aufeinander ohne dass kinetische Energie verloren geht. Es gilt also der Energie- und Impulserhaltungssatz:<br><br>\n",
    "$\n",
    "\\begin{align*}\n",
    "   &\\sum E_{kin}=\\sum E_{kin}'\\\\\n",
    "   &\\frac{m_1}{2} \\cdot v_1^2+\\frac{m_2}{2} \\cdot v_2^2 = \\frac{m_1}{2} \\cdot {v_1'}^2\n",
    "   + \\frac{m_2}{2} \\cdot {v_2'}^2\\\\\n",
    "   &\\frac{m_1}{2} \\cdot (v_1^2-{v_1'}^2)=\\frac{m_2}{2} \\cdot ({v_2'}^2-v_2^2)\\\\\\\\\n",
    "   &\\sum \\vec{p}= \\sum \\vec{p'}\\\\\n",
    "   &m_1 \\cdot \\vec{v_1}+m_2 \\cdot \\vec{v_2} = m_1 \\cdot \\vec{v_1'}\n",
    "   + m_2 \\cdot \\vec{v_2'}\\\\\n",
    "   &m_1 \\cdot (\\vec{v_1}-\\vec{v_1'})=m_2 \\cdot (\\vec{v_2'}-\\vec{v_2})\\\\\n",
    "\\end{align*}\n",
    "$<br><br>\n",
    "Durch geeignetes Umstellen (Verweis auf Demtröder) ergibt sich für $v_1'$ und $v_2'$:<br>\n",
    "    \n",
    "$\n",
    "\\begin{align*}\n",
    "    &v_1'=2 \\frac{m_1 v_1+m_2 v_2}{m_1 + m_2}-v_1\\\\\n",
    "    &v_2'=2 \\frac{m_1 v_1+m_2v_2}{m_1+m_2}-v_2\n",
    "\\end{align*}\n",
    "$\n",
    " \n",
    "    \n",
    "Für den Fall $m_2 \\to \\infty$ und $v_2=0$, also eine Wand, gilt:<br>\n",
    "$\n",
    "\\begin{align*}\n",
    "    &v_1'=-v_1\\\\\n",
    "    &v_2'=0\n",
    "\\end{align*}\n",
    "$    \n",
    "</p>"
   ]
  },
  {
   "cell_type": "markdown",
   "metadata": {},
   "source": [
    "<p><b>Mathematik von Stößen in 2D:</b> Der zweidimensionale elastische Stoß beruht prinzipiell auf dem eindimensionalen Stoß. Für die Berechnung benötigen wir ein geeignetes Koordinatensystem, welches eine Achse senkrecht und eine Achse parallel zur Zentralsteigung besitzt. Die Zentralsteigung beschreibt hierbei die Gerade durch die Mittelpunkte der Kugel. Beim Stoß erfolg die Berechnung wie beim eindimensionalen, aber nur in Richtung der Zentralsteigung.<br>\n",
    "    \n",
    "<figure style=\"float:left;\">\n",
    "          <img src=\"./images/asset6.svg\", width=300px style=\"margin:10px\">\n",
    "          <figcaption>elastischer Stoß zwischen Kugel und Wand</figcaption>\n",
    "        </figure>    \n",
    "<p>\n",
    "    Für den elastischen Stoß gilt dann:<br>\n",
    "        $\n",
    "        \\begin{align*}\n",
    "        &\\vec{v_1} =\n",
    "        \\begin{pmatrix}\n",
    "        v_{1x}\\\\\n",
    "        v_{1y}\n",
    "        \\end{pmatrix},\n",
    "        \\vec{v_2} =\n",
    "        \\begin{pmatrix}\n",
    "        v_{2x}\\\\\n",
    "        v_{2y}\n",
    "        \\end{pmatrix}\\\\\n",
    "        &\\vec{v_1'}=\n",
    "        \\begin{pmatrix}\n",
    "        2 \\frac{m_1 v_{1x}+m_2 v_{2x}}{m_1 + m_2}-v_{1x}\\\\\n",
    "        v_{1y}\n",
    "        \\end{pmatrix}\\\\\n",
    "        &\\vec{v_2'}=\n",
    "        \\begin{pmatrix}\n",
    "        2 \\frac{m_1 v_{1x}+m_2 v_{2x}}{m_1 + m_2}-v_{2x}\\\\\n",
    "        v_{2y}\n",
    "        \\end{pmatrix}\n",
    "        \\end{align*}\n",
    "        $\n",
    "</p>\n",
    "    \n",
    "    \n",
    "\n",
    "\n",
    "    "
   ]
  },
  {
   "cell_type": "markdown",
   "metadata": {},
   "source": [
    "<p><b>Koordinatentransformation: </b> Die wichtigste Voraussetzung für die Berechnung zweidimensionaler Stöße ist das geeignete Koordinatensystem, welches nicht trivial gegeben ist. Für die Simulation wird die kanonische Basis verwendet. Um auf unser neues Koordinatensystem zu kommen, nutzen wir eine Basistransformationsmatrix U. Da U nur ein gedrehtes kanonisches Koordinatensystem ist, kann man die Transformationsmatrix als Drehmatrix auffassen.\n",
    "\n",
    "<figure style=\"float:left;\">\n",
    "    <img src=\"./images/asset7.svg\" width=300px style=\"margin:10px\"\n",
    "    <figcaption>elastischer Stoß zwischen Kugel und Wand</figcaption>\n",
    "</figure>\n",
    "\n",
    "<p>\n",
    "    $\n",
    "    \\begin{align*}\n",
    "        &U_{\\alpha} = \n",
    "            \\begin{pmatrix}\n",
    "                &\\cos(\\alpha) &-\\sin(\\alpha)\\\\\n",
    "                &\\sin(\\alpha) & \\cos(\\alpha)\n",
    "            \\end{pmatrix}\n",
    "    \\end{align*}\n",
    "    $<br>\n",
    "    Möchte man von der neuen Basis zurück in die kanonische gelangen, so berechnet man die Inverse. Für die Rotationsmatrix gilt dann:<br>\n",
    "    $\n",
    "    \\begin{align*}\n",
    "        &U_{\\alpha}^{-1} = \n",
    "            \\begin{pmatrix}\n",
    "                &\\cos(-\\alpha) &-\\sin(-\\alpha)\\\\\n",
    "                &\\sin(-\\alpha) & \\cos(-\\alpha)\n",
    "            \\end{pmatrix}\n",
    "        \\end{align*}\n",
    "    $<br>\n",
    "    Ausschlaggebend für die Berechnung der Rotationsmatrix ist der Winkel $\\alpha$. Dieser kann über die atan2-Funktion berechnet werden:<br>\n",
    "    $\n",
    "    \\begin{align*}\n",
    "        &\\alpha = \\arctan2(dy,dx) \\\\\n",
    "    \\end{align*}\n",
    "    $\n",
    "</p>"
   ]
  },
  {
   "cell_type": "markdown",
   "metadata": {},
   "source": [
    "<h3>Gleichungen der kinetischen Gasthorie</h3>"
   ]
  },
  {
   "cell_type": "markdown",
   "metadata": {},
   "source": [
    "<p><b>Druck: </b>Druck entsteht durch Impulsübertragung bei Stößen gegen die Wände. \n",
    "<figure style=\"float:right; margin:10px\">\n",
    "    <img src=\"./images/asset8.svg\" width=300px>\n",
    "    <figcaption>elastischer Stoß zwischen Kugel und Wand</figcaption>\n",
    "</figure>\n",
    "    Im Zeitintervall $dt$ stoßen alle Teilchen im Volumen $v_x dt \\cdot A$ mit Geschwindigkeit $v_x$ in positiver x-Richtung gegen die Wand, also <br>\n",
    "$\n",
    "\\begin{align*}\n",
    "&N_s= N_x \\frac{v_x dt \\cdot A}{V}\n",
    "\\end{align*}\n",
    "$<br>\n",
    "Dabei ist $N_x$ die Anzahl aller Teilchen, die die Geschwindigkeit $v_x$ in positive x-Richtung haben und $N_s$ alle Teilchen, die im Zeitintervall dt gegen die Wand stoßen. Ein Teilchen überträgt den Impuls $2mv_x$. Mithilfe der Formeln<br>\n",
    "$\n",
    "\\begin{align*}\n",
    "&p = \\frac{F}{A} &&F= \\frac{dP}{dt} && P = N_s \\cdot 2mv_x\n",
    "\\end{align*}\n",
    "$<br>\n",
    "ergibt sich für den Druck:<br>\n",
    "$\n",
    "\\begin{align*}\n",
    "p(v_x)= \\frac{1}{A} \\cdot \\frac{1}{dt}\\left( N_x \\cdot \\frac{v_x dt \\cdot A}{V}\\cdot 2mv_x\\right)= 2 \\frac{N_x}{V}mv_x^2\n",
    "\\end{align*}\n",
    "$<br>\n",
    "Nicht alle Teilchen haben die gleiche Geschwindigkeit, jedoch ist die Geschwindigkeitsverteilung isotrop. Das bedeutet $\\overline{v_x^2}=\\overline{v_y^2}=\\frac{1}{2}\\overline{v^2}$. Da sich im Mittel gleich viele Teilchen in +x und in -x Richtung bewegen kommt der Faktor $\\frac{1}{2}$ hinzu. Dann gilt:<br>\n",
    "$\n",
    "\\begin{align*}\n",
    "p=\\frac{N}{V}m\\overline{v_x^2}=\\frac{1}{2} \\frac{N}{V}m \\overline{v^2}\n",
    "\\end{align*}\n",
    "$"
   ]
  },
  {
   "cell_type": "markdown",
   "metadata": {},
   "source": [
    "<p><b>kinetische Energie: </b> Mithilfe des Zusammenhangs $\\overline{E_{kin}}=\\frac{m}{2}\\overline{v^2}$ folgt $p=\\frac{N}{V}\\cdot \\overline{E_{kin}}$. Mit der ZUstandsgleichung $pV=Nk_bT$ ergibt es dann: $\\overline{E_{kin}}=k_bT$"
   ]
  },
  {
   "cell_type": "markdown",
   "metadata": {},
   "source": [
    "<p><b>Geschwindigkeitsverteilung: </b> Wie die Geschwindigkeiten eines idealen Gases aussehen, beschreibt die Maxwell-Boltzmann'sche Geschwindigkeitsverteilung. Auf eine Herleitung sei hier verzichtet und auf den Demtröder verwiesen. Die Wahrscheinlichkeit, dass ein Teilchen eine Geschwindigkeit von v bis v+dv hat, ist $f(v)dv$ mit:<br>\n",
    "$\n",
    "\\begin{align*}\n",
    "f(v)dv=\\frac{4}{\\sqrt{\\pi}} \\left ( \\frac{m}{2k_BT}\\right)^{\\frac{3}{2}}v^2e^{\\frac{-mv^2}{2k_bT}}dv\n",
    "\\end{align*}\n",
    "$"
   ]
  },
  {
   "cell_type": "markdown",
   "metadata": {},
   "source": [
    "<h2>Results and Discussion</h2>\n",
    "Nun ist die nötige Theorie bekannt, um die Simulation eines idealen Gases zu schreiben. Diese besteht aus zwei Klassen. Einmal die <i>particle</i> und einmal die <i>simulation</i> Klasse. Im Folgenden werden die Klassen kurz beschrieben:"
   ]
  },
  {
   "cell_type": "markdown",
   "metadata": {},
   "source": [
    "<h3>particle class</h3>\n",
    "Die Klasse Partikel dient dazu, die Eigenschaften und Methoden eines Partikels festzuhalten."
   ]
  },
  {
   "cell_type": "markdown",
   "metadata": {},
   "source": [
    "<p><b>Die Klasse besitzt folgende Eigenschaften: </b>\n",
    "<ul>\n",
    "    <li>Masse m (kg)</li>\n",
    "    <li>Position p (m)</li>\n",
    "    <li>Grundgeschwindigkeit v (m/s) </li>\n",
    "    <li>Kugelradius r (m) </li>\n",
    "    <li>Ratio</li>\n",
    "</ul>\n",
    "Die ersten 4 Eigenschaften sind selbsterklärend, die letzte Eigenschaft beschreibt den Anteil der Grundgeschwindigkeit v, die die Partikel haben (Wenn Ratio=0.5 hat das Teilchen die Hälfte der Grundgeschwindigkeit)"
   ]
  },
  {
   "cell_type": "markdown",
   "metadata": {},
   "source": [
    "<p><b>Die Klasse besitzt folgende Methoden: </b>\n",
    "<ul>\n",
    "    <li><i>move</i> Bewegt das Teilchen entsprechend des Zeitintervalls dt und seiner Geschwindigkeit</li>\n",
    "    <li><i>bounceWall</i> Korrigiert Geschwindigkeit und Position, falls ein Teilchen mit einer Wand überschneidet</li>\n",
    "    <li><i>bounce</i> Korrigiert Geschwindigkeit und Position, falls zwei Teilchen kollidieren</li>\n",
    "    <li><i>getKineticEnergy</i> liefert die kinetische Energie des Teilchens</li>\n",
    "</ul>\n",
    "</p>"
   ]
  },
  {
   "cell_type": "code",
   "execution_count": 2,
   "metadata": {},
   "outputs": [],
   "source": [
    "class particle:\n",
    "    \n",
    "    \n",
    "    def rotMat(alpha, x):\n",
    "        return np.array([[np.cos(alpha), -np.sin(alpha)], [np.sin(alpha), np.cos(alpha)]]).dot(x)\n",
    "    \n",
    "    def __init__(self, m, x,y, vx, vy,r, color):\n",
    "        self.m = m     #kg\n",
    "        self.vx = vx   #m/s\n",
    "        self.vy = vy   #m/s\n",
    "        self.x = x     #m\n",
    "        self.y = y     #m\n",
    "        self.r = r     #m\n",
    "        self.ratio = 1\n",
    "        self.color = color\n",
    "    \n",
    "    def move(self, dt, ratio):\n",
    "            self.x = self.vx * ratio * dt+ self.x\n",
    "            self.y = self.vy * ratio * dt + self.y\n",
    "            self.ratio = ratio\n",
    "            \n",
    "    def bounceWall(self,n):\n",
    "        match n:\n",
    "            case 0:\n",
    "                self.vx = -self.vx\n",
    "                self.x = 2*self.r - self.x\n",
    "            case 1:\n",
    "                self.vx = -self.vx\n",
    "                self.x= 2*(simulation.width.value*10**-12-self.r)-self.x\n",
    "            case 2:\n",
    "                self.vy = -self.vy\n",
    "                self.y = 2*self.r-self.y\n",
    "            case 3:\n",
    "                self.vy = -self.vy\n",
    "                self.y = 2*(simulation.height-self.r)-self.y\n",
    "                \n",
    "    def bounce(self,p):\n",
    "        dx = self.x-p.x\n",
    "        dy = -(self.y-p.y)\n",
    "        d = np.sqrt(dx**2+dy**2)\n",
    "        alpha = np.arctan2(dy,dx)\n",
    "        \n",
    "        p1=np.array([self.x,self.y])\n",
    "        p2=np.array([p.x,p.y])\n",
    "        p1s=particle.rotMat(alpha,p1)\n",
    "        p2s=particle.rotMat(alpha,p2)\n",
    "        p1ns=np.array([p1s[0]+(2*self.r-d)/2,p1s[1]])\n",
    "        p2ns=np.array([p2s[0]-(2*self.r-d)/2,p2s[1]])\n",
    "        p1n=particle.rotMat(-alpha,p1ns)\n",
    "        p2n=particle.rotMat(-alpha,p2ns)\n",
    "        self.x=p1n[0]\n",
    "        self.y=p1n[1]\n",
    "        p.x=p2n[0]\n",
    "        p.y=p2n[1]\n",
    "         \n",
    "        v1 = np.array([self.vx, self.vy])\n",
    "        v2 = np.array([p.vx, p.vy])\n",
    "        v1s = particle.rotMat(alpha,v1)\n",
    "        v2s = particle.rotMat(alpha,v2)\n",
    "        v1ns=(v2s[0],v1s[1])\n",
    "        v2ns=(v1s[0],v2s[1])\n",
    "        v1n= particle.rotMat(-alpha,v1ns)\n",
    "        v2n= particle.rotMat(-alpha,v2ns)\n",
    "        self.vx = v1n[0]\n",
    "        self.vy = v1n[1]\n",
    "        p.vx = v2n[0]\n",
    "        p.vy = v2n[1]\n",
    "        \n",
    "    def getKineticEnergy(self,dt):\n",
    "        return 1/2 * self.m * ((self.vx*self.ratio)**2+(self.vy*self.ratio)**2)"
   ]
  },
  {
   "cell_type": "markdown",
   "metadata": {},
   "source": [
    "<h3>simulation class</h3>\n",
    "Die Klasse dient dazu, Stöße zu registrieren, Partikel zu bewegen, visualisieren und statistische Größen (Temperatur, Druck, Volumen) auszugeben."
   ]
  },
  {
   "cell_type": "code",
   "execution_count": 3,
   "metadata": {},
   "outputs": [],
   "source": [
    "class simulation:\n",
    "    \n",
    "    p = []\n",
    "    height = 3000e-12        #m (3000pm)\n",
    "    dt = 20e-15              #s (200fs)\n",
    "    radius = 50e-12          #m (50pm)\n",
    "    k = 1.380649 *10**-23    #J/K\n",
    "    l = []\n",
    "    impulse = np.zeros(50)\n",
    "    \n",
    "    startSimulation=False\n",
    "    \n",
    "    veloRatio = widgets.FloatSlider(min=0.1,max=3, value=1,step=0.01, description=\"Velocity\")\n",
    "    width = widgets.IntSlider(min=500, max= 8000, value=4000, description=\"Width (pm) \")\n",
    "    buttonAdd = widgets.Button(description=\"+\")\n",
    "    buttonRem = widgets.Button(description=\"-\")\n",
    "    buttonStart = widgets.Button(description=\"start\")\n",
    "    buttonStop = widgets.Button(description=\"stop\")\n",
    "    textVolume = widgets.FloatText(description=\"Volume (pm³)\", disabled=True)\n",
    "    textPressure = widgets.FloatText(description=\"Pressure\", disabled=True)\n",
    "    textTemperature = widgets.FloatText(description=\"Temperature\", disabled=True)\n",
    "    textParticles = widgets.IntText(disabled = True)\n",
    "    canvas = Canvas(width = width.max/10, height=height*10**12/10)\n",
    "    \n",
    "    def generateParticles(button=widgets.Button(), n=10):\n",
    "        for _ in range(n):\n",
    "            v = random.randint(0,2000)\n",
    "            alpha = random.random() * 2 * np.pi\n",
    "            simulation.p.append(particle(\n",
    "                2.6569e-26,\n",
    "                random.randint(0,simulation.width.value)*10**-12,\n",
    "                random.randint(0,simulation.height*10**12)*10**-12,\n",
    "                v * np.cos(alpha),\n",
    "                v * np.sin(alpha),\n",
    "                20*10**-12,\n",
    "                \"black\"))\n",
    "            simulation.textParticles.value = len(simulation.p)\n",
    "    \n",
    "    def removeParticles(button=widgets.Button(), n=10):\n",
    "            for _ in range(n):\n",
    "                if simulation.p:\n",
    "                    simulation.p.pop()\n",
    "            simulation.textParticles.value = len(simulation.p)\n",
    "\n",
    "    def deleteParticles():\n",
    "        simulation.p = []\n",
    "    \n",
    "    def addParticle(particle):\n",
    "        simulation.p.append(particle)\n",
    "\n",
    "    def collisionTest():\n",
    "        count = 1\n",
    "        for i in simulation.p:\n",
    "            \n",
    "            for j in simulation.p[count::]:\n",
    "                dx = j.x-i.x\n",
    "                dy = j.y-i.y\n",
    "                if dx**2+dy**2 < (i.r+j.r)**2:\n",
    "                     if (dx*i.vx <=0 and dx*j.vx >=0 ) and (dy*i.vy <=0 and dy*j.vy >=0 ):\n",
    "                        pass \n",
    "                     else:\n",
    "                        i.bounce(j)\n",
    "            count = count + 1\n",
    "            \n",
    "            if i.x < i.r:\n",
    "                i.bounceWall(0)\n",
    "                simulation.impulse[0] = simulation.impulse[0] + abs(2 * i.m * i.vx * i.ratio)\n",
    "            elif i.x > simulation.width.value*10**-12-i.r:\n",
    "                i.bounceWall(1)\n",
    "                simulation.impulse[0] = simulation.impulse[0] + abs(2 * i.m * i.vx * i.ratio)\n",
    "                \n",
    "            if i.y < i.r:\n",
    "                i.bounceWall(2)\n",
    "                simulation.impulse[0] = simulation.impulse[0] + abs(2 * i.m * i.vy * i.ratio)\n",
    "            elif i.y > simulation.height-i.r:\n",
    "                i.bounceWall(3)\n",
    "                simulation.impulse[0] = simulation.impulse[0] + abs(2 * i.m * i.vy * i.ratio)\n",
    "                \n",
    "            \n",
    "                            \n",
    "    def animateParticles():     #1px = 10pm\n",
    "        while simulation.startSimulation:\n",
    "            with hold_canvas():\n",
    "                simulation.canvas.clear()\n",
    "                simulation.canvas.stroke_rect(0,0,width=simulation.width.value/10,height=simulation.height*10**12/10)\n",
    "                for i in simulation.p:\n",
    "                    simulation.canvas.fill_style = i.color\n",
    "                    simulation.canvas.fill_circle(i.x*10**12/10, i.y*10**12/10, i.r*10**12/10)\n",
    "                    i.move(simulation.dt, simulation.veloRatio.value)\n",
    "            \n",
    "            simulation.collisionTest()\n",
    "            simulation.updateValues()\n",
    "            sleep(simulation.dt*10**12)\n",
    "\n",
    "        \n",
    "    def updateValues():\n",
    "            simulation.textVolume.value=simulation.width.value*10**(-12) * simulation.height * 2 *simulation.radius\n",
    "            simulation.textPressure.value = np.mean(simulation.impulse)/(simulation.dt * 4 *simulation.radius *(simulation.width.value*10**(-12) +simulation.height))\n",
    "            simulation.impulse = np.roll(simulation.impulse,1)\n",
    "            simulation.impulse[0] = 0\n",
    "            E_kin = 0\n",
    "            if simulation.p:\n",
    "                for i in simulation.p:\n",
    "                    E_kin = E_kin+i.getKineticEnergy(simulation.dt)\n",
    "                E_kin = E_kin/len(simulation.p)\n",
    "                simulation.textTemperature.value=2/3 * E_kin/simulation.k\n",
    "                \n",
    "                \n",
    "    def initialize():\n",
    "        simulation.buttonAdd.on_click(simulation.generateParticles)\n",
    "        simulation.buttonRem.on_click(simulation.removeParticles)\n",
    "        simulation.buttonStart.on_click(simulation.start)\n",
    "        simulation.buttonStop.on_click(simulation.stop)\n",
    "        \n",
    "        items = [widgets.HBox([simulation.buttonAdd, simulation.buttonRem, simulation.textParticles]),\n",
    "                 simulation.textVolume, simulation.buttonStart, \n",
    "                 simulation.width, simulation.textPressure, simulation.buttonStop, \n",
    "                 simulation.veloRatio, simulation.textTemperature]\n",
    "        w = widgets.GridBox(items, layout=widgets.Layout(grid_template_columns=\"repeat(3, 300px)\"))\n",
    "        \n",
    "        display(w)\n",
    "        display(simulation.canvas)\n",
    "        \n",
    "    def show():\n",
    "        simulation.startSimulation=False\n",
    "        display(simulation.canvas)\n",
    "        simulation.start()\n",
    "        \n",
    "            \n",
    "    def start(button=widgets.Button()):\n",
    "        simulation.startSimulation = True\n",
    "        t = Thread(target=simulation.animateParticles, daemon=True)\n",
    "        t.start()\n",
    "        \n",
    "    def stop(button=widgets.Button()):\n",
    "        simulation.startSimulation = False\n",
    "        \n",
    "         "
   ]
  },
  {
   "cell_type": "markdown",
   "metadata": {},
   "source": [
    "<h3>Grundannahmen</h3>"
   ]
  },
  {
   "cell_type": "markdown",
   "metadata": {},
   "source": [
    "<p><b>statistische Verteilung der Geschwindigkeit</b>"
   ]
  },
  {
   "cell_type": "code",
   "execution_count": 4,
   "metadata": {},
   "outputs": [
    {
     "data": {
      "image/png": "[encoded data removed]",
      "text/plain": [
       "<Figure size 432x288 with 1 Axes>"
      ]
     },
     "metadata": {
      "needs_background": "light"
     },
     "output_type": "display_data"
    },
    {
     "name": "stdout",
     "output_type": "stream",
     "text": [
      "mittlere Geschwindigkeit: 1023.85 m/s\n",
      "quadratisch gemittelte Geschindigkeit: 1390664.57 m²/s²\n",
      "quadratisch gemittelte Geschwindigkeit in x-Richtung: 737981.991745159 m²/s²\n",
      "quadratisch gemittelte Geschwindigkeit in y-Richtung: 652682.5782548409 m²/s²\n"
     ]
    }
   ],
   "source": [
    "simulation.deleteParticles()\n",
    "simulation.generateParticles(n=200)\n",
    "vx = np.array([])\n",
    "vy = np.array([])\n",
    "for i in simulation.p:\n",
    "    vx = np.append(vx, i.vx)\n",
    "    vy = np.append(vy, i.vy)\n",
    "    \n",
    "v_mean = np.mean(np.sqrt(vx**2+vy**2))\n",
    "\n",
    "v_squared_mean = np.mean(vx**2+vy**2)\n",
    "vx_squared_mean = np.mean(vx**2)\n",
    "vy_squared_mean = np.mean(vy**2)\n",
    "\n",
    "plt.xlabel(\"v in m/s\")\n",
    "plt.ylabel(\"Anzahl\")\n",
    "plt.hist(np.sqrt(vx**2+vy**2),10)\n",
    "plt.show()\n",
    "\n",
    "print(f\"mittlere Geschwindigkeit: {v_mean} m/s\")\n",
    "print(f\"quadratisch gemittelte Geschindigkeit: {v_squared_mean} m²/s²\")\n",
    "print(f\"quadratisch gemittelte Geschwindigkeit in x-Richtung: {vx_squared_mean} m²/s²\")\n",
    "print(f\"quadratisch gemittelte Geschwindigkeit in y-Richtung: {vy_squared_mean} m²/s²\" )"
   ]
  },
  {
   "cell_type": "markdown",
   "metadata": {},
   "source": [
    "Wir erkennen, dass folgende Beziehungen gelten: <br>\n",
    "$\n",
    "\\begin{align}\n",
    "    \\overline{{v_x}^2} \\approx \\frac{1}{2} \\cdot \\overline{v²} \\\\\n",
    "    \\overline{{v_y}^2} \\approx \\frac{1}{2} \\cdot \\overline{v²}\n",
    "\\end {align}\n",
    "$ <br>\n",
    "Die Geschwindigkeitsverteilung ist also isotrop."
   ]
  },
  {
   "cell_type": "markdown",
   "metadata": {},
   "source": [
    "<b>elastische Stöße</b>"
   ]
  },
  {
   "cell_type": "code",
   "execution_count": 6,
   "metadata": {},
   "outputs": [
    {
     "data": {
      "application/vnd.jupyter.widget-view+json": {
       "model_id": "46f8dd07ab0d4ce6957d9a4a5ddde7c1",
       "version_major": 2,
       "version_minor": 0
      },
      "text/plain": [
       "Canvas(height=300, width=800)"
      ]
     },
     "metadata": {},
     "output_type": "display_data"
    }
   ],
   "source": [
    "simulation.deleteParticles()\n",
    "simulation.show()"
   ]
  },
  {
   "cell_type": "code",
   "execution_count": 7,
   "metadata": {
    "scrolled": true
   },
   "outputs": [],
   "source": [
    "simulation.deleteParticles()\n",
    "simulation.addParticle(particle(1,500*10**-12,500*10**-12,1000,1000,30*10**-12,\"black\"))"
   ]
  },
  {
   "cell_type": "code",
   "execution_count": 8,
   "metadata": {},
   "outputs": [],
   "source": [
    "simulation.deleteParticles()\n",
    "simulation.addParticle(particle(1,250*10**-12,1500*10**-12,1000,0,30*10**-12,\"blue\"))\n",
    "simulation.addParticle(particle(1,600*10**-12,1500*10**-12,-500,0,30*10**-12,\"red\"))"
   ]
  },
  {
   "cell_type": "code",
   "execution_count": 9,
   "metadata": {},
   "outputs": [],
   "source": [
    "simulation.deleteParticles()\n",
    "simulation.addParticle(particle(1,2000*10**-12,1000*10**-12,0,0,30*10**-12,\"blue\"))\n",
    "simulation.addParticle(particle(1,2000*10**-12,2000*10**-12,0,1000,30*10**-12,\"red\"))"
   ]
  },
  {
   "cell_type": "code",
   "execution_count": 10,
   "metadata": {},
   "outputs": [],
   "source": [
    "simulation.deleteParticles()\n",
    "simulation.addParticle(particle(1,250*10**-12,1500*10**-12,1000,0,30*10**-12,\"blue\"))\n",
    "simulation.addParticle(particle(1,2000*10**-12,1510*10**-12,-500,0,30*10**-12,\"red\"))"
   ]
  },
  {
   "cell_type": "code",
   "execution_count": 11,
   "metadata": {},
   "outputs": [],
   "source": [
    "simulation.deleteParticles()\n",
    "simulation.addParticle(particle(1,250*10**-12,1500*10**-12,1000,0,30*10**-12,\"blue\"))\n",
    "simulation.addParticle(particle(1,2500*10**-12,1500*10**-12,0,0,30*10**-12,\"black\"))\n",
    "simulation.addParticle(particle(1,2560*10**-12,1470*10**-12,0,0,30*10**-12,\"black\"))\n",
    "simulation.addParticle(particle(1,2560*10**-12,1530*10**-12,0,0,30*10**-12,\"black\"))\n",
    "simulation.addParticle(particle(1,2620*10**-12,1500*10**-12,0,0,30*10**-12,\"black\"))\n",
    "simulation.addParticle(particle(1,2620*10**-12,1440*10**-12,0,0,30*10**-12,\"black\"))\n",
    "simulation.addParticle(particle(1,2620*10**-12,1560*10**-12,0,0,30*10**-12,\"black\"))\n",
    "simulation.addParticle(particle(1,2680*10**-12,1530*10**-12,0,0,30*10**-12,\"black\"))\n",
    "simulation.addParticle(particle(1,2680*10**-12,1590*10**-12,0,0,30*10**-12,\"black\"))\n",
    "simulation.addParticle(particle(1,2680*10**-12,1470*10**-12,0,0,30*10**-12,\"black\"))\n",
    "simulation.addParticle(particle(1,2680*10**-12,1410*10**-12,0,0,30*10**-12,\"black\"))\n",
    "simulation.addParticle(particle(1,2740*10**-12,1500*10**-12,0,0,30*10**-12,\"black\"))\n",
    "simulation.addParticle(particle(1,2740*10**-12,1560*10**-12,0,0,30*10**-12,\"black\"))\n",
    "simulation.addParticle(particle(1,2740*10**-12,1620*10**-12,0,0,30*10**-12,\"black\"))\n",
    "simulation.addParticle(particle(1,2740*10**-12,1440*10**-12,0,0,30*10**-12,\"black\"))\n",
    "simulation.addParticle(particle(1,2740*10**-12,1380*10**-12,0,0,30*10**-12,\"black\"))"
   ]
  },
  {
   "cell_type": "code",
   "execution_count": 8,
   "metadata": {},
   "outputs": [],
   "source": [
    "simulation.deleteParticles()\n",
    "#feel free to explore "
   ]
  },
  {
   "cell_type": "markdown",
   "metadata": {},
   "source": [
    "<b>mittlerer Abstand</b>"
   ]
  },
  {
   "cell_type": "code",
   "execution_count": null,
   "metadata": {},
   "outputs": [],
   "source": []
  },
  {
   "cell_type": "markdown",
   "metadata": {},
   "source": [
    "<h3>Herleitung fundamentaler Zusammenhänge</h3>"
   ]
  },
  {
   "cell_type": "markdown",
   "metadata": {},
   "source": []
  },
  {
   "cell_type": "code",
   "execution_count": 12,
   "metadata": {},
   "outputs": [
    {
     "data": {
      "application/vnd.jupyter.widget-view+json": {
       "model_id": "46f8dd07ab0d4ce6957d9a4a5ddde7c1",
       "version_major": 2,
       "version_minor": 0
      },
      "text/plain": [
       "Canvas(height=300, width=800)"
      ]
     },
     "metadata": {},
     "output_type": "display_data"
    },
    {
     "data": {
      "image/png": "[encoded data removed]",
      "text/plain": [
       "<Figure size 432x288 with 1 Axes>"
      ]
     },
     "metadata": {
      "needs_background": "light"
     },
     "output_type": "display_data"
    }
   ],
   "source": [
    "simulation.deleteParticles()\n",
    "simulation.generateParticles(n=200)\n",
    "simulation.show()\n",
    "\n",
    "volume = np.array([])\n",
    "pressure = np.array([])\n",
    "for i in range(200,10000,500):\n",
    "    simulation.width.value=i\n",
    "    sleep(3)\n",
    "    volume=np.append(volume, simulation.width.value*10**-12*simulation.height*2*20.10**-12)\n",
    "    pressure=np.append(pressure, simulation.textPressure.value)\n",
    "\n",
    "plt.plot(volume,pressure)\n",
    "plt.show()"
   ]
  },
  {
   "cell_type": "code",
   "execution_count": 13,
   "metadata": {},
   "outputs": [
    {
     "name": "stdout",
     "output_type": "stream",
     "text": [
      "1.6969608338180865e-23\n"
     ]
    },
    {
     "data": {
      "image/png": "[encoded data removed]",
      "text/plain": [
       "<Figure size 432x288 with 1 Axes>"
      ]
     },
     "metadata": {
      "needs_background": "light"
     },
     "output_type": "display_data"
    }
   ],
   "source": [
    "plt.plot(volume,pressure)\n",
    "x = np.linspace(0.5*10**-33,10**-32)\n",
    "y = 1.6*10**-23/x\n",
    "plt.plot(x,y)\n",
    "print(np.mean(volume*pressure))"
   ]
  },
  {
   "cell_type": "code",
   "execution_count": 14,
   "metadata": {},
   "outputs": [
    {
     "data": {
      "application/vnd.jupyter.widget-view+json": {
       "model_id": "979a214882ce46899e94fdc9f44d98f7",
       "version_major": 2,
       "version_minor": 0
      },
      "text/plain": [
       "GridBox(children=(HBox(children=(Button(description='+', style=ButtonStyle()), Button(description='-', style=B…"
      ]
     },
     "metadata": {},
     "output_type": "display_data"
    },
    {
     "data": {
      "application/vnd.jupyter.widget-view+json": {
       "model_id": "46f8dd07ab0d4ce6957d9a4a5ddde7c1",
       "version_major": 2,
       "version_minor": 0
      },
      "text/plain": [
       "Canvas(height=300, width=800)"
      ]
     },
     "metadata": {},
     "output_type": "display_data"
    }
   ],
   "source": [
    "simulation.initialize()"
   ]
  },
  {
   "cell_type": "code",
   "execution_count": 24,
   "metadata": {},
   "outputs": [],
   "source": [
    "simulation.stop()"
   ]
  },
  {
   "cell_type": "code",
   "execution_count": null,
   "metadata": {},
   "outputs": [],
   "source": []
  }
 ],
 "metadata": {
  "kernelspec": {
   "display_name": "Python 3 (ipykernel)",
   "language": "python",
   "name": "python3"
  },
  "language_info": {
   "codemirror_mode": {
    "name": "ipython",
    "version": 3
   },
   "file_extension": ".py",
   "mimetype": "text/x-python",
   "name": "python",
   "nbconvert_exporter": "python",
   "pygments_lexer": "ipython3",
   "version": "3.10.4"
  }
 },
 "nbformat": 4,
 "nbformat_minor": 2
}
