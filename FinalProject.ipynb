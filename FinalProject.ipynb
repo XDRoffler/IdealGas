{
 "cells": [
  {
   "cell_type": "code",
   "execution_count": 16,
   "metadata": {},
   "outputs": [],
   "source": [
    "import numpy as np\n",
    "import matplotlib.pyplot as plt\n",
    "import scipy.stats as st\n",
    "import random\n",
    "import ipywidgets as widget\n",
    "from ipycanvas import Canvas, hold_canvas\n",
    "from time import sleep"
   ]
  },
  {
   "cell_type": "code",
   "execution_count": 3,
   "metadata": {},
   "outputs": [],
   "source": [
    "class my_pdf(st.rv_continuous):\n",
    "    def setFunction(self,f):\n",
    "        self.f = f\n",
    "    def getFunction(self):\n",
    "        return f\n",
    "    def _pdf(self,v):\n",
    "        return self.f(v)"
   ]
  },
  {
   "cell_type": "code",
   "execution_count": 4,
   "metadata": {},
   "outputs": [],
   "source": [
    "class particle:\n",
    "    \n",
    "    def pdf(v):\n",
    "        return n*(m/(2*pi*k*T))**(3/2)*4*pi*v**2*np.exp(-m*v**2/(2*k*T))\n",
    "    \n",
    "    def create(n):\n",
    "        y = np.array([])\n",
    "        m = my_pdf(a=0, b=10000)\n",
    "        m.setFunction(particle.pdf)\n",
    "        for _ in range(n):\n",
    "            k = m.rvs()\n",
    "            y=np.append(y,particle(m,3,3,random.randint(-50,50),random.randint(-50,50),2))\n",
    "        return y\n",
    "    \n",
    "    def collide(n):\n",
    "        x = [i.getX() for i in n]\n",
    "        y = [i.getY() for i in n]\n",
    "        \n",
    "        for i in range(len(x)):\n",
    "            for j in range(len(x)-(i+1)):\n",
    "                print((i,j+i+1))\n",
    "                print(x[i]-x[j+i+1])\n",
    "                dx = abs(x[i]-x[j+i+1])\n",
    "                dy = abs(y[i]-y[j+i+1])\n",
    "                \n",
    "                if np.sqrt(dx**2+dy**2)<=n[i].getR()+n[j+i+1].getR():\n",
    "                    bump(n[i], n[j+i+1])\n",
    "                    \n",
    "    def bump(x,y):\n",
    "        \n",
    "                  \n",
    "    \n",
    "    def __init__(self, m, x,y, vx, vy,r):\n",
    "        self.m = m\n",
    "        self.vx = vx\n",
    "        self.vy = vy\n",
    "        self.x = x\n",
    "        self.y = y\n",
    "        self.r = r\n",
    "        \n",
    "    def getPosition(self):\n",
    "        return (self.x,self.y)\n",
    "    def getX(self):\n",
    "        return self.x\n",
    "    def getY(self):\n",
    "        return self.y\n",
    "    def getVelocity(self):\n",
    "        return (self.vx,self.vy)\n",
    "    def getVx(self):\n",
    "        return self.vx\n",
    "    def getVy(self):\n",
    "        return self.vy\n",
    "    def getR(self):\n",
    "        return self.r\n",
    "    \n",
    "    def move(self, dt):\n",
    "        self.x = self.vx * dt + self.x\n",
    "        self.y = self.vy * dt + self.y\n",
    "    \n",
    "    def collisionTest(self, width, height):\n",
    "        if self.x <= self.r:\n",
    "            self.vx = -self.vx\n",
    "        elif self.x >= width - self.r:\n",
    "            self.vx = -self.vx\n",
    "            \n",
    "        if self.y <= self.r: \n",
    "            self.vy = -self.vy\n",
    "        elif self.y >= height - self.r:\n",
    "            self.vy = -self.vy"
   ]
  },
  {
   "cell_type": "code",
   "execution_count": 5,
   "metadata": {},
   "outputs": [],
   "source": [
    "pi = np.pi\n",
    "k = 1.380649 * 10**-23 #m**2 kg s**-2 K**-1"
   ]
  },
  {
   "cell_type": "code",
   "execution_count": 6,
   "metadata": {},
   "outputs": [],
   "source": [
    "m = 4.002602**1.66*10**(-27) #kg\n",
    "n = 1 #mol\n",
    "T = 273.15 #K\n",
    "width = 400\n",
    "height = 200"
   ]
  },
  {
   "cell_type": "code",
   "execution_count": 15,
   "metadata": {},
   "outputs": [
    {
     "data": {
      "application/vnd.jupyter.widget-view+json": {
       "model_id": "1c0474bddaf649479eb208c74623213a",
       "version_major": 2,
       "version_minor": 0
      },
      "text/plain": [
       "Canvas(height=200, width=400)"
      ]
     },
     "metadata": {},
     "output_type": "display_data"
    },
    {
     "name": "stdout",
     "output_type": "stream",
     "text": [
      "(0, 1)\n",
      "0\n",
      "bump\n",
      "(0, 2)\n",
      "0\n",
      "bump\n",
      "(0, 3)\n",
      "0\n",
      "bump\n",
      "(0, 4)\n",
      "0\n",
      "bump\n",
      "(1, 2)\n",
      "0\n",
      "bump\n",
      "(1, 3)\n",
      "0\n",
      "bump\n",
      "(1, 4)\n",
      "0\n",
      "bump\n",
      "(2, 3)\n",
      "0\n",
      "bump\n",
      "(2, 4)\n",
      "0\n",
      "bump\n",
      "(3, 4)\n",
      "0\n",
      "bump\n",
      "(0, 1)\n",
      "55.35999999999982\n",
      "(0, 2)\n",
      "39.43999999999977\n",
      "(0, 3)\n",
      "-6.640000000000313\n",
      "(0, 4)\n",
      "43.559999999999846\n",
      "(1, 2)\n",
      "-15.920000000000048\n",
      "(1, 3)\n",
      "-62.000000000000135\n",
      "(1, 4)\n",
      "-11.79999999999998\n",
      "(2, 3)\n",
      "-46.080000000000084\n",
      "(2, 4)\n",
      "4.1200000000000685\n",
      "(3, 4)\n",
      "50.20000000000016\n"
     ]
    }
   ],
   "source": [
    "canvas = Canvas(width=width, height=height)\n",
    "\n",
    "p = particle.create(1000)\n",
    "steps_number = 100\n",
    "dt = 0.02\n",
    "display(canvas)\n",
    "\n",
    "\n",
    "for _ in range(steps_number):\n",
    "    with hold_canvas():\n",
    "        canvas.clear()\n",
    "        for i in p:\n",
    "            canvas.fill_circle(i.getX(), i.getY(), i.getR())\n",
    "            i.move(dt)\n",
    "            i.collisionTest(width, height)\n",
    "    particle.collide(p)\n",
    "    sleep(0.02)"
   ]
  },
  {
   "cell_type": "code",
   "execution_count": null,
   "metadata": {},
   "outputs": [],
   "source": []
  },
  {
   "cell_type": "code",
   "execution_count": null,
   "metadata": {},
   "outputs": [],
   "source": []
  },
  {
   "cell_type": "code",
   "execution_count": null,
   "metadata": {},
   "outputs": [],
   "source": []
  },
  {
   "cell_type": "code",
   "execution_count": null,
   "metadata": {},
   "outputs": [],
   "source": []
  }
 ],
 "metadata": {
  "kernelspec": {
   "display_name": "Python 3 (ipykernel)",
   "language": "python",
   "name": "python3"
  },
  "language_info": {
   "codemirror_mode": {
    "name": "ipython",
    "version": 3
   },
   "file_extension": ".py",
   "mimetype": "text/x-python",
   "name": "python",
   "nbconvert_exporter": "python",
   "pygments_lexer": "ipython3",
   "version": "3.10.4"
  }
 },
 "nbformat": 4,
 "nbformat_minor": 2
}
