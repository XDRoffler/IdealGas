{
 "cells": [
  {
   "cell_type": "markdown",
   "metadata": {},
   "source": [
    "<h1 style=\"text-align:center;\">Project: Simulation of an ideal gas</h1>\n",
    "<p style=\"text-align:center;\">by Simon Legtenborg, 3773994</p>"
   ]
  },
  {
   "cell_type": "code",
   "execution_count": 6,
   "metadata": {},
   "outputs": [],
   "source": [
    "import numpy as np\n",
    "import matplotlib.pyplot as plt\n",
    "import random\n",
    "import ipywidgets as widgets\n",
    "from ipycanvas import Canvas, hold_canvas\n",
    "from time import sleep\n",
    "from threading import Thread\n",
    "from scipy.optimize import curve_fit"
   ]
  },
  {
   "cell_type": "markdown",
   "metadata": {},
   "source": [
    "<h2> Introduction </h2>"
   ]
  },
  {
   "cell_type": "markdown",
   "metadata": {},
   "source": [
    "Einer der faszinierendsten Themen der Thermodynamik ist das Wechselspiel aus Marko- und Mikrophysik. Deswegen habe ich mir das Ziel gesetzt, eine Simulation zu entwickeln, die ein Gas auf mikroskopischer Ebene simuliert und makroskopische Zustände ausliest. Damit sollen die aus der Vorlesung bereits hergeleiteten Zustandsgleichungen (2. Gay-Lussac'sches Gesetz, Boyle-Mariotte'sches Gesetz, ideale Gasgleichung) überprüft und bestätigt werden. \n",
    "Die Arbeit bietet außerdem eine interaktive Simulation."
   ]
  },
  {
   "cell_type": "markdown",
   "metadata": {},
   "source": [
    "<h2>Fundamentals</h2>"
   ]
  },
  {
   "cell_type": "markdown",
   "metadata": {},
   "source": [
    "Bevor wir zur Simulation kommen, müssen die Gesetzmäßigkeiten erklärt werden, die wir im Anschluss überprüfen wollen."
   ]
  },
  {
   "cell_type": "markdown",
   "metadata": {},
   "source": [
    "<h3>Zustandsgleichungen</h3>\n",
    "\n",
    "In der Simulation kann Volumen, Temperatur und Teilchenzahl variiert bzw. konstant gehalten werden. Es bietet sich deshalb an, die Gesetze von Boyle-Marionette und Gay-Lussac (2. Gesetz) zu überprüfen:"
   ]
  },
  {
   "cell_type": "markdown",
   "metadata": {},
   "source": [
    "<b>Boyle-Marionette: </b>Wird eine feste Menge (N) eines idealen Gases auf einer konstanten Temperaur (T) gehalten, während Druck (p) und Volumen (V) veränderbar sind, so ist das Volumen indirekt proportional\n",
    "zum Druck. Es gilt:<br>\n",
    "$N,T \\hbox{ konst.} \\Rightarrow V \\propto \\frac{1}{p}$"
   ]
  },
  {
   "cell_type": "markdown",
   "metadata": {},
   "source": [
    "<b>2. Gay-Lussac'sches Gesetz: </b>Wird eine feste Menge (N) eines idealen Gases auf einem konstanten Volumen (V) gehalten, während sich die Temperatur (T) oder der Druck (p) ändern, so ist der Druck proportional zur Temperatur (T). Es gilt:<br>\n",
    "$N, V \\hbox{ konst. } \\Rightarrow p \\propto T$"
   ]
  },
  {
   "cell_type": "markdown",
   "metadata": {},
   "source": [
    "Für eine feste Menge eines idealen Gases gilt nun: <br>\n",
    "\n",
    "<ol>\n",
    "    <li>$p \\propto \\frac{1}{V}\\;\\;$ für festes T</li>\n",
    "    <li>$p \\propto T\\;\\;$ für festes V</li>\n",
    "</ol>\n",
    "\n",
    "Daraus folgt: <br>\n",
    "$p \\propto \\frac{T}{V} \\Rightarrow \\frac{p \\cdot V}{T}=konst.$\n",
    "\n",
    "Wird anschließend noch die Teilchenzahl variiert, so ergibt sich die ideale Gasgleichung: <br>\n",
    "$p \\cdot V = N \\cdot k_B \\cdot T$\n",
    "\n"
   ]
  },
  {
   "cell_type": "markdown",
   "metadata": {},
   "source": [
    "<b>Zusammenfassen von Proportionalitäten: </b> Um die ideale Gasgleichung zu zeigen, reicht es, folgende Gleichungen zu zeigen:\n",
    "<ol>\n",
    "    <li>     $p \\propto \\frac{1}{V}$ für festes N, T</li>\n",
    "    <li>     $p \\propto T$ für festes N, V</li>\n",
    "    <li>     $p \\propto N$ für festes T, V </li>\n",
    "</ol>\n",
    "\n",
    "Beweis:\n",
    "Die drei Gleichungen implizieren $\\forall$T,N,V:\n",
    "<ol>\n",
    "    <li>     $p=k_1(T,N) \\cdot \\frac{1}{V}$</li>\n",
    "    <li>     $p=k_2(V,N) \\cdot T$</li>\n",
    "    <li>     $p=k_3(V,T) \\cdot N$</li>\n",
    "</ol>\n",
    "\n",
    "Setzen wir nun 1. mit 2. gleich, dann gilt:<br>\n",
    "\n",
    "$\n",
    "\\begin{align*}\n",
    "    &k_1(T,N) \\cdot \\frac{1}{V}=k_2(V,N) \\cdot T\\\\\n",
    "    &\\Rightarrow \\frac{k_1(T,N)}{T}=k_2(V,N) \\cdot V \\stackrel{!}{=} K(N)\\\\\n",
    "    &\\Rightarrow k_2(V,N)=\\frac{K(N)}{V}\\\\\n",
    "    &\\Rightarrow p(V,T,N) = K(N) \\cdot \\frac{T}{V}\n",
    "\\end{align*}\n",
    "$<br>\n",
    "\n",
    "Nun setzen wir unsere neu erhaltene Gleichung mit Gleichung 3. gleich, dann gilt:<br>\n",
    "\n",
    "$\n",
    "\\begin{align*}\n",
    "    &K(N) \\cdot \\frac{T}{V}=k_3(V,T) \\cdot N\\\\\n",
    "    &\\Rightarrow \\frac{K(N)}{N}=k_3(V,T) \\cdot \\frac{V}{T} \\stackrel{!}{=} k_B\\\\\n",
    "    &\\Rightarrow k_3(V,T) = k_B \\cdot \\frac{T}{V}\\\\\n",
    "    &\\Rightarrow p(V,T,N) = k_B \\cdot \\frac{T}{V} \\cdot N = N \\cdot k_b \\cdot \\frac{T}{V}\n",
    "\\end{align*}\n",
    "$<br>"
   ]
  },
  {
   "cell_type": "markdown",
   "metadata": {},
   "source": [
    "<h3> Das Modell des idealen Gases </h3>\n",
    "\n",
    "Die oben beschriebenen Gesetze setzen voraus, dass mit einem idealen Gas gearbeitet wird. Infolgedessen erläutere ich, was ein ideales Gas ist und wie es simuliert werden kann."
   ]
  },
  {
   "cell_type": "markdown",
   "metadata": {},
   "source": [
    "Folgende Annahmen beschreiben das Modell des idealen Gases vollständig:\n",
    "\n",
    "<ul>\n",
    "    <li>Atome/Moleküle werden durch kleine starre Kugeln mit Radius approximiert</li>\n",
    "    <li>N Kugeln existieren in einer Box; Position, Geschwindigkeit, Masse und Radius sind gekannt</li>\n",
    "    <li>Geschwindigkeit ist statistisch verteilt </li>\n",
    "    <li>Kugeln interagieren nur durch elastische Stöße mit der Wand oder anderen Teilchen</li>\n",
    "    <li>Kugelradius ist klein gegenüber dem mittleren Abstand der Teilchen\n",
    "</ul>\n",
    "\n",
    "<table>\n",
    "  <tr>\n",
    "    <td style=\"background-color:white\">\n",
    "        <figure>\n",
    "          <img src=\"images/video1.gif\" alt=\"WallBounce\" style=\"width:100%\">\n",
    "          <figcaption>elastischer Stoß zwischen Kugel und Wand</figcaption>\n",
    "        </figure>\n",
    "    </td>\n",
    "    <td style=\"background-color:white\">\n",
    "        <figure>\n",
    "          <img src=\"images/video2.gif\" alt=\"Bounce\" style=\"width:100%\">\n",
    "          <figcaption>elastischer Stoß zwischen zwei Kugeln</figcaption>\n",
    "        </figure>\n",
    "    </td>\n",
    "  </tr>\n",
    "</table>"
   ]
  },
  {
   "cell_type": "markdown",
   "metadata": {},
   "source": [
    "<h3>Die Mathematik der Stöße</h3>\n",
    "\n",
    "Stöße sind die einzige Möglichkeit, wie Teilchen miteinander interagieren können. Deswegen ist dies auch der Schwerpunkt der Simulation."
   ]
  },
  {
   "cell_type": "markdown",
   "metadata": {},
   "source": [
    "<b>Die Mathematik von elastischen Stößen in 1D: </b>Beim idealen elastischen Stoß stoßen zwei Körper aufeinander, ohne das kinetische Energie verloren geht. Es gilt also der Energie- und Impulserhaltungssatz:<br><br>\n",
    "$\n",
    "\\begin{align*}\n",
    "   &\\sum E_{kin}=\\sum E_{kin}'\\\\\n",
    "   &\\frac{m_1}{2} \\cdot v_1^2+\\frac{m_2}{2} \\cdot v_2^2 = \\frac{m_1}{2} \\cdot {v_1'}^2\n",
    "   + \\frac{m_2}{2} \\cdot {v_2'}^2\\\\\n",
    "   &\\frac{m_1}{2} \\cdot (v_1^2-{v_1'}^2)=\\frac{m_2}{2} \\cdot ({v_2'}^2-v_2^2)\\\\\\\\\n",
    "   &\\sum \\vec{p}= \\sum \\vec{p'}\\\\\n",
    "   &m_1 \\cdot \\vec{v_1}+m_2 \\cdot \\vec{v_2} = m_1 \\cdot \\vec{v_1'}\n",
    "   + m_2 \\cdot \\vec{v_2'}\\\\\n",
    "   &m_1 \\cdot (\\vec{v_1}-\\vec{v_1'})=m_2 \\cdot (\\vec{v_2'}-\\vec{v_2})\\\\\n",
    "\\end{align*}\n",
    "$<br><br>\n",
    "\n",
    "Durch geeignetes Umstellen (siehe Demtröder) ergibt sich für $v_1'$ und $v_2'$:<br>\n",
    "    \n",
    "$\n",
    "\\begin{align*}\n",
    "    &v_1'=2 \\frac{m_1 v_1+m_2 v_2}{m_1 + m_2}-v_1\\\\\n",
    "    &v_2'=2 \\frac{m_1 v_1+m_2v_2}{m_1+m_2}-v_2\n",
    "\\end{align*}\n",
    "$\n",
    " \n",
    "    \n",
    "Für den Fall $m_2 \\to \\infty$ und $v_2=0$, also eine Wand, gilt:<br>\n",
    "$\n",
    "\\begin{align*}\n",
    "    &v_1'=-v_1\\\\\n",
    "    &v_2'=0\n",
    "\\end{align*}\n",
    "$"
   ]
  },
  {
   "cell_type": "markdown",
   "metadata": {},
   "source": [
    "<b>Die Mathematik von Stößen in 2D:</b> Der zweidimensionale elastische Stoß beruht prinzipiell auf dem eindimensionalen Stoß. Für die Berechnung benötigen wir ein geeignetes Koordinatensystem, welches eine Achse senkrecht und eine Achse parallel zur Zentralsteigung besitzt. Die Zentralsteigung beschreibt hierbei die Gerade durch die Mittelpunkte der Kugeln. Beim Stoß erfolgt die Berechnung wie beim eindimensionalen, aber nur in Richtung der Zentralsteigung.<br>\n",
    "    \n",
    "<figure style=\"float:left;\">\n",
    "    <img src=\"./images/asset6.svg\", width=300px style=\"margin:10px\">\n",
    "    <figcaption>Stoß in 2D</figcaption>\n",
    "</figure>\n",
    "\n",
    "<p>\n",
    "    Für den elastischen Stoß gilt dann:<br>\n",
    "        $\n",
    "        \\begin{align*}\n",
    "            &\\vec{v_1} =\n",
    "            \\begin{pmatrix}\n",
    "                v_{1x}\\\\\n",
    "                v_{1y}\n",
    "            \\end{pmatrix},\n",
    "            \\vec{v_2} =\n",
    "            \\begin{pmatrix}\n",
    "                v_{2x}\\\\\n",
    "                v_{2y}\n",
    "            \\end{pmatrix}\\\\\n",
    "            &\\vec{v_1'}=\n",
    "            \\begin{pmatrix}\n",
    "                2 \\frac{m_1 v_{1x}+m_2 v_{2x}}{m_1 + m_2}-v_{1x}\\\\\n",
    "                v_{1y}\n",
    "            \\end{pmatrix}\\\\\n",
    "            &\\vec{v_2'}=\n",
    "            \\begin{pmatrix}\n",
    "                2 \\frac{m_1 v_{1x}+m_2 v_{2x}}{m_1 + m_2}-v_{2x}\\\\\n",
    "                v_{2y}\n",
    "            \\end{pmatrix}\n",
    "        \\end{align*}\n",
    "        $\n",
    "</p>\n",
    "    \n",
    "    \n",
    "\n",
    "\n",
    "    "
   ]
  },
  {
   "cell_type": "markdown",
   "metadata": {},
   "source": [
    "<b>Koordinatentransformation: </b> Die wichtigste Voraussetzung für die Berechnung zweidimensionaler Stöße ist ein geeignete Koordinatensystem, welches nicht trivial gegeben ist. Für die Simulation wird die kanonische Basis verwendet. Um auf unser neues Koordinatensystem zu kommen, nutzen wir eine Basistransformationsmatrix U. Da U  ein gedrehtes kanonisches Koordinatensystem ist, kann man die Transformationsmatrix als Drehmatrix auffassen.\n",
    "\n",
    "<figure style=\"float:left;\">\n",
    "    <img src=\"./images/asset7.svg\" width=300px style=\"margin:10px\">\n",
    "    <figcaption>Rotiertes Koordinatensystem</figcaption>\n",
    "</figure>\n",
    "\n",
    "<p>\n",
    "$\n",
    "\\begin{align*}\n",
    "    &U_{\\alpha} = \n",
    "    \\begin{pmatrix}\n",
    "        &\\cos(\\alpha) &-\\sin(\\alpha)\\\\\n",
    "        &\\sin(\\alpha) & \\cos(\\alpha)\n",
    "    \\end{pmatrix}\n",
    "\\end{align*}\n",
    "$<br>\n",
    "\n",
    "Möchte man von der neuen Basis zurück in die kanonische gelangen, so berechnet man die inverse Matrix. Für die Rotationsmatrix gilt dann:<br>\n",
    "$\n",
    "\\begin{align*}\n",
    "    &U_{\\alpha}^{-1} = \n",
    "    \\begin{pmatrix}\n",
    "        &\\cos(-\\alpha) &-\\sin(-\\alpha)\\\\\n",
    "        &\\sin(-\\alpha) & \\cos(-\\alpha)\n",
    "    \\end{pmatrix}\n",
    "\\end{align*}\n",
    "$<br>\n",
    "\n",
    "Ausschlaggebend für die Berechnung der Rotationsmatrix ist der Winkel $\\alpha$. Dieser kann über die atan2-Funktion berechnet werden:<br>\n",
    "$\n",
    "\\begin{align*}\n",
    "    &\\alpha = \\arctan2(dy,dx) \\\\\n",
    "\\end{align*}\n",
    "$<br>\n",
    "Dies ist alles was man für die Berechnung an Grundwissen benötigt.\n",
    "</p>"
   ]
  },
  {
   "cell_type": "markdown",
   "metadata": {},
   "source": [
    "<h2>Results and Discussion</h2>"
   ]
  },
  {
   "cell_type": "markdown",
   "metadata": {},
   "source": [
    "Nun ist die nötige Theorie bekannt, um die Simulation eines idealen Gases zu programmieren. Diese besteht aus zwei Klassen. Zum einen die <i>particle</i> und zum anderen die <i>simulation</i> Klasse. Im Folgenden werden die Klassen kurz beschrieben:"
   ]
  },
  {
   "cell_type": "markdown",
   "metadata": {},
   "source": [
    "<h3>particle class</h3>\n",
    "Die Klasse Partikel dient dazu, die Eigenschaften und Methoden eines Partikels festzuhalten."
   ]
  },
  {
   "cell_type": "markdown",
   "metadata": {},
   "source": [
    "<b>Die Klasse besitzt folgende Eigenschaften: </b>\n",
    "\n",
    "<ul>\n",
    "    <li>Masse m (kg)</li>\n",
    "    <li>Position p (m)</li>\n",
    "    <li>Grundgeschwindigkeit v (m/s) </li>\n",
    "    <li>Kugelradius r (m) </li>\n",
    "    <li>Ratio</li>\n",
    "</ul>\n",
    "\n",
    "Die ersten vier Eigenschaften sind selbsterklärend. Die fünfte Eigenschaft beschreibt den Anteil der Grundgeschwindigkeit v, die die Partikel haben."
   ]
  },
  {
   "cell_type": "markdown",
   "metadata": {},
   "source": [
    "<b>Die Klasse besitzt folgende Methoden: </b>\n",
    "\n",
    "<ul>\n",
    "    <li><i>move</i> Bewegt das Teilchen entsprechend des Zeitintervalls dt und seiner Geschwindigkeit v</li>\n",
    "    <li><i>bounceWall</i> Korrigiert Geschwindigkeit und Position, falls sich ein Teilchen mit einer Wand überschneidet</li>\n",
    "    <li><i>bounce</i> Korrigiert Geschwindigkeit und Position, falls zwei Teilchen kollidieren</li>\n",
    "    <li><i>getKineticEnergy</i> liefert die kinetische Energie des Teilchens</li>\n",
    "</ul>"
   ]
  },
  {
   "cell_type": "code",
   "execution_count": 7,
   "metadata": {},
   "outputs": [],
   "source": [
    "class particle:\n",
    "    \n",
    "    def rotMat(alpha, x):\n",
    "        return np.array([[np.cos(alpha), -np.sin(alpha)], [np.sin(alpha), np.cos(alpha)]]).dot(x)\n",
    "    \n",
    "    def __init__(self, m, x,y, vx, vy,r, color):\n",
    "        self.m = m     #kg\n",
    "        self.vx = vx   #m/s\n",
    "        self.vy = vy   #m/s\n",
    "        self.x = x     #m\n",
    "        self.y = y     #m\n",
    "        self.r = r     #m\n",
    "        self.ratio = 1\n",
    "        self.color = color\n",
    "    \n",
    "    def move(self, dt, ratio):\n",
    "            self.x = self.vx * ratio * dt+ self.x\n",
    "            self.y = self.vy * ratio * dt + self.y\n",
    "            self.ratio = ratio\n",
    "            \n",
    "    def bounceWall(self,n):\n",
    "        match n:\n",
    "            case 0:\n",
    "                self.vx = -self.vx\n",
    "                self.x = 2*self.r - self.x\n",
    "            case 1:\n",
    "                self.vx = -self.vx\n",
    "                self.x= 2*(simulation.width.value*10**-12-self.r)-self.x\n",
    "            case 2:\n",
    "                self.vy = -self.vy\n",
    "                self.y = 2*self.r-self.y\n",
    "            case 3:\n",
    "                self.vy = -self.vy\n",
    "                self.y = 2*(simulation.height-self.r)-self.y\n",
    "                \n",
    "    def bounce(self,p):\n",
    "        dx = self.x-p.x\n",
    "        dy = -(self.y-p.y)\n",
    "        d = np.sqrt(dx**2+dy**2)\n",
    "        alpha = np.arctan2(dy,dx)\n",
    "        \n",
    "        p1=np.array([self.x,self.y])\n",
    "        p2=np.array([p.x,p.y])\n",
    "        p1s=particle.rotMat(alpha,p1)\n",
    "        p2s=particle.rotMat(alpha,p2)\n",
    "        p1ns=np.array([p1s[0]+(2*self.r-d)/2,p1s[1]])\n",
    "        p2ns=np.array([p2s[0]-(2*self.r-d)/2,p2s[1]])\n",
    "        p1n=particle.rotMat(-alpha,p1ns)\n",
    "        p2n=particle.rotMat(-alpha,p2ns)\n",
    "        self.x=p1n[0]\n",
    "        self.y=p1n[1]\n",
    "        p.x=p2n[0]\n",
    "        p.y=p2n[1]\n",
    "         \n",
    "        v1 = np.array([self.vx, self.vy])\n",
    "        v2 = np.array([p.vx, p.vy])\n",
    "        v1s = particle.rotMat(alpha,v1)\n",
    "        v2s = particle.rotMat(alpha,v2)\n",
    "        v1ns=(v2s[0],v1s[1])\n",
    "        v2ns=(v1s[0],v2s[1])\n",
    "        v1n= particle.rotMat(-alpha,v1ns)\n",
    "        v2n= particle.rotMat(-alpha,v2ns)\n",
    "        self.vx = v1n[0]\n",
    "        self.vy = v1n[1]\n",
    "        p.vx = v2n[0]\n",
    "        p.vy = v2n[1]\n",
    "        \n",
    "    def getKineticEnergy(self,dt):\n",
    "        return 1/2 * self.m * ((self.vx*self.ratio)**2+(self.vy*self.ratio)**2)"
   ]
  },
  {
   "cell_type": "markdown",
   "metadata": {},
   "source": [
    "<h3>simulation class</h3>\n",
    "Diese Klasse dient dazu, Stöße zu registrieren, Partikel zu bewegen und zu visualisieren sowie statistische Größen (Temperatur, Druck, Volumen) auszugeben."
   ]
  },
  {
   "cell_type": "code",
   "execution_count": 8,
   "metadata": {},
   "outputs": [],
   "source": [
    "class simulation:\n",
    "    \n",
    "    p = []\n",
    "    startSimulation=False\n",
    "    \n",
    "    height = 3000e-12        #m (3000pm)\n",
    "    width = widgets.IntSlider(min=500, max= 10000, value=10000, description=\"Width (pm) \")\n",
    "    veloRatio = widgets.FloatSlider(min=0.1,max=2, value=1,step=0.01, description=\"Velocity (%)\")\n",
    "    \n",
    "    dt = 20e-15              #s (20fs)\n",
    "    radius = 20e-12          #m (20pm)\n",
    "    k = 1.380649 *10**-23    #J/K\n",
    "    \n",
    "    t = 0\n",
    "    E_kin = 0\n",
    "    impulse = np.zeros(50)\n",
    "    \n",
    "    \n",
    "    buttonAdd = widgets.Button(description=\"+\")\n",
    "    buttonRem = widgets.Button(description=\"-\")\n",
    "    buttonStart = widgets.Button(description=\"start\")\n",
    "    buttonStop = widgets.Button(description=\"stop\")\n",
    "    \n",
    "    textVolume = widgets.FloatText(description=\"Volume (pm³)\", disabled=True)\n",
    "    textPressure = widgets.FloatText(description=\"Press. (Pa)\", disabled=True)\n",
    "    textTemperature = widgets.FloatText(description=\"Temp. (K)\", disabled=True)\n",
    "    textParticles = widgets.IntText(disabled = True)\n",
    "    \n",
    "    canvas = Canvas(width = width.max/10, height=height*10**12/10)\n",
    "    \n",
    "    def generateParticles(button=widgets.Button(), n=10):\n",
    "        for _ in range(n):\n",
    "            v = random.randint(0,2000)\n",
    "            alpha = random.random() * 2 * np.pi\n",
    "            simulation.p.append(particle(\n",
    "                2.6569e-26,\n",
    "                random.randint(0,simulation.width.value)*10**-12,\n",
    "                random.randint(0,simulation.height*10**12)*10**-12,\n",
    "                v * np.cos(alpha),\n",
    "                v * np.sin(alpha),\n",
    "                simulation.radius,\n",
    "                \"black\"))\n",
    "            simulation.textParticles.value = len(simulation.p)\n",
    "                \n",
    "            \n",
    "    def generateParticlesUniformly(n=10, v = 1000):\n",
    "        for _ in range(n):\n",
    "            alpha = random.random() * 2 * np.pi\n",
    "            simulation.p.append(particle(\n",
    "                2.6569e-26,\n",
    "                random.randint(0,simulation.width.value)*10**-12,\n",
    "                random.randint(0,simulation.height*10**12)*10**-12,\n",
    "                v * np.cos(alpha),\n",
    "                v * np.sin(alpha),\n",
    "                simulation.radius,\n",
    "                \"black\"))\n",
    "            simulation.textParticles.value = len(simulation.p)\n",
    "    \n",
    "    def removeParticles(button=widgets.Button(), n=10):\n",
    "            for _ in range(n):\n",
    "                if simulation.p:\n",
    "                    simulation.p.pop()\n",
    "            simulation.textParticles.value = len(simulation.p)\n",
    "\n",
    "    def deleteParticles():\n",
    "        simulation.p = []\n",
    "    \n",
    "    def addParticle(particle):\n",
    "        simulation.p.append(particle)\n",
    "    \n",
    "    def reset():\n",
    "        simulation.width.value=4000\n",
    "        simulation.veloRatio.value=1\n",
    "        simulation.impulse = np.zeros(50)\n",
    "        simulation.t = 0\n",
    "        simulation.deleteParticles()\n",
    "        simulation.stop()\n",
    "                        \n",
    "    def animateParticles():     #1px = 10pm\n",
    "        while simulation.startSimulation:\n",
    "            with hold_canvas():\n",
    "                simulation.canvas.clear()\n",
    "                simulation.canvas.stroke_rect(0,0,width=simulation.width.value/10,height=simulation.height*10**12/10)\n",
    "                for i in simulation.p:\n",
    "                    simulation.canvas.fill_style = i.color\n",
    "                    simulation.canvas.fill_circle(i.x*10**12/10, i.y*10**12/10, i.r*10**12/10)\n",
    "                    i.move(simulation.dt, simulation.veloRatio.value)\n",
    "            \n",
    "            simulation.collisionTest()\n",
    "            simulation.updateValues()\n",
    "            sleep(simulation.dt*10**12)\n",
    "            \n",
    "    def collisionTest():\n",
    "        count = 1\n",
    "        for i in simulation.p:\n",
    "            for j in simulation.p[count::]:\n",
    "                dx = j.x-i.x\n",
    "                dy = j.y-i.y\n",
    "                if dx**2+dy**2 < (i.r+j.r)**2:\n",
    "                     if (dx*i.vx <=0 and dx*j.vx >=0 ) and (dy*i.vy <=0 and dy*j.vy >=0 ):\n",
    "                        pass \n",
    "                     else:\n",
    "                        i.bounce(j)\n",
    "            count = count + 1\n",
    "            \n",
    "            if i.x < i.r:\n",
    "                i.bounceWall(0)\n",
    "                simulation.impulse[0] = simulation.impulse[0] + abs(2 * i.m * i.vx * i.ratio)\n",
    "            elif i.x > simulation.width.value*10**-12-i.r:\n",
    "                i.bounceWall(1)\n",
    "                simulation.impulse[0] = simulation.impulse[0] + abs(2 * i.m * i.vx * i.ratio)\n",
    "                \n",
    "            if i.y < i.r:\n",
    "                i.bounceWall(2)\n",
    "                simulation.impulse[0] = simulation.impulse[0] + abs(2 * i.m * i.vy * i.ratio)\n",
    "            elif i.y > simulation.height-i.r:\n",
    "                i.bounceWall(3)\n",
    "                simulation.impulse[0] = simulation.impulse[0] + abs(2 * i.m * i.vy * i.ratio)\n",
    "            \n",
    "            simulation.E_kin = simulation.E_kin + i.getKineticEnergy(simulation.dt)\n",
    "\n",
    "        \n",
    "    def updateValues():\n",
    "            simulation.textVolume.value=simulation.width.value*10**(-12) * simulation.height * 2 *simulation.radius\n",
    "            simulation.textPressure.value = np.mean(simulation.impulse)/(simulation.dt * 4 *simulation.radius *(simulation.width.value*10**(-12) +simulation.height))\n",
    "            simulation.impulse = np.roll(simulation.impulse,1)\n",
    "            simulation.impulse[0] = 0\n",
    "            simulation.t = simulation.t+ simulation.dt\n",
    "            if simulation.p:\n",
    "                simulation.E_kin = simulation.E_kin/len(simulation.p)\n",
    "                simulation.textTemperature.value= simulation.E_kin/simulation.k\n",
    "            simulation.E_kin = 0\n",
    "                \n",
    "                \n",
    "    def initialize():\n",
    "        simulation.buttonAdd.on_click(simulation.generateParticles)\n",
    "        simulation.buttonRem.on_click(simulation.removeParticles)\n",
    "        simulation.buttonStart.on_click(simulation.start)\n",
    "        simulation.buttonStop.on_click(simulation.stop)\n",
    "        \n",
    "        items = [widgets.HBox([simulation.buttonAdd, simulation.buttonRem, simulation.textParticles]),\n",
    "                 simulation.textVolume, simulation.buttonStart, \n",
    "                 simulation.width, simulation.textPressure, simulation.buttonStop, \n",
    "                 simulation.veloRatio, simulation.textTemperature]\n",
    "        w = widgets.GridBox(items, layout=widgets.Layout(grid_template_columns=\"repeat(3, 300px)\"))\n",
    "        \n",
    "        display(w)\n",
    "        display(simulation.canvas)\n",
    "        \n",
    "    def show():\n",
    "        simulation.startSimulation=False\n",
    "        display(simulation.canvas)\n",
    "        simulation.start()\n",
    "        \n",
    "            \n",
    "    def start(button=widgets.Button()):\n",
    "        simulation.startSimulation = True\n",
    "        t = Thread(target=simulation.animateParticles, daemon=True)\n",
    "        t.start()\n",
    "        \n",
    "    def stop(button=widgets.Button()):\n",
    "        simulation.startSimulation = False\n",
    "        \n",
    "         "
   ]
  },
  {
   "cell_type": "markdown",
   "metadata": {},
   "source": [
    "<h3>Grundannahmen</h3>"
   ]
  },
  {
   "cell_type": "markdown",
   "metadata": {},
   "source": [
    "<h4>statistische Verteilung der Geschwindigkeit: </h4>"
   ]
  },
  {
   "cell_type": "markdown",
   "metadata": {},
   "source": [
    "Eine wichtige Voraussetzung für ein ideales Gas ist die Isotropie der Geschwindigkeitsverteilung. Diese wird nun überprüft."
   ]
  },
  {
   "cell_type": "markdown",
   "metadata": {},
   "source": [
    "Es werden 200 Partikel generiert und deren Geschwindigkeit in zwei Arrays gespeichert. Anschließend werden die quadratisch gemittelte Gesamtgeschwindigkeit und die quadratisch gemittelten Geschwindigkeiten in x und y Richtung gebildet. "
   ]
  },
  {
   "cell_type": "code",
   "execution_count": 9,
   "metadata": {
    "scrolled": true
   },
   "outputs": [],
   "source": [
    "simulation.reset()\n",
    "simulation.generateParticles(n=200)\n",
    "vx = np.array([])\n",
    "vy = np.array([])\n",
    "for i in simulation.p:\n",
    "    vx = np.append(vx, i.vx)\n",
    "    vy = np.append(vy, i.vy)\n",
    "    \n",
    "v_mean = np.mean(np.sqrt(vx**2+vy**2))\n",
    "\n",
    "v_squared_mean = np.mean(vx**2+vy**2)\n",
    "vx_squared_mean = np.mean(vx**2)\n",
    "vy_squared_mean = np.mean(vy**2)"
   ]
  },
  {
   "cell_type": "markdown",
   "metadata": {},
   "source": [
    "Schauen wir uns die Werte an:"
   ]
  },
  {
   "cell_type": "code",
   "execution_count": 10,
   "metadata": {},
   "outputs": [
    {
     "data": {
      "image/png": "[encoded data removed]",
      "text/plain": [
       "<Figure size 432x288 with 1 Axes>"
      ]
     },
     "metadata": {
      "needs_background": "light"
     },
     "output_type": "display_data"
    },
    {
     "name": "stdout",
     "output_type": "stream",
     "text": [
      "mittlere Geschwindigkeit: 965.635 m/s\n",
      "quadratisch gemittelte Geschindigkeit: 1268729.485 m²/s²\n",
      "quadratisch gemittelte Geschwindigkeit in x-Richtung: 623321.0446524817 m²/s²\n",
      "quadratisch gemittelte Geschwindigkeit in y-Richtung: 645408.4403475184 m²/s²\n"
     ]
    }
   ],
   "source": [
    "plt.xlabel(\"v in m/s\")\n",
    "plt.ylabel(\"Anzahl\")\n",
    "plt.hist(np.sqrt(vx**2+vy**2),10)\n",
    "plt.show()\n",
    "\n",
    "print(f\"mittlere Geschwindigkeit: {v_mean} m/s\")\n",
    "print(f\"quadratisch gemittelte Geschindigkeit: {v_squared_mean} m²/s²\")\n",
    "print(f\"quadratisch gemittelte Geschwindigkeit in x-Richtung: {vx_squared_mean} m²/s²\")\n",
    "print(f\"quadratisch gemittelte Geschwindigkeit in y-Richtung: {vy_squared_mean} m²/s²\" )"
   ]
  },
  {
   "cell_type": "markdown",
   "metadata": {},
   "source": [
    "Wir erkennen, dass folgende Beziehungen gelten: <br>\n",
    "\n",
    "$\n",
    "\\begin{align}\n",
    "    \\overline{{v_x}^2} \\approx \\frac{1}{2} \\cdot \\overline{v²} \\\\\n",
    "    \\overline{{v_y}^2} \\approx \\frac{1}{2} \\cdot \\overline{v²}\n",
    "\\end {align}\n",
    "$ <br>\n",
    "\n",
    "Die Geschwindigkeitsverteilung ist somit isotrop."
   ]
  },
  {
   "cell_type": "markdown",
   "metadata": {},
   "source": [
    "<h4>Stöße</h4>"
   ]
  },
  {
   "cell_type": "markdown",
   "metadata": {},
   "source": [
    "Jetzt ist es an der Zeit, die Stöße zu testen. Führe dafür zuerst <i>simulation.show()</i> aus und dann das gewünschte Preset."
   ]
  },
  {
   "cell_type": "code",
   "execution_count": 11,
   "metadata": {},
   "outputs": [
    {
     "data": {
      "application/vnd.jupyter.widget-view+json": {
       "model_id": "bb0e64e981ac4924a0fcf0a817708c50",
       "version_major": 2,
       "version_minor": 0
      },
      "text/plain": [
       "Canvas(height=300, width=1000)"
      ]
     },
     "metadata": {},
     "output_type": "display_data"
    }
   ],
   "source": [
    "simulation.reset()\n",
    "simulation.show()"
   ]
  },
  {
   "cell_type": "markdown",
   "metadata": {},
   "source": [
    "<b>Preset 1 - Testkollision mit der Wand</b>"
   ]
  },
  {
   "cell_type": "code",
   "execution_count": 12,
   "metadata": {
    "scrolled": true
   },
   "outputs": [],
   "source": [
    "simulation.deleteParticles()\n",
    "simulation.addParticle(particle(1,500*10**-12,500*10**-12,1000,1000,30*10**-12,\"black\"))"
   ]
  },
  {
   "cell_type": "markdown",
   "metadata": {},
   "source": [
    "<b>Preset 2 - Horizontaler Stoß</b>"
   ]
  },
  {
   "cell_type": "code",
   "execution_count": 13,
   "metadata": {},
   "outputs": [],
   "source": [
    "simulation.deleteParticles()\n",
    "simulation.addParticle(particle(1,250*10**-12,1500*10**-12,1000,0,30*10**-12,\"blue\"))\n",
    "simulation.addParticle(particle(1,600*10**-12,1500*10**-12,-500,0,30*10**-12,\"red\"))"
   ]
  },
  {
   "cell_type": "markdown",
   "metadata": {},
   "source": [
    "<b>Preset 3 - vertikaler Stoß<br>"
   ]
  },
  {
   "cell_type": "code",
   "execution_count": 14,
   "metadata": {},
   "outputs": [],
   "source": [
    "simulation.deleteParticles()\n",
    "simulation.addParticle(particle(1,2000*10**-12,1000*10**-12,0,0,30*10**-12,\"blue\"))\n",
    "simulation.addParticle(particle(1,2000*10**-12,2000*10**-12,0,1000,30*10**-12,\"red\"))"
   ]
  },
  {
   "cell_type": "markdown",
   "metadata": {},
   "source": [
    "<b>Preset 4 - schiefer Stoß</b>"
   ]
  },
  {
   "cell_type": "code",
   "execution_count": 15,
   "metadata": {},
   "outputs": [],
   "source": [
    "simulation.deleteParticles()\n",
    "simulation.addParticle(particle(1,250*10**-12,1500*10**-12,1000,0,30*10**-12,\"blue\"))\n",
    "simulation.addParticle(particle(1,2000*10**-12,1510*10**-12,-500,0,30*10**-12,\"red\"))"
   ]
  },
  {
   "cell_type": "markdown",
   "metadata": {},
   "source": [
    "<b>Preset 5 - Billard Stoß </b>"
   ]
  },
  {
   "cell_type": "code",
   "execution_count": 16,
   "metadata": {},
   "outputs": [],
   "source": [
    "simulation.deleteParticles()\n",
    "simulation.addParticle(particle(1,250*10**-12,1500*10**-12,1000,0,30*10**-12,\"blue\"))\n",
    "simulation.addParticle(particle(1,2500*10**-12,1500*10**-12,0,0,30*10**-12,\"black\"))\n",
    "simulation.addParticle(particle(1,2560*10**-12,1470*10**-12,0,0,30*10**-12,\"black\"))\n",
    "simulation.addParticle(particle(1,2560*10**-12,1530*10**-12,0,0,30*10**-12,\"black\"))\n",
    "simulation.addParticle(particle(1,2620*10**-12,1500*10**-12,0,0,30*10**-12,\"black\"))\n",
    "simulation.addParticle(particle(1,2620*10**-12,1440*10**-12,0,0,30*10**-12,\"black\"))\n",
    "simulation.addParticle(particle(1,2620*10**-12,1560*10**-12,0,0,30*10**-12,\"black\"))\n",
    "simulation.addParticle(particle(1,2680*10**-12,1530*10**-12,0,0,30*10**-12,\"black\"))\n",
    "simulation.addParticle(particle(1,2680*10**-12,1590*10**-12,0,0,30*10**-12,\"black\"))\n",
    "simulation.addParticle(particle(1,2680*10**-12,1470*10**-12,0,0,30*10**-12,\"black\"))\n",
    "simulation.addParticle(particle(1,2680*10**-12,1410*10**-12,0,0,30*10**-12,\"black\"))\n",
    "simulation.addParticle(particle(1,2740*10**-12,1500*10**-12,0,0,30*10**-12,\"black\"))\n",
    "simulation.addParticle(particle(1,2740*10**-12,1560*10**-12,0,0,30*10**-12,\"black\"))\n",
    "simulation.addParticle(particle(1,2740*10**-12,1620*10**-12,0,0,30*10**-12,\"black\"))\n",
    "simulation.addParticle(particle(1,2740*10**-12,1440*10**-12,0,0,30*10**-12,\"black\"))\n",
    "simulation.addParticle(particle(1,2740*10**-12,1380*10**-12,0,0,30*10**-12,\"black\"))"
   ]
  },
  {
   "cell_type": "markdown",
   "metadata": {},
   "source": [
    "<b>Preset 6 - Your Choice</b>"
   ]
  },
  {
   "cell_type": "code",
   "execution_count": null,
   "metadata": {},
   "outputs": [],
   "source": [
    "simulation.deleteParticles()\n",
    "#add your code here. Feel free to explore"
   ]
  },
  {
   "cell_type": "markdown",
   "metadata": {},
   "source": [
    "<h3>Herleitung fundamentaler Zusammenhänge</h3>"
   ]
  },
  {
   "cell_type": "markdown",
   "metadata": {},
   "source": [
    "Abschließend kommen wir zur Herleitung der idealen Gasgleichung. Dazu zeigen wir zunächst das Gesetz von Boyle-Marionette."
   ]
  },
  {
   "cell_type": "markdown",
   "metadata": {},
   "source": [
    "<h4>Boyle-Marionette</h4>"
   ]
  },
  {
   "cell_type": "markdown",
   "metadata": {},
   "source": [
    "Um das Gesetz von Boyle-Marionette numerisch zu beweisen, generieren wir zuerst 200 Partikel und starten die Simulation. Während wir aller 3 Sekunden das Volumen unserer Box verkleinern, werden in zwei Arrays Volumen und Druck gemessen und aufgezeichnet. Dabei ist die Temperatur konstant. Anschließend werden die Daten als Scatterplot ausgegeben, um einen möglichen Zusammenhang festzustellen."
   ]
  },
  {
   "cell_type": "code",
   "execution_count": 17,
   "metadata": {},
   "outputs": [
    {
     "data": {
      "application/vnd.jupyter.widget-view+json": {
       "model_id": "dac0b3baf789461fbec53fc522aefe7f",
       "version_major": 2,
       "version_minor": 0
      },
      "text/plain": [
       "HBox(children=(FloatText(value=8.639040217098756e+32, description='Press. (Pa)', disabled=True), FloatText(val…"
      ]
     },
     "metadata": {},
     "output_type": "display_data"
    },
    {
     "data": {
      "application/vnd.jupyter.widget-view+json": {
       "model_id": "bb0e64e981ac4924a0fcf0a817708c50",
       "version_major": 2,
       "version_minor": 0
      },
      "text/plain": [
       "Canvas(height=300, width=1000)"
      ]
     },
     "metadata": {},
     "output_type": "display_data"
    },
    {
     "data": {
      "image/png": "[encoded data removed]",
      "text/plain": [
       "<Figure size 432x288 with 1 Axes>"
      ]
     },
     "metadata": {
      "needs_background": "light"
     },
     "output_type": "display_data"
    }
   ],
   "source": [
    "simulation.reset()\n",
    "simulation.width.value=10000\n",
    "simulation.generateParticles(n=200)\n",
    "\n",
    "volume = np.array([])\n",
    "pressure = np.array([])\n",
    "\n",
    "w = widgets.HBox([simulation.textPressure, simulation.textTemperature, simulation.textVolume])\n",
    "display(w)\n",
    "simulation.show()\n",
    "\n",
    "\n",
    "for i in range(0,9000,200):\n",
    "    simulation.width.value=10000-i\n",
    "    sleep(3)\n",
    "    volume=np.append(volume, simulation.width.value*10**-12*simulation.height*2*simulation.radius)\n",
    "    pressure=np.append(pressure, simulation.textPressure.value)\n",
    "\n",
    "simulation.stop()\n",
    "plt.scatter(volume,pressure)\n",
    "plt.xlabel(f\"Volume in $m^3$\")\n",
    "plt.ylabel(f\"Pressure in Pa\")\n",
    "plt.show()"
   ]
  },
  {
   "cell_type": "markdown",
   "metadata": {},
   "source": [
    "Der gezeigte Plot sieht eindeutig nach einer Hyperbel aus. Dann muss gelten: $p=\\frac{k(T,N)}{V}$. Um unsere Hypothese zu verifizieren, führen wir eine Regression aus. "
   ]
  },
  {
   "cell_type": "code",
   "execution_count": 18,
   "metadata": {},
   "outputs": [
    {
     "data": {
      "image/png": "[encoded data removed]",
      "text/plain": [
       "<Figure size 432x288 with 1 Axes>"
      ]
     },
     "metadata": {
      "needs_background": "light"
     },
     "output_type": "display_data"
    },
    {
     "name": "stdout",
     "output_type": "stream",
     "text": [
      "k = [3.50835129e-18]\n"
     ]
    }
   ],
   "source": [
    "def hyperbola(x,k):\n",
    "    return k/x\n",
    "\n",
    "k, cov =curve_fit(hyperbola,volume,pressure,p0=10**-18,absolute_sigma=True)\n",
    "plt.scatter(volume, pressure, color=\"green\", label=\"data\", alpha=0.8)\n",
    "plt.plot(volume, hyperbola(volume, k),color=\"tab:blue\", label=\"theory\")\n",
    "plt.legend()\n",
    "plt.xlabel(f\"Volume in $m^3$\")\n",
    "plt.ylabel(f\"Pressure in Pa\")\n",
    "plt.show()\n",
    "print(f\"k = {k}\")"
   ]
  },
  {
   "cell_type": "markdown",
   "metadata": {},
   "source": [
    "Wir halten fest, dass es sich hier um einen hyperbolischen Zusammenhang handelt. Mathematisch bedeutet das:<br>\n",
    "\n",
    "$\\begin{align*}\n",
    "    &p = \\frac{k(T,N)}{V}\\\\\n",
    "    \\Rightarrow &V = \\frac{k_1(T,N)}{p}\\\\\n",
    "    \\Rightarrow &V \\propto \\frac{1}{p}\\;\\; \\hbox{falls T,N konstant}\n",
    "\\end{align*}$\n",
    "\n",
    "Wir wissen durch unsere Simulation, dass das Gesetz von Boyle-Marionette stimmt!"
   ]
  },
  {
   "cell_type": "markdown",
   "metadata": {},
   "source": [
    "<h4>2. Gay-Lussac'sches Gesetz: </h4>"
   ]
  },
  {
   "cell_type": "markdown",
   "metadata": {},
   "source": [
    "Als nächstes widmen wir uns dem 2. Gesetz von Gay-Lussac. Um einen numerischen Beweis zu finden, generieren wir erneut 200 Partikel und starten die Simulation. Bei festem Volumen wird aller 3 Sekunden die Geschwindigkeit der Teilchen (und somit die Temperatur) erhöht. Dabei werden in zwei Arrays Druck und Temperatur aufgezeichnet und anschließend als Scatterplot ausgegeben, um einen möglichen Zusammenhang zu finden."
   ]
  },
  {
   "cell_type": "code",
   "execution_count": 25,
   "metadata": {},
   "outputs": [
    {
     "data": {
      "application/vnd.jupyter.widget-view+json": {
       "model_id": "a4fbd3b7e86b42e39e68d828997349a8",
       "version_major": 2,
       "version_minor": 0
      },
      "text/plain": [
       "HBox(children=(FloatText(value=8038203485.787718, description='Press. (Pa)', disabled=True), FloatText(value=9…"
      ]
     },
     "metadata": {},
     "output_type": "display_data"
    },
    {
     "data": {
      "application/vnd.jupyter.widget-view+json": {
       "model_id": "bb0e64e981ac4924a0fcf0a817708c50",
       "version_major": 2,
       "version_minor": 0
      },
      "text/plain": [
       "Canvas(height=300, width=1000)"
      ]
     },
     "metadata": {},
     "output_type": "display_data"
    },
    {
     "data": {
      "image/png": "[encoded data removed]",
      "text/plain": [
       "<Figure size 432x288 with 1 Axes>"
      ]
     },
     "metadata": {
      "needs_background": "light"
     },
     "output_type": "display_data"
    }
   ],
   "source": [
    "simulation.reset()\n",
    "simulation.width.value=4000\n",
    "simulation.generateParticles(n=200)\n",
    "\n",
    "w = widgets.HBox([simulation.textPressure, simulation.textTemperature, simulation.textVolume])\n",
    "display(w)\n",
    "simulation.show()\n",
    "\n",
    "pressure = np.array([])\n",
    "temperature = np.array([])\n",
    "for i in range(10,150,5):\n",
    "    simulation.veloRatio.value=i/100\n",
    "    sleep(3)\n",
    "    temperature=np.append(temperature,simulation.textTemperature.value)\n",
    "    pressure=np.append(pressure, simulation.textPressure.value)\n",
    "\n",
    "simulation.stop()\n",
    "plt.scatter(temperature,pressure)\n",
    "plt.xlabel(\"Temperature in K\")\n",
    "plt.ylabel(\"Pressure in Pa\")\n",
    "plt.show() "
   ]
  },
  {
   "cell_type": "markdown",
   "metadata": {},
   "source": [
    "Der gezeigte Plot sieht sehr nach einer linearen Funktion aus. Dann muss gelten: $p = k_2(N,V) \\cdot T$. Überprüfen wir dies mithilfe einer Regression:"
   ]
  },
  {
   "cell_type": "code",
   "execution_count": 26,
   "metadata": {},
   "outputs": [
    {
     "data": {
      "image/png": "[encoded data removed]",
      "text/plain": [
       "<Figure size 432x288 with 1 Axes>"
      ]
     },
     "metadata": {
      "needs_background": "light"
     },
     "output_type": "display_data"
    },
    {
     "name": "stdout",
     "output_type": "stream",
     "text": [
      "k2 = [6003759.88846294]\n"
     ]
    }
   ],
   "source": [
    "def linear(x,k2):\n",
    "    return k2*x\n",
    "\n",
    "k2, cov=curve_fit(linear,temperature,pressure,absolute_sigma=True)\n",
    "plt.scatter(temperature, pressure, color=\"green\", label=\"data\", alpha=0.8)\n",
    "plt.plot(temperature, linear(temperature, k2), color=\"tab:blue\", label=\"theory\")\n",
    "plt.xlabel(f\"Temperature in K\")\n",
    "plt.ylabel(f\"Pressure in Pa\")\n",
    "plt.legend()\n",
    "plt.show()\n",
    "print(f\"k2 = {k2}\")"
   ]
  },
  {
   "cell_type": "markdown",
   "metadata": {},
   "source": [
    "Wir können bestätigen, dass es sich um einen linearen Zusammenhang handelt. Das bedeutet mathematisch:<br><br>\n",
    "$\n",
    "\\begin{align*}\n",
    "&p = k_2(V,N) \\cdot T\\\\\n",
    "\\Rightarrow& p \\propto T \\;\\; \\hbox{falls V,N konstant}\n",
    "\\end{align*}\n",
    "$<br><br>\n",
    "Somit stimmt auch das 2. Gay-Lussac'sche Gesetz!"
   ]
  },
  {
   "cell_type": "markdown",
   "metadata": {},
   "source": [
    "<h4>allgemeines Gasgesetz</h4>"
   ]
  },
  {
   "cell_type": "markdown",
   "metadata": {},
   "source": [
    "Mithilfe der beiden obigen Gesetze gilt: $\\frac{p \\cdot V}{T} = konst.$ für eine feste Menge an idealem Gas. Dies wollen wir kurz überprüfen. Dafür generieren wir erneut 200 Teilchen, starten die Simulation und variieren abwechselnd Volumen und Geschwindigkeit. Dabei wird Druck, Temperatur, Volumen und Zeit in drei verschiedenen Arrays gemessen und aufgezeichne. In einem Scatterplot wird der Quotient $\\frac{p \\cdot V}{T}$ über die Zeit aufgetragen."
   ]
  },
  {
   "cell_type": "code",
   "execution_count": null,
   "metadata": {},
   "outputs": [],
   "source": [
    "simulation.reset()\n",
    "simulation.width.value=10000\n",
    "simulation.generateParticles(n=200)\n",
    "\n",
    "w = widgets.HBox([simulation.textPressure, simulation.textTemperature, simulation.textVolume])\n",
    "display(w)\n",
    "simulation.show()\n",
    "\n",
    "time = np.array([])\n",
    "pressure = np.array([])\n",
    "temperature = np.array([])\n",
    "volume = np.array([])\n",
    "\n",
    "for i in range(0,9000,500):\n",
    "    for j in range (1,102,25):\n",
    "        simulation.width.value=10000-i\n",
    "        simulation.veloRatio.value=j/100\n",
    "        sleep(3)\n",
    "        temperature=np.append(temperature,simulation.textTemperature.value)\n",
    "        pressure=np.append(pressure, simulation.textPressure.value)\n",
    "        volume=np.append(volume, simulation.width.value*10**-12*simulation.height*2*20.10**-12*2*simulation.radius)\n",
    "        time=np.append(time, simulation.t)\n",
    "\n",
    "simulation.stop()\n",
    "plt.plot(time,pressure*volume/temperature)\n",
    "plt.xlabel(f\"time in s\")\n",
    "plt.ylabel(f\"Quotient\")\n",
    "plt.show()"
   ]
  },
  {
   "cell_type": "markdown",
   "metadata": {},
   "source": [
    "Es ist leicht zu erkennen, dass der Wert um eine Konstante schwankt, was unsere Theorie bestätigt."
   ]
  },
  {
   "cell_type": "markdown",
   "metadata": {},
   "source": [
    "<h4>ideales Gasgesetz</h4>"
   ]
  },
  {
   "cell_type": "markdown",
   "metadata": {},
   "source": [
    "Um abschließend das ideale Gasgesetz numerisch zu beweisen, generieren wir 50 Teilchen und halten Volumen und Temperatur konstant. Indem wir jeweils nach einer Sekunde die Teilchenanzahl um 1 erhöhen und sie zusammen mit dem Druck in zwei Arrays aufzeichnen, können wir einen Scatterplot auftragen, um so den Zusammenhang zu finden."
   ]
  },
  {
   "cell_type": "code",
   "execution_count": 22,
   "metadata": {},
   "outputs": [
    {
     "data": {
      "application/vnd.jupyter.widget-view+json": {
       "model_id": "df009a7fb83e4fb78a6b97f7f7b3c962",
       "version_major": 2,
       "version_minor": 0
      },
      "text/plain": [
       "HBox(children=(FloatText(value=15016555701.574055, description='Press. (Pa)', disabled=True), IntText(value=50…"
      ]
     },
     "metadata": {},
     "output_type": "display_data"
    },
    {
     "data": {
      "application/vnd.jupyter.widget-view+json": {
       "model_id": "bb0e64e981ac4924a0fcf0a817708c50",
       "version_major": 2,
       "version_minor": 0
      },
      "text/plain": [
       "Canvas(height=300, width=1000)"
      ]
     },
     "metadata": {},
     "output_type": "display_data"
    },
    {
     "data": {
      "image/png": "[encoded data removed]",
      "text/plain": [
       "<Figure size 432x288 with 1 Axes>"
      ]
     },
     "metadata": {
      "needs_background": "light"
     },
     "output_type": "display_data"
    }
   ],
   "source": [
    "simulation.reset()\n",
    "simulation.generateParticlesUniformly(n=50, v=1000)\n",
    "\n",
    "w = widgets.HBox([simulation.textPressure, simulation.textParticles])\n",
    "display(w)\n",
    "simulation.show()\n",
    "\n",
    "pcount = np.array([])\n",
    "pressure = np.array([])\n",
    "\n",
    "for i in range(50,300,1):\n",
    "    pcount = np.append(pcount, simulation.textParticles.value)\n",
    "    pressure = np.append(pressure, simulation.textPressure.value)\n",
    "    sleep(1)\n",
    "    simulation.generateParticlesUniformly(n=1, v=1000)\n",
    "    \n",
    "plt.scatter(pcount,pressure)\n",
    "plt.xlabel(\"particle count (absolute Value)\")\n",
    "plt.ylabel(\"Pressure in Pa\")\n",
    "plt.show()"
   ]
  },
  {
   "cell_type": "markdown",
   "metadata": {},
   "source": [
    "Der gezeigte Plot sieht sehr nach einer linearen Funktion aus. Dann muss gelten: $p = k_3(T,V) \\cdot N$. Überprüfen wir dies mithilfe einer Regression:"
   ]
  },
  {
   "cell_type": "code",
   "execution_count": 23,
   "metadata": {},
   "outputs": [
    {
     "data": {
      "image/png": "[encoded data removed]",
      "text/plain": [
       "<Figure size 432x288 with 1 Axes>"
      ]
     },
     "metadata": {
      "needs_background": "light"
     },
     "output_type": "display_data"
    },
    {
     "name": "stdout",
     "output_type": "stream",
     "text": [
      "m = [28442851.64936949]\n"
     ]
    }
   ],
   "source": [
    "def linear(x,a):\n",
    "    return a*x\n",
    "\n",
    "m, cov=curve_fit(linear,pcount,pressure,absolute_sigma=True)\n",
    "plt.scatter(pcount, pressure, color=\"green\", label=\"data\", alpha=0.3)\n",
    "plt.plot(pcount, linear(pcount, m), color=\"tab:blue\", label=\"theory\", linewidth=3)\n",
    "plt.xlabel(f\"Temperature in K\")\n",
    "plt.ylabel(f\"Pressure in Pa\")\n",
    "plt.legend()\n",
    "plt.show()\n",
    "print(f\"m = {m}\")"
   ]
  },
  {
   "cell_type": "markdown",
   "metadata": {},
   "source": [
    "Wir können bestätigen, dass es sich um einen linearen Zusammenhang handelt. Das bedeutet mathematisch:<br><br>\n",
    "$\n",
    "\\begin{align*}\n",
    "&p = k_3(T,V) \\cdot N\\\\\n",
    "\\Rightarrow& p \\propto N \\;\\; \\hbox{falls T,V konstant}\n",
    "\\end{align*}\n",
    "$"
   ]
  },
  {
   "cell_type": "markdown",
   "metadata": {},
   "source": [
    "Wir haben es geschafft, folgende drei Gleichungen numerisch zu prüfen:\n",
    "\n",
    "<ol>\n",
    "    <li>     $p \\propto \\frac{1}{V}$ für festes N, T</li>\n",
    "    <li>     $p \\propto T$ für festes N, V</li>\n",
    "    <li>     $p \\propto N$ für festes T, V </li>\n",
    "</ol>\n",
    "Das bedeutet, dass wir es geschafft haben, die ideale Gasgleichung zu zeigen!"
   ]
  },
  {
   "cell_type": "markdown",
   "metadata": {},
   "source": [
    "<h3>interaktive Simulation</h3>"
   ]
  },
  {
   "cell_type": "markdown",
   "metadata": {},
   "source": [
    "Zum Abschluss des Projekts hab ich eine kleine interakive Simulation erstellt. Dort gibt es folgende Einstellungsmöglichkeiten:\n",
    "\n",
    "<ul>\n",
    "    <li><i>+</i> add 10 Particles</li>\n",
    "    <li><i>-</i> remove 10 Particles </li>\n",
    "    <li><i>width (pm)</i> changes the width of the box</li>\n",
    "    <li><i>Velocity</i> changes the velocity ratio (2 means 200%)</li>\n",
    "    <li><i>start</i> starts the animation</li>\n",
    "    <li><i>stop</i> stops the animation</li>\n",
    "</ul>\n",
    "\n",
    "Wenn die Druckanzeige zu sehr schwankt, dann in der Simulationsklasse die Länge des Impuls Arrays und damit die Länge des Durchschnittimpulses eingestellt werden. "
   ]
  },
  {
   "cell_type": "code",
   "execution_count": null,
   "metadata": {},
   "outputs": [],
   "source": [
    "simulation.reset()\n",
    "simulation.impulse = np.zeros(500) #edit here if needed\n",
    "simulation.initialize()"
   ]
  },
  {
   "cell_type": "markdown",
   "metadata": {},
   "source": [
    "Feel free to explore!"
   ]
  },
  {
   "cell_type": "markdown",
   "metadata": {},
   "source": [
    "<h2> Summary </h2>"
   ]
  },
  {
   "cell_type": "code",
   "execution_count": null,
   "metadata": {},
   "outputs": [],
   "source": []
  }
 ],
 "metadata": {
  "kernelspec": {
   "display_name": "Python 3 (ipykernel)",
   "language": "python",
   "name": "python3"
  },
  "language_info": {
   "codemirror_mode": {
    "name": "ipython",
    "version": 3
   },
   "file_extension": ".py",
   "mimetype": "text/x-python",
   "name": "python",
   "nbconvert_exporter": "python",
   "pygments_lexer": "ipython3",
   "version": "3.10.4"
  }
 },
 "nbformat": 4,
 "nbformat_minor": 2
}
