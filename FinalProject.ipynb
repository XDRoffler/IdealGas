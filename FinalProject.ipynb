{
 "cells": [
  {
   "cell_type": "code",
   "execution_count": 2,
   "metadata": {},
   "outputs": [],
   "source": [
    "import numpy as np\n",
    "import matplotlib.pyplot as plt\n",
    "import scipy.stats as st\n",
    "import random\n",
    "import ipywidgets as widget\n",
    "from ipycanvas import Canvas, hold_canvas\n",
    "from time import sleep"
   ]
  },
  {
   "cell_type": "code",
   "execution_count": 5,
   "metadata": {},
   "outputs": [],
   "source": [
    "class my_pdf(st.rv_continuous):\n",
    "    def setFunction(self,f):\n",
    "        self.f = f\n",
    "    def getFunction(self):\n",
    "        return f\n",
    "    def _pdf(self,v):\n",
    "        return self.f(v)"
   ]
  },
  {
   "cell_type": "code",
   "execution_count": 6,
   "metadata": {},
   "outputs": [],
   "source": [
    "class particle:\n",
    "    \n",
    "    def rotMat(alpha, x):\n",
    "        return np.array([[np.cos(alpha), -np.sin(alpha)], [np.sin(alpha)], np.cos(alpha)]).dot(x)\n",
    "    \n",
    "    def pdf(v):\n",
    "        return n*(m/(2*pi*k*T))**(3/2)*4*pi*v**2*np.exp(-m*v**2/(2*k*T))\n",
    "    \n",
    "    def create(n):\n",
    "        y = np.array([])\n",
    "        m = my_pdf(a=0, b=10000)\n",
    "        m.setFunction(particle.pdf)\n",
    "        for _ in range(n):\n",
    "            k = m.rvs()\n",
    "            y=np.append(y,particle(m,3,3,random.randint(-50,50),random.randint(-50,50),2))\n",
    "        return y\n",
    "    \n",
    "    def collide(n):\n",
    "        x = [i.getX() for i in n]\n",
    "        y = [i.getY() for i in n]\n",
    "        \n",
    "        for i in range(len(x)):\n",
    "            for j in range(len(x)-(i+1)):\n",
    "                print((i,j+i+1))\n",
    "                print(x[i]-x[j+i+1])\n",
    "                dx = x[i]-x[j+i+1]\n",
    "                dy = y[i]-y[j+i+1]\n",
    "                \n",
    "                if np.sqrt(dx**2+dy**2)<=n[i].getR()+n[j+i+1].getR():\n",
    "                    bump(n[i], n[j+i+1], dx,dy)\n",
    "            \n",
    "    def bump(x,y,dx,dy):\n",
    "        v1 = np.array(x.getVelocity())\n",
    "        v2 = np.array(y.getVelocity())\n",
    "        v1s = rotMat(np.arctan2(dy,dx),v1)\n",
    "        v2s = rotMat(np.arctan2(dy,dx),v2)\n",
    "        \n",
    "        \n",
    "        \n",
    "    \n",
    "    def __init__(self, m, x,y, vx, vy,r):\n",
    "        self.m = m\n",
    "        self.vx = vx\n",
    "        self.vy = vy\n",
    "        self.x = x\n",
    "        self.y = y\n",
    "        self.r = r\n",
    "        \n",
    "    def getPosition(self):\n",
    "        return (self.x,self.y)\n",
    "    def getX(self):\n",
    "        return self.x\n",
    "    def getY(self):\n",
    "        return self.y\n",
    "    def getVelocity(self):\n",
    "        return (self.vx,self.vy)\n",
    "    def getVx(self):\n",
    "        return self.vx\n",
    "    def getVy(self):\n",
    "        return self.vy\n",
    "    def getR(self):\n",
    "        return self.r\n",
    "    \n",
    "    def move(self, dt):\n",
    "        self.x = self.vx * dt + self.x\n",
    "        self.y = self.vy * dt + self.y\n",
    "    \n",
    "    def collisionTest(self, width, height):\n",
    "        if self.x <= self.r:\n",
    "            self.vx = -self.vx\n",
    "        elif self.x >= width - self.r:\n",
    "            self.vx = -self.vx\n",
    "            \n",
    "        if self.y <= self.r: \n",
    "            self.vy = -self.vy\n",
    "        elif self.y >= height - self.r:\n",
    "            self.vy = -self.vy"
   ]
  },
  {
   "cell_type": "code",
   "execution_count": 7,
   "metadata": {},
   "outputs": [],
   "source": [
    "pi = np.pi\n",
    "k = 1.380649 * 10**-23 #m**2 kg s**-2 K**-1"
   ]
  },
  {
   "cell_type": "code",
   "execution_count": 8,
   "metadata": {},
   "outputs": [],
   "source": [
    "m = 4.002602**1.66*10**(-27) #kg\n",
    "n = 1 #mol\n",
    "T = 273.15 #K\n",
    "width = 400\n",
    "height = 200"
   ]
  },
  {
   "cell_type": "code",
   "execution_count": 9,
   "metadata": {},
   "outputs": [
    {
     "data": {
      "application/vnd.jupyter.widget-view+json": {
       "model_id": "b1b8b351c6f248be98e89c4eba45cd0b",
       "version_major": 2,
       "version_minor": 0
      },
      "text/plain": [
       "Canvas(height=200, width=400)"
      ]
     },
     "metadata": {},
     "output_type": "display_data"
    },
    {
     "name": "stdout",
     "output_type": "stream",
     "text": [
      "(0, 1)\n",
      "1.2000000000000002\n"
     ]
    },
    {
     "ename": "NameError",
     "evalue": "name 'bump' is not defined",
     "output_type": "error",
     "traceback": [
      "\u001b[0;31m---------------------------------------------------------------------------\u001b[0m",
      "\u001b[0;31mNameError\u001b[0m                                 Traceback (most recent call last)",
      "Input \u001b[0;32mIn [9]\u001b[0m, in \u001b[0;36m<cell line: 9>\u001b[0;34m()\u001b[0m\n\u001b[1;32m     14\u001b[0m         i\u001b[38;5;241m.\u001b[39mmove(dt)\n\u001b[1;32m     15\u001b[0m         i\u001b[38;5;241m.\u001b[39mcollisionTest(width, height)\n\u001b[0;32m---> 16\u001b[0m \u001b[43mparticle\u001b[49m\u001b[38;5;241;43m.\u001b[39;49m\u001b[43mcollide\u001b[49m\u001b[43m(\u001b[49m\u001b[43mp\u001b[49m\u001b[43m)\u001b[49m\n\u001b[1;32m     17\u001b[0m sleep(\u001b[38;5;241m0.02\u001b[39m)\n",
      "Input \u001b[0;32mIn [6]\u001b[0m, in \u001b[0;36mparticle.collide\u001b[0;34m(n)\u001b[0m\n\u001b[1;32m     24\u001b[0m dy \u001b[38;5;241m=\u001b[39m \u001b[38;5;28mabs\u001b[39m(y[i]\u001b[38;5;241m-\u001b[39my[j\u001b[38;5;241m+\u001b[39mi\u001b[38;5;241m+\u001b[39m\u001b[38;5;241m1\u001b[39m])\n\u001b[1;32m     26\u001b[0m \u001b[38;5;28;01mif\u001b[39;00m np\u001b[38;5;241m.\u001b[39msqrt(dx\u001b[38;5;241m*\u001b[39m\u001b[38;5;241m*\u001b[39m\u001b[38;5;241m2\u001b[39m\u001b[38;5;241m+\u001b[39mdy\u001b[38;5;241m*\u001b[39m\u001b[38;5;241m*\u001b[39m\u001b[38;5;241m2\u001b[39m)\u001b[38;5;241m<\u001b[39m\u001b[38;5;241m=\u001b[39mn[i]\u001b[38;5;241m.\u001b[39mgetR()\u001b[38;5;241m+\u001b[39mn[j\u001b[38;5;241m+\u001b[39mi\u001b[38;5;241m+\u001b[39m\u001b[38;5;241m1\u001b[39m]\u001b[38;5;241m.\u001b[39mgetR():\n\u001b[0;32m---> 27\u001b[0m     \u001b[43mbump\u001b[49m(n[i], n[j\u001b[38;5;241m+\u001b[39mi\u001b[38;5;241m+\u001b[39m\u001b[38;5;241m1\u001b[39m])\n",
      "\u001b[0;31mNameError\u001b[0m: name 'bump' is not defined"
     ]
    }
   ],
   "source": [
    "canvas = Canvas(width=width, height=height)\n",
    "\n",
    "p = particle.create(1000)\n",
    "steps_number = 100\n",
    "dt = 0.02\n",
    "display(canvas)\n",
    "\n",
    "\n",
    "for _ in range(steps_number):\n",
    "    with hold_canvas():\n",
    "        canvas.clear()\n",
    "        for i in p:\n",
    "            canvas.fill_circle(i.getX(), i.getY(), i.getR())\n",
    "            i.move(dt)\n",
    "            i.collisionTest(width, height)\n",
    "    particle.collide(p)\n",
    "    sleep(0.02)"
   ]
  },
  {
   "cell_type": "code",
   "execution_count": 9,
   "metadata": {},
   "outputs": [
    {
     "name": "stdout",
     "output_type": "stream",
     "text": [
      "[3 0]\n"
     ]
    }
   ],
   "source": [
    "A=np.array([[1,0],[0,0]])\n",
    "print(A.dot(np.array([3,3])))"
   ]
  },
  {
   "cell_type": "code",
   "execution_count": null,
   "metadata": {},
   "outputs": [],
   "source": []
  },
  {
   "cell_type": "code",
   "execution_count": null,
   "metadata": {},
   "outputs": [],
   "source": []
  },
  {
   "cell_type": "code",
   "execution_count": null,
   "metadata": {},
   "outputs": [],
   "source": []
  }
 ],
 "metadata": {
  "kernelspec": {
   "display_name": "Python 3 (ipykernel)",
   "language": "python",
   "name": "python3"
  },
  "language_info": {
   "codemirror_mode": {
    "name": "ipython",
    "version": 3
   },
   "file_extension": ".py",
   "mimetype": "text/x-python",
   "name": "python",
   "nbconvert_exporter": "python",
   "pygments_lexer": "ipython3",
   "version": "3.10.4"
  }
 },
 "nbformat": 4,
 "nbformat_minor": 2
}
